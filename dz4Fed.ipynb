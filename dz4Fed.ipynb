{
  "nbformat": 4,
  "nbformat_minor": 0,
  "metadata": {
    "colab": {
      "name": "dz4Fed.ipynb",
      "provenance": [],
      "collapsed_sections": [],
      "toc_visible": true
    },
    "kernelspec": {
      "name": "python3",
      "display_name": "Python 3"
    }
  },
  "cells": [
    {
      "cell_type": "markdown",
      "metadata": {
        "id": "0CNWIJzoi7gU",
        "colab_type": "text"
      },
      "source": [
        "# **Домашнее задание 4**\n",
        "\n",
        "**Проверка статистических гипотез**\n",
        "\n",
        "**Федоров Сергей Скб172** \n"
      ]
    },
    {
      "cell_type": "markdown",
      "metadata": {
        "id": "lzduLs6Yli7-",
        "colab_type": "text"
      },
      "source": [
        "## 4.1 Проверка гипотез о виде распределения"
      ]
    },
    {
      "cell_type": "markdown",
      "metadata": {
        "id": "-9aJBEo2p4C7",
        "colab_type": "text"
      },
      "source": [
        "Написанное и выведенное иногда может отличаться, так как для того что бы построить графики мне пришлось все перезапустить. Но вроде все совпадает и все хорошо. Пример вывело у меня на экран выборочное среднее 0.19998, а дальше я пишу, что оно 0.1995 "
      ]
    },
    {
      "cell_type": "markdown",
      "metadata": {
        "id": "KDRk1ndF0Jkn",
        "colab_type": "text"
      },
      "source": [
        "Немножко теории. \n",
        "\n",
        "Критерий согласия **`Колмогорова`** применяется в случаях непрерывности $F(x)$ Определим статистику Колмогорова:\n",
        "\n",
        "$$ D_n = D_n(x) = {\\underset{-\\infty<x<\\infty}{sup}} |\\hat{F_n}(x) - F(x)|$$ \n",
        " это максимальное отклонение эмпирической функции распределения $\\hat{F}_n(x)$, построенной по выборке от гипотетической функции $F(x)$. Работает только для непрерывных распределений.\n",
        "\n",
        "\n",
        "Из теоремы об оценке относительной частоты произвольного события в n независимых испытаниях и из следствия из неравенства Чебышева нам известно, что эмпирическая функция распределния ялвется оптимальной, несмещённой,   состоятельной оценкой для $F(x)$. Поэтому\n",
        "при больших n, в тех случаях, когда гипотеза $H_0$ истинна, значение $D_n$ не должно отклоняться от нуля. Следовательно, критическую область критерия, основанного на статистике $T = D_n$ следует задавать в виде $T_{1\\alpha}$ = {t $\\geq$ $t_\\alpha$ }.\n",
        "\n",
        "Критическая граница $t_\\alpha$ при заданном уроне значимости α расчитвается на основании теоремы Колмогорова и при достаточном большом n(n $\\geq$ 30), положив, что $t_\\alpha= \\frac{\\lambda_\\alpha}{\\sqrt{n}}$\n",
        ", где $K(\\lambda_\\alpha ) = 1 − \\alpha $(по Теореме Колмогорова) будем иметь:\n",
        "\n",
        "\n",
        "P{$D_n \\in T_{1\\alpha}|H_0$} = P{$ \\sqrt{n}D_n \\geq \\lambda_\\alpha |H_0 $} $ \\approx 1 − (\\lambda_\\alpha ) = \\alpha.$\n",
        "\n",
        "Критерий согласия Колморогова:\n",
        "Если $n \\geq 30$ и при выбранном уровне значимости $\\alpha$ число $\\lambda_\\alpha$ определено как $K(\\lambda_\\alpha ) = 1 − \\alpha$, то гипотиза $H_0$ т.т.т. $\\sqrt{n}D_n \\geq \\lambda_\\alpha$."
      ]
    },
    {
      "cell_type": "markdown",
      "metadata": {
        "id": "HbFO5YOQDFh6",
        "colab_type": "text"
      },
      "source": [
        "\n",
        "\n",
        "---\n",
        "\n"
      ]
    },
    {
      "cell_type": "markdown",
      "metadata": {
        "id": "3yHCTjH2DHM3",
        "colab_type": "text"
      },
      "source": [
        "Теперь поговорим о **Критерий согласия $\\chi^2$**\n",
        "\n",
        "Для простой гипотезы. \n",
        "\n",
        "Определяем вектор чстот $v = (v_1,...,v_n)$ на основе соответствующих частот исходов.\n",
        "\n",
        "Пусть требуется проверить простую гипотизу : $H_0$:   $p_{\\overline{i}:j} > 0$ т.т.т. $(\\overline{i}j) \\in \\epsilon^{s+1}$ . Будем расматривать лишь те комбинации $(\\overline{i}j)$, для которых $p_{\\overline{i}:j}^*>$, т.е. при $(\\overline{i}j) \\in \\epsilon_0^{s+1}$ В методе хи-квадрат сравниваются наблюдаемые частоты {$v_{\\overline{i}j},(\\overline{i}j)\\in \\epsilon_0^{s+1}$} с соответсвующими \"Гипотетическими частотами\" {$v_{\\overline{i}}p_{\\overline{i}:j}*$} и в качестве тестовой статистике используют статистику $\\stackrel{*}{X}_{n,s+1}^{2} = \\sum\\limits_{(\\overline{i}j)\\in \\epsilon_0^{s+1}}\\frac{(v_{\\overline{i}j} - v_{\\overline{i}} \\stackrel{*}{p}_{\\overline{i}:j})}{ v_{\\overline{i}} \\stackrel{*}{p}_{\\overline{i}:j}}$\n",
        "\n",
        "\n",
        "ТУТ $v_{\\overline{i}} = \\sum\\limits_{j=1}^{N}v_{\\overline{i}j}$"
      ]
    },
    {
      "cell_type": "markdown",
      "metadata": {
        "id": "hw1uB8XcNH7V",
        "colab_type": "text"
      },
      "source": [
        "**Критерий хи-квадрат для сложной гипотизы**\n",
        "\n",
        " Провка сложной гипотезы $H^0(\\theta)$ вида $H^0 = H^0(\\Theta )$, $p_{\\overline{i}:j}(\\Theta )$ , $\\theta \\in \\Theta \\$\n",
        "\n",
        "\n",
        "Внутри нашей гипотезы $H_s$ и будем предполагать выполненным условие регулярности . А критерий согласия для гипотезы $H^0(\\Theta )$ строится по аналогии со случаем простой гипотезы, т.е. с использованием стандартной статистики типа хи-квадрат \n",
        "\n",
        "$$X^2_{n,s+1}(\\theta) = \\sum\\limits_{(\\overline{i}j) \\in \\epsilon_0^{s+1}} \\frac{(v_{\\overline{i}j} - v_{\\overline{i}} p_{\\overline{i}:j}(\\theta))^2}{v_{\\overline{i}}p_{\\overline{i}:j}}$$\n",
        "\n",
        "Эту статистику мы пока не можем использовать для построения критерия, так как она зависит от неизвестного параметра $\\theta$. Но если параметр $\\theta$ предварительно оценить по данным из $$ v_{\\overline{i}j} = \\sum\\limits_{t=1}^{n-s} I(\\varepsilon = i_1, \\varepsilon_{t+1} = i_2, \\varepsilon_{t+s-1},\\varepsilon_{t+s} = j )$$\n",
        "\n",
        "\n",
        "Где $v_{\\overline{i}j}$ частота появления комбинации $ (\\overline{i}j) = (\\overline{i_1}..  i_sj)$ , называемых (s+1) - цепочками этой последовательности (что выше)\n",
        "\n",
        "теперь заменяем его какой-то оценкой $\\hat{\\theta}_n = \\hat{\\theta}_n( [v_{\\overline{i}j}]) $, а затем заменим функцию $\\hat{p}_{\\overline{i}:j}(\\theta)$\n",
        "оценками $\\hat{p}_{\\overline{i}:j}=p_{\\overline{i}:j}(\\hat{\\theta})$ , то мы придем уже к настоящей тестовой статистике $$\\hat{X}^2_{n,s+1} = X^2_{n,s+1}(\\hat{\\theta}_n) = \\sum\\limits_{(\\overline{i}j)\\in \\varepsilon_0^{s+1}} \\frac{(v_{\\overline{i}j} - v_{\\overline{v}} \\hat{p}_{\\overline{i}j})^2 }{v_{\\overline{i}} \\hat{p}_{\\overline{i}:j}}$$"
      ]
    },
    {
      "cell_type": "markdown",
      "metadata": {
        "id": "XRWLCnIQdl5q",
        "colab_type": "text"
      },
      "source": [
        "Проверяем гипотезу $H_0 : \\overline{p} = \\overline{p}^*$, где $p^* = (p^*_1,... p_N^*)$ - заданный вероятностный вектор.\n",
        "Определяем меру отклонения эмпирических данных (относительных частот $\\frac{\\overline{v}}{n}$) от гипотетических значений $p^*-\\chi^2$\n",
        "\n",
        "$$ \\chi^2_n(\\overline{v}) = \\sum\\limits_{j=1}^{N} \\frac{(v_j - np_j^*)^2}{np_j^*}$$ \n",
        "\n",
        "Для выбранного уровня значимости $\\alpha$ по таблице $\\chi^2$ распределения нахождения значения $\\chi^2_{1-\\alpha,k}$, где k= w -1, где w - число интервалов вариационного ряда. Если $\\chi^2$ больше критического, то мы отвергаем предложенную нами гипотезу. "
      ]
    },
    {
      "cell_type": "markdown",
      "metadata": {
        "id": "0w1eGywzZ1jU",
        "colab_type": "text"
      },
      "source": [
        "Начальные приготовления. Выборки возьму из прошлых дз. "
      ]
    },
    {
      "cell_type": "markdown",
      "metadata": {
        "id": "ZabFbTCZbGLs",
        "colab_type": "text"
      },
      "source": [
        "Пуассон"
      ]
    },
    {
      "cell_type": "code",
      "metadata": {
        "id": "_9Z2xV_ebHYL",
        "colab_type": "code",
        "outputId": "3b6a6b4c-82f0-4b23-9046-4ccb7a341b61",
        "colab": {
          "base_uri": "https://localhost:8080/",
          "height": 34
        }
      },
      "source": [
        "import numpy as np\n",
        "def poisonFun(lam, n, c):\n",
        "  poisson_arr = []\n",
        "  s = np.exp(-lam)\n",
        "  r = s \n",
        "  k = 0 \n",
        "  for k in range(n):\n",
        "    s = np.exp(-lam)\n",
        "    r = s \n",
        "    k = 0 \n",
        "    alf = np.abs(np.random.uniform(-1,0))\n",
        "    #alf  = np.random.rand()\n",
        "    while alf > s:\n",
        "      k += 1\n",
        "      r *= lam/k\n",
        "      s += r\n",
        "    poisson_arr.append(k)\n",
        "  # print(poisson_arr)\n",
        "  c.append(poisson_arr)\n",
        "    \n",
        "\n",
        "\n",
        "lam = float(input('Введите лямбду '))\n",
        "poison5 = []\n",
        "# print('n = 5')\n",
        "for c in range(5):\n",
        "    poisonFun(lam, 5,poison5)\n",
        "\n",
        "\n",
        "\n",
        "# print('n = 10')\n",
        "poison10 = []\n",
        "for c in range(5):\n",
        "    poisonFun(lam, 10, poison10)\n",
        "\n",
        "\n",
        "\n",
        "# print('n = 100')\n",
        "poison100 = []\n",
        "for c in range(5):\n",
        "    poisonFun(lam, 100, poison100)\n",
        "\n",
        "\n",
        "poison1000 = []\n",
        "# print('n = 1000')\n",
        "for c in range(5):\n",
        "    poisonFun(lam, 1000, poison1000)\n",
        "\n"
      ],
      "execution_count": 3,
      "outputs": [
        {
          "output_type": "stream",
          "text": [
            "Введите лямбду 5\n"
          ],
          "name": "stdout"
        }
      ]
    },
    {
      "cell_type": "code",
      "metadata": {
        "id": "QLE9BKpkbXPp",
        "colab_type": "code",
        "colab": {}
      },
      "source": [
        "poison10005 = []\n",
        "\n",
        "# print('n = 10*5')\n",
        "for c in range(5):\n",
        "    poisonFun(lam, 10**5, poison10005)\n",
        "\n"
      ],
      "execution_count": 0,
      "outputs": []
    },
    {
      "cell_type": "code",
      "metadata": {
        "id": "gi5bbxtdbcra",
        "colab_type": "code",
        "colab": {}
      },
      "source": [
        ""
      ],
      "execution_count": 0,
      "outputs": []
    },
    {
      "cell_type": "code",
      "metadata": {
        "id": "jEGn9o_Qvq23",
        "colab_type": "code",
        "outputId": "790a87bc-7f14-4fbe-a072-44c4704c240c",
        "colab": {
          "base_uri": "https://localhost:8080/",
          "height": 34
        }
      },
      "source": [
        "import numpy as np\n",
        "import math\n",
        "def expoon(lam, n, c):\n",
        "  exponential_arr = []\n",
        "  for i in range(n):\n",
        "    R = np.abs(np.random.uniform(-1,0)) # объяснено в tex\n",
        "    x = -(1/lam)*math.log(1-R)\n",
        "    y = -(1/lam)*math.log(R)\n",
        "    exponential_arr.append(float('{:.2f}'.format(y)))\n",
        "  # print(exponential_arr)\n",
        "  c.append(exponential_arr)\n",
        "\n",
        "\n",
        "lam = float(input('Введите лямбду '))\n",
        "\n",
        "expan5 = []\n",
        "# print('n = 5')\n",
        "for c in range(5):\n",
        "    expoon(lam, 5, expan5)\n",
        "\n",
        "expan10 = []\n",
        "# print('n = 10')\n",
        "for c in range(5):\n",
        "    expoon(lam, 10, expan10)\n",
        "\n",
        "\n",
        "expan100 = []\n",
        "# print('n = 100')\n",
        "for c in range(5):\n",
        "    expoon(lam, 100, expan100)\n",
        "\n",
        "expan1000 = []\n",
        "# print('n = 10000')\n",
        "for c in range(5):\n",
        "    expoon(lam, 1000, expan1000)\n",
        "\n",
        "\n"
      ],
      "execution_count": 5,
      "outputs": [
        {
          "output_type": "stream",
          "text": [
            "Введите лямбду 5\n"
          ],
          "name": "stdout"
        }
      ]
    },
    {
      "cell_type": "markdown",
      "metadata": {
        "id": "2-OJpYaHvha1",
        "colab_type": "text"
      },
      "source": [
        "И для $10^{5}$ не советую крутить вправо ) "
      ]
    },
    {
      "cell_type": "code",
      "metadata": {
        "id": "wRkYHxUvA8zL",
        "colab_type": "code",
        "colab": {}
      },
      "source": [
        "import numpy as np # Пришлось делать отдельно так как это особый случай который требует много времени :) \n",
        "import math\n",
        "def expoon(lam, n):\n",
        "  exponential_arr = []\n",
        "  for i in range(n):\n",
        "    R = np.abs(np.random.uniform(-1,0)) # объяснено в tex\n",
        "    x = -(1/lam)*math.log(1-R)\n",
        "    y = -(1/lam)*math.log(R)\n",
        "    exponential_arr.append(float('{:.2f}'.format(y)))\n",
        "  expan10005.append(exponential_arr)\n",
        "\n",
        "expan10005 = []\n",
        "# print('n = 10**5')\n",
        "\n",
        "for c in range(5):\n",
        "    expoon(lam, 10**5,)\n",
        "\n",
        "# expan10005 # так выводит ) "
      ],
      "execution_count": 0,
      "outputs": []
    },
    {
      "cell_type": "markdown",
      "metadata": {
        "id": "ZDYUK_T6lsG3",
        "colab_type": "text"
      },
      "source": [
        "### 4.1.1 Задание для рассматриваемых распределений\n"
      ]
    },
    {
      "cell_type": "markdown",
      "metadata": {
        "id": "PSpzcSxoN-p3",
        "colab_type": "text"
      },
      "source": [
        "#### **Распределение Пуассона.** "
      ]
    },
    {
      "cell_type": "markdown",
      "metadata": {
        "id": "CSFDuvLepV5G",
        "colab_type": "text"
      },
      "source": [
        "##### Критерий согласия хи-квадрат\n"
      ]
    },
    {
      "cell_type": "code",
      "metadata": {
        "id": "dNMyfHCzpVIU",
        "colab_type": "code",
        "outputId": "320fa0ec-2e79-464b-9924-cb55a87e736c",
        "colab": {
          "base_uri": "https://localhost:8080/",
          "height": 374
        }
      },
      "source": [
        "import math\n",
        "import pandas as pd\n",
        "import numpy as np\n",
        "import pandas as pd\n",
        "from collections import Counter\n",
        "import math \n",
        "\n",
        "def allinone(mas):\n",
        "  allinone = []\n",
        "  for i in range(len(mas)):\n",
        "    allinone += mas[i]\n",
        "  return allinone\n",
        "\n",
        "allpoixi = allinone(poison10005)\n",
        "# print(allpoixi)\n",
        "\n",
        "print('В результате опроса 500к людей были получены данные о количестве просматриваемых за месяц серий аниме на этапе \"онгоинг\" :')\n",
        "for i in np.unique(allpoixi):\n",
        "  print(i , ' = ', Counter(allpoixi)[i])\n",
        "\n",
        "\n",
        "\n"
      ],
      "execution_count": 0,
      "outputs": [
        {
          "output_type": "stream",
          "text": [
            "В результате опроса 500к людей были получены данные о количестве просматриваемых за месяц серий аниме на этапе \"онгоинг\" :\n",
            "0  =  3360\n",
            "1  =  16713\n",
            "2  =  42260\n",
            "3  =  70198\n",
            "4  =  87616\n",
            "5  =  87759\n",
            "6  =  72959\n",
            "7  =  51851\n",
            "8  =  32823\n",
            "9  =  18574\n",
            "10  =  9025\n",
            "11  =  4182\n",
            "12  =  1674\n",
            "13  =  656\n",
            "14  =  238\n",
            "15  =  62\n",
            "16  =  36\n",
            "17  =  9\n",
            "18  =  4\n",
            "19  =  1\n"
          ],
          "name": "stdout"
        }
      ]
    },
    {
      "cell_type": "markdown",
      "metadata": {
        "id": "RYnhjmrNuJcX",
        "colab_type": "text"
      },
      "source": [
        "Соответствует ли данное распределение закону редких событий Пуассона? \n",
        "Решение: \n",
        "Проверим с помощью $\\chi^2$ -критерия Пирсона нулевую гипотезу $H_0$ = (Число\n",
        "просматриваемых за месяц серий аниме на этапе \"онгоинг\" распределено по закону Пуассона), то есть $$ p_k = P(X=k)=\\frac{\\lambda^k}{k!}e^{-\\lambda}, k = 0,1,2... $$\n",
        "При уровне значимости 0.1 и 0.05 (из задания)\n",
        "\n",
        "Выборочная средняя $\\overline{x}$"
      ]
    },
    {
      "cell_type": "markdown",
      "metadata": {
        "id": "juZ3liQHud-P",
        "colab_type": "text"
      },
      "source": [
        "Будем переберать $\\lambda$ и выбирать промежутки "
      ]
    },
    {
      "cell_type": "code",
      "metadata": {
        "id": "OxQr4RmruSq8",
        "colab_type": "code",
        "colab": {}
      },
      "source": [
        "def teorver(lam, k):\n",
        "  return ((lam**k)*math.exp(-lam))/(math.factorial(k))\n",
        "import warnings\n",
        "warnings.filterwarnings(\"ignore\")\n",
        "\n",
        "def funck(lam):\n",
        "  df = pd.DataFrame(columns = ['k', 'n_k', 'p_k','n_k*'])\n",
        "  df['k'] = np.unique(allpoixi)\n",
        "  for i in np.unique(allpoixi):\n",
        "      df['n_k'][i] = Counter(allpoixi)[i]\n",
        "      df['p_k'][i] = teorver(lam, i)\n",
        "      df['n_k*'][i] = len(allpoixi)*df['p_k'][i]\n",
        "  df['(n_k-n_k*)^2/n_k*'] = ((df['n_k'] - df['n_k*'])**2)/df['n_k*']\n",
        "  df.loc['sum'] = df.sum()\n",
        "  return df['(n_k-n_k*)^2/n_k*']['sum']"
      ],
      "execution_count": 0,
      "outputs": []
    },
    {
      "cell_type": "markdown",
      "metadata": {
        "id": "60MEVYxO4h8Q",
        "colab_type": "text"
      },
      "source": [
        "Теперь все готово, будем выбирать лямбды. "
      ]
    },
    {
      "cell_type": "code",
      "metadata": {
        "id": "G6NEH8AW4lir",
        "colab_type": "code",
        "outputId": "636aa3fd-6d8a-48db-b9b1-e19f86346a23",
        "colab": {
          "base_uri": "https://localhost:8080/",
          "height": 187
        }
      },
      "source": [
        "for laamm in np.linspace(0.1,10,10):\n",
        "  print('lam = ', laamm, 'chi^2 =', funck(laamm))"
      ],
      "execution_count": 0,
      "outputs": [
        {
          "output_type": "stream",
          "text": [
            "lam =  0.1 chi^2 = 2.4961277354409652e+29\n",
            "lam =  1.2000000000000002 chi^2 = 74419570248.27103\n",
            "lam =  2.3000000000000003 chi^2 = 13303996.282683846\n",
            "lam =  3.4000000000000004 chi^2 = 572424.4800706749\n",
            "lam =  4.5 chi^2 = 29136.215850470864\n",
            "lam =  5.6 chi^2 = 32792.88755299619\n",
            "lam =  6.7 chi^2 = 268358.0124125273\n",
            "lam =  7.800000000000001 chi^2 = 863116.3266100527\n",
            "lam =  8.9 chi^2 = 2254934.4400085295\n",
            "lam =  10.0 chi^2 = 5576452.788865025\n"
          ],
          "name": "stdout"
        }
      ]
    },
    {
      "cell_type": "markdown",
      "metadata": {
        "id": "XGYGIdIv4_a-",
        "colab_type": "text"
      },
      "source": [
        "Видим что на промежутка 4.5 - 5.6 было меньше всего. \n",
        "Воспользуемся классной функцией из питона которая ищет минимум возвращаемой фунции на промежутке"
      ]
    },
    {
      "cell_type": "code",
      "metadata": {
        "id": "aRfK5GPh55RV",
        "colab_type": "code",
        "outputId": "08f6e210-e496-4d94-81c1-59e2086c1b24",
        "colab": {
          "base_uri": "https://localhost:8080/",
          "height": 51
        }
      },
      "source": [
        "from scipy import optimize\n",
        "lambdamin = optimize.fminbound(funck, 4.5, 5.6)\n",
        "print('lambda min =', lambdamin)\n",
        "print('lam = ', lambdamin, 'chi^2 =', funck(lambdamin))"
      ],
      "execution_count": 0,
      "outputs": [
        {
          "output_type": "stream",
          "text": [
            "lambda min = 5.004100888660578\n",
            "lam =  5.004100888660578 chi^2 = 25.087717794669015\n"
          ],
          "name": "stdout"
        }
      ]
    },
    {
      "cell_type": "markdown",
      "metadata": {
        "id": "yJi9em9n7GF0",
        "colab_type": "text"
      },
      "source": [
        "Это $\\chi^2 = 25.09$ при k = 19(кол-во вар) - 2 = 17 итого 17 степеней свободы, мы можем принять теорию только при критерии значимости $\\lambda = 0.01$ и $\\lambda = 0.05$, которые равны 33.4 и 27.6 соответственно. И при них мы принимаем нашу теорию. \n",
        "\n",
        "Сравниваем полученное значение критерия хи-квадрат $\\chi^2$ с критическим: 25.087717794669015 < 33.4 и меньше 27.6, следовательно мы можем принять нашу гипотизу.  Для уровня значимости α = 0.1 $\\chi^2_{1-\\alpha,m}=24.8$ и при таком уровне значимости мы не принимаем гипотизу. "
      ]
    },
    {
      "cell_type": "markdown",
      "metadata": {
        "id": "RO60FMmZl62Y",
        "colab_type": "text"
      },
      "source": [
        "###### График "
      ]
    },
    {
      "cell_type": "code",
      "metadata": {
        "id": "DQKJWjr6mcgV",
        "colab_type": "code",
        "outputId": "e7b05493-9df2-42e1-e696-a40d61502593",
        "colab": {
          "base_uri": "https://localhost:8080/",
          "height": 282
        }
      },
      "source": [
        "import seaborn as sn\n",
        "sn.distplot(allpoixi,bins=5)"
      ],
      "execution_count": 0,
      "outputs": [
        {
          "output_type": "execute_result",
          "data": {
            "text/plain": [
              "<matplotlib.axes._subplots.AxesSubplot at 0x7f036ef04a90>"
            ]
          },
          "metadata": {
            "tags": []
          },
          "execution_count": 105
        },
        {
          "output_type": "display_data",
          "data": {
            "image/png": "[encoded data removed]",
            "text/plain": [
              "<Figure size 432x288 with 1 Axes>"
            ]
          },
          "metadata": {
            "tags": []
          }
        }
      ]
    },
    {
      "cell_type": "markdown",
      "metadata": {
        "id": "m-NpaMP8o92k",
        "colab_type": "text"
      },
      "source": [
        "##### Критерий согласия хи-квадрат для сложной гипотезы"
      ]
    },
    {
      "cell_type": "markdown",
      "metadata": {
        "id": "g5tWgpeXXdcr",
        "colab_type": "text"
      },
      "source": [
        "Предположим, что у нас есть ответы людей о количестве просматриваемых серий аниме на этапе \"онгоинг\" в месяц и в нашем опросе поучаствовало 500к людей. Проилюстрируем данные: "
      ]
    },
    {
      "cell_type": "code",
      "metadata": {
        "id": "k0n82xF-H8Hg",
        "colab_type": "code",
        "colab": {}
      },
      "source": [
        "def obidenenie(mas):\n",
        "  allinone = []\n",
        "  for i in range(len(mas)):  \n",
        "    allinone += mas[i]\n",
        "  return allinone"
      ],
      "execution_count": 0,
      "outputs": []
    },
    {
      "cell_type": "code",
      "metadata": {
        "id": "s6PNq6giJIed",
        "colab_type": "code",
        "outputId": "3069e281-0974-47ae-b67d-11a4f2086329",
        "colab": {
          "base_uri": "https://localhost:8080/",
          "height": 357
        }
      },
      "source": [
        "import numpy as np\n",
        "import pandas as pd\n",
        "from collections import Counter\n",
        "import math \n",
        "# print(np.unique(obidenenie(poison10005)))\n",
        "# print(Counter(obidenenie(poison10005)))\n",
        "# print(len(obidenenie(poison10005)))\n",
        "print('В результате опроса 500к людей были получены данные о количестве просматриваемых за месяц серий аниме на этапе \"онгоинг\" :')\n",
        "for i in np.unique(obidenenie(poison10005)):\n",
        "  print(i , ' = ', Counter(obidenenie(poison10005))[i])\n",
        "\n"
      ],
      "execution_count": 0,
      "outputs": [
        {
          "output_type": "stream",
          "text": [
            "В результате опроса 500к людей были получены данные о количестве просматриваемых за месяц серий аниме на этапе \"онгоинг\" :\n",
            "0  =  3338\n",
            "1  =  16942\n",
            "2  =  42129\n",
            "3  =  70399\n",
            "4  =  87303\n",
            "5  =  87732\n",
            "6  =  73006\n",
            "7  =  52482\n",
            "8  =  32594\n",
            "9  =  18273\n",
            "10  =  8981\n",
            "11  =  4094\n",
            "12  =  1751\n",
            "13  =  667\n",
            "14  =  225\n",
            "15  =  54\n",
            "16  =  19\n",
            "17  =  10\n",
            "18  =  1\n"
          ],
          "name": "stdout"
        }
      ]
    },
    {
      "cell_type": "markdown",
      "metadata": {
        "id": "49pARMyzgKXC",
        "colab_type": "text"
      },
      "source": [
        "Соответствует ли данное распределение закону редких событий Пуассона? \n",
        "Решение: \n",
        "Проверим с помощью $\\chi^2$ -критерия Пирсона нулевую гипотезу $H_0$ = (Число\n",
        "просматриваемых за месяц серий аниме на этапе \"онгоинг\" распределено по закону Пуассона), то есть $$ p_k = P(X=k)=\\frac{\\lambda^k}{k!}e^{-\\lambda}, k = 0,1,2... $$\n",
        "При уровне значимости 0.1 и 0.05 (из задания)\n",
        "\n",
        "Выборочная средняя $\\overline{x}$"
      ]
    },
    {
      "cell_type": "code",
      "metadata": {
        "id": "e340_GBZiK2y",
        "colab_type": "code",
        "outputId": "3086bc83-8b48-4640-d5f8-21d65cba526b",
        "colab": {
          "base_uri": "https://localhost:8080/",
          "height": 34
        }
      },
      "source": [
        "print('Выборочное среднее = ', targetmean(poison10005))"
      ],
      "execution_count": 0,
      "outputs": [
        {
          "output_type": "stream",
          "text": [
            "Выборочное среднее =  4.999734\n"
          ],
          "name": "stdout"
        }
      ]
    },
    {
      "cell_type": "markdown",
      "metadata": {
        "id": "pTHhPZYLeFom",
        "colab_type": "text"
      },
      "source": [
        "Примем в качестве оценки $\\lambda$ среднее число журналов $\\lambda = \\overline{x}$ среднее число просмотренных тайтлов. \n",
        "\n",
        "Найдем теоритические вероятности $p_k$ и теоритические частоты $n_k'=n\\cdotp_k=500000\\cdot p_k$ И создадим таблицу для наглядности: "
      ]
    },
    {
      "cell_type": "code",
      "metadata": {
        "id": "P1vZ63fgmOJV",
        "colab_type": "code",
        "outputId": "1c843a4f-e0c4-4aee-ee9e-0a37edf59b10",
        "colab": {
          "base_uri": "https://localhost:8080/",
          "height": 221
        }
      },
      "source": [
        "import math\n",
        "import pandas as pd\n",
        "def lenn(mas):\n",
        "  sum = 0\n",
        "  for i in range(len(mas)):\n",
        "    sum+=len(mas[i])\n",
        "    # print(len(mas[i]))\n",
        "  return sum\n",
        "\n",
        "def teorver(k):\n",
        "  return (((targetmean(poison10005))**k)*math.exp(-targetmean(poison10005)))/(math.factorial(k))\n",
        "\n",
        "\n",
        "df = pd.DataFrame(columns = ['k', 'n_k', 'p_k','n_k*'])\n",
        "df['k'] = np.unique(obidenenie(poison10005))\n",
        "for i in np.unique(obidenenie(poison10005)):\n",
        "    df['n_k'][i] = Counter(obidenenie(poison10005))[i]\n",
        "    df['p_k'][i] = teorver(i)\n",
        "    df['n_k*'][i] = lenn(poison10005)*df['p_k'][i]"
      ],
      "execution_count": 0,
      "outputs": [
        {
          "output_type": "stream",
          "text": [
            "/usr/local/lib/python3.6/dist-packages/ipykernel_launcher.py:17: SettingWithCopyWarning: \n",
            "A value is trying to be set on a copy of a slice from a DataFrame\n",
            "\n",
            "See the caveats in the documentation: http://pandas.pydata.org/pandas-docs/stable/user_guide/indexing.html#returning-a-view-versus-a-copy\n",
            "/usr/local/lib/python3.6/dist-packages/ipykernel_launcher.py:18: SettingWithCopyWarning: \n",
            "A value is trying to be set on a copy of a slice from a DataFrame\n",
            "\n",
            "See the caveats in the documentation: http://pandas.pydata.org/pandas-docs/stable/user_guide/indexing.html#returning-a-view-versus-a-copy\n",
            "/usr/local/lib/python3.6/dist-packages/ipykernel_launcher.py:19: SettingWithCopyWarning: \n",
            "A value is trying to be set on a copy of a slice from a DataFrame\n",
            "\n",
            "See the caveats in the documentation: http://pandas.pydata.org/pandas-docs/stable/user_guide/indexing.html#returning-a-view-versus-a-copy\n"
          ],
          "name": "stderr"
        }
      ]
    },
    {
      "cell_type": "markdown",
      "metadata": {
        "id": "T57B2N3hw5Kj",
        "colab_type": "text"
      },
      "source": [
        "В книге в параграфе [10](https://drive.google.com/drive/folders/1Tc1lvCc7X-agu7XDbAYaISW5ndeayzg5) написано, что: крайней мере минимальная ожидаемая частота должна быть больше 1. Объединяем малочисленные частоты:"
      ]
    },
    {
      "cell_type": "code",
      "metadata": {
        "id": "8zlyMq1440bp",
        "colab_type": "code",
        "colab": {}
      },
      "source": [
        "# df[10:19].sum()\n",
        "Ndf = df.copy(deep=True)"
      ],
      "execution_count": 0,
      "outputs": []
    },
    {
      "cell_type": "code",
      "metadata": {
        "id": "4s6qZv5eyR9O",
        "colab_type": "code",
        "colab": {}
      },
      "source": [
        "# print(df)\n",
        "\n",
        "# df.loc['Sum Fruit'] = df.sum()\n",
        "# Ndf.iloc['20']=Ndf.iloc[10]\n",
        "Ndf.loc['>8'] = Ndf[8:19].sum()\n",
        "Ndf.drop(list(range(8,19)), inplace = True) \n",
        "Ndf.loc[2] =  Ndf[0:3].sum()\n",
        "Ndf.drop(list(range(0,2)), inplace = True) \n",
        "Ndf['(n_k-n_k*)^2/n_k*'] = ((Ndf['n_k'] - Ndf['n_k*'])**2)/Ndf['n_k*']\n",
        "Ndf.loc['sum'] = Ndf.sum()"
      ],
      "execution_count": 0,
      "outputs": []
    },
    {
      "cell_type": "code",
      "metadata": {
        "id": "xUsC0CE9PiZy",
        "colab_type": "code",
        "colab": {}
      },
      "source": [
        "Ndf =  Ndf.rename({2: '0-2'})"
      ],
      "execution_count": 0,
      "outputs": []
    },
    {
      "cell_type": "code",
      "metadata": {
        "id": "97T9KoI65M1-",
        "colab_type": "code",
        "outputId": "af5486a7-f414-4305-b257-65e3836bc8e9",
        "colab": {
          "base_uri": "https://localhost:8080/",
          "height": 297
        }
      },
      "source": [
        "Ndf"
      ],
      "execution_count": 0,
      "outputs": [
        {
          "output_type": "execute_result",
          "data": {
            "text/html": [
              "<div>\n",
              "<style scoped>\n",
              "    .dataframe tbody tr th:only-of-type {\n",
              "        vertical-align: middle;\n",
              "    }\n",
              "\n",
              "    .dataframe tbody tr th {\n",
              "        vertical-align: top;\n",
              "    }\n",
              "\n",
              "    .dataframe thead th {\n",
              "        text-align: right;\n",
              "    }\n",
              "</style>\n",
              "<table border=\"1\" class=\"dataframe\">\n",
              "  <thead>\n",
              "    <tr style=\"text-align: right;\">\n",
              "      <th></th>\n",
              "      <th>k</th>\n",
              "      <th>n_k</th>\n",
              "      <th>p_k</th>\n",
              "      <th>n_k*</th>\n",
              "      <th>(n_k-n_k*)^2/n_k*</th>\n",
              "    </tr>\n",
              "  </thead>\n",
              "  <tbody>\n",
              "    <tr>\n",
              "      <th>0-2</th>\n",
              "      <td>3.0</td>\n",
              "      <td>62409</td>\n",
              "      <td>0.124674</td>\n",
              "      <td>62337.2</td>\n",
              "      <td>0.0826705</td>\n",
              "    </tr>\n",
              "    <tr>\n",
              "      <th>3</th>\n",
              "      <td>3.0</td>\n",
              "      <td>70399</td>\n",
              "      <td>0.140389</td>\n",
              "      <td>70194.4</td>\n",
              "      <td>0.596268</td>\n",
              "    </tr>\n",
              "    <tr>\n",
              "      <th>4</th>\n",
              "      <td>4.0</td>\n",
              "      <td>87303</td>\n",
              "      <td>0.175477</td>\n",
              "      <td>87738.4</td>\n",
              "      <td>2.16019</td>\n",
              "    </tr>\n",
              "    <tr>\n",
              "      <th>5</th>\n",
              "      <td>5.0</td>\n",
              "      <td>87732</td>\n",
              "      <td>0.175467</td>\n",
              "      <td>87733.7</td>\n",
              "      <td>3.23336e-05</td>\n",
              "    </tr>\n",
              "    <tr>\n",
              "      <th>6</th>\n",
              "      <td>6.0</td>\n",
              "      <td>73006</td>\n",
              "      <td>0.146215</td>\n",
              "      <td>73107.5</td>\n",
              "      <td>0.140958</td>\n",
              "    </tr>\n",
              "    <tr>\n",
              "      <th>7</th>\n",
              "      <td>7.0</td>\n",
              "      <td>52482</td>\n",
              "      <td>0.104434</td>\n",
              "      <td>52216.9</td>\n",
              "      <td>1.34614</td>\n",
              "    </tr>\n",
              "    <tr>\n",
              "      <th>&gt;8</th>\n",
              "      <td>143.0</td>\n",
              "      <td>66669</td>\n",
              "      <td>0.133342</td>\n",
              "      <td>66671.2</td>\n",
              "      <td>7.56822e-05</td>\n",
              "    </tr>\n",
              "    <tr>\n",
              "      <th>sum</th>\n",
              "      <td>171.0</td>\n",
              "      <td>500000</td>\n",
              "      <td>0.999999</td>\n",
              "      <td>499999</td>\n",
              "      <td>4.32633</td>\n",
              "    </tr>\n",
              "  </tbody>\n",
              "</table>\n",
              "</div>"
            ],
            "text/plain": [
              "         k     n_k       p_k     n_k* (n_k-n_k*)^2/n_k*\n",
              "0-2    3.0   62409  0.124674  62337.2         0.0826705\n",
              "3      3.0   70399  0.140389  70194.4          0.596268\n",
              "4      4.0   87303  0.175477  87738.4           2.16019\n",
              "5      5.0   87732  0.175467  87733.7       3.23336e-05\n",
              "6      6.0   73006  0.146215  73107.5          0.140958\n",
              "7      7.0   52482  0.104434  52216.9           1.34614\n",
              ">8   143.0   66669  0.133342  66671.2       7.56822e-05\n",
              "sum  171.0  500000  0.999999   499999           4.32633"
            ]
          },
          "metadata": {
            "tags": []
          },
          "execution_count": 239
        }
      ]
    },
    {
      "cell_type": "code",
      "metadata": {
        "id": "SIvnIi8a_Usj",
        "colab_type": "code",
        "outputId": "a69a4cbe-1c56-4ba0-9244-a332d91ff9bc",
        "colab": {
          "base_uri": "https://localhost:8080/",
          "height": 34
        }
      },
      "source": [
        "print('X^2 =',Ndf['(n_k-n_k*)^2/n_k*']['sum'])"
      ],
      "execution_count": 0,
      "outputs": [
        {
          "output_type": "stream",
          "text": [
            "X^2 = 4.326334927380444\n"
          ],
          "name": "stdout"
        }
      ]
    },
    {
      "cell_type": "markdown",
      "metadata": {
        "id": "cAHR5mSpQpTb",
        "colab_type": "text"
      },
      "source": [
        "Из расчетной таблицы находим наблюдаемое значение критерия Пирсона, мера $\\chi^2 = 4.326334927380444 $. Критическая точка для уровня значимости 5% и 10% при количестве степеней свободы k = 7 - 2 = 5 (число получиных групп - 2 ). Смотрим в таблицу и получаем 11.1 , 9.29 соответственно, поэтому у нас нет оснований отвергнуть нулевую нашу гипотезу о распределении числа простмотренных тайтлов на \"онгоинг\" в месяц по закону Пуассона "
      ]
    },
    {
      "cell_type": "markdown",
      "metadata": {
        "id": "TTqG7m22OHJD",
        "colab_type": "text"
      },
      "source": [
        "#### **Экспоненциальное распределение** "
      ]
    },
    {
      "cell_type": "markdown",
      "metadata": {
        "id": "iqOPLlOko5p3",
        "colab_type": "text"
      },
      "source": [
        "##### Критерий согласия Колмогорова-Смирнова"
      ]
    },
    {
      "cell_type": "markdown",
      "metadata": {
        "colab_type": "text",
        "id": "Yrgyf-TTYcfb"
      },
      "source": [
        "![Колмогоров : D](https://b.radikal.ru/b02/1912/da/4381e5df4897.png\n",
        ")"
      ]
    },
    {
      "cell_type": "markdown",
      "metadata": {
        "colab_type": "text",
        "id": "_TlgyvCAYcfw"
      },
      "source": [
        "это максимальное отклонение эмпирической функции распределения $\\hat{F_n}(x)$, - это максимальное отклонение эмпирической функции распределения $F_n(x)$, построенной по выборке от гипотетической функции $F(x)$."
      ]
    },
    {
      "cell_type": "markdown",
      "metadata": {
        "colab_type": "text",
        "id": "7jKsXLOLYcfy"
      },
      "source": [
        "Будем проверять при уровне значимости $\\alpha_{0,05}$ и $\\alpha_{0.1}$ и на самой большой реализации выборки "
      ]
    },
    {
      "cell_type": "markdown",
      "metadata": {
        "colab_type": "text",
        "id": "FaSBznBFYcgB"
      },
      "source": [
        "где - $F_n*(x) = \\frac{n_x}{n}$– эмпирическая функция распределения,\n",
        "$F(x) = 1- e^{-\\lambda x}$ - теоритическая функция\n"
      ]
    },
    {
      "cell_type": "markdown",
      "metadata": {
        "colab_type": "text",
        "id": "2OSsYNNnYcgD"
      },
      "source": [
        "Будем переберать $\\lambda$ и икасть при какой $\\lambda$ будет минимальное значение $\\lambda_{наблюд}$"
      ]
    },
    {
      "cell_type": "code",
      "metadata": {
        "colab_type": "code",
        "id": "AQz6pNK2YcgG",
        "colab": {}
      },
      "source": [
        "from collections import Counter\n",
        "import numpy as np\n",
        "import math \n",
        "mas = expan10005\n",
        "def chek_by_kol(Lamda): \n",
        "  masall = []\n",
        "  for i in range(len(mas)):\n",
        "    masall = masall + mas[i]\n",
        "  uniqq = np.unique(masall)\n",
        "  # print('для проверки', uniqq)\n",
        "\n",
        "  uniqqqfreq = Counter(masall)\n",
        "  # print('uniqqqfreq = ',uniqqqfreq)\n",
        "  maxLabda = -99999\n",
        "  sum = 0 \n",
        "  for i in uniqq:\n",
        "    sum += uniqqqfreq[i]\n",
        "    # print('len(mas)', len(mas))\n",
        "    lamaN = abs(1 - math.exp(-Lamda*i) - sum/len(masall))\n",
        "    if maxLabda < lamaN:\n",
        "      maxLabda = lamaN\n",
        "    # print('i = ', i , 'sum = ', sum, 'lamaN', lamaN)\n",
        "    # print('sUUM = ', sum/len(masall) )\n",
        "  # print('maxLabda', maxLabda)\n",
        "  return maxLabda\n",
        "  # print(uniqqq) "
      ],
      "execution_count": 0,
      "outputs": []
    },
    {
      "cell_type": "code",
      "metadata": {
        "colab_type": "code",
        "outputId": "620ace65-a3b7-4bbf-d06a-71c89401334a",
        "id": "lCb2VSDaYcgI",
        "colab": {
          "base_uri": "https://localhost:8080/",
          "height": 68
        }
      },
      "source": [
        "import numpy as np\n",
        "from scipy import optimize\n",
        "\n",
        "lambdamin = optimize.fminbound(chek_by_kol, 0, 5.6)\n",
        "print('lambda min =', lambdamin)\n",
        "print('lam = ', lambdamin, 'lambda^2 =', chek_by_kol(lambdamin))\n",
        "\n",
        "print('Лямбда* = ',chek_by_kol(lambdamin))"
      ],
      "execution_count": 0,
      "outputs": [
        {
          "output_type": "stream",
          "text": [
            "lambda min = 4.989307154649046\n",
            "lam =  4.989307154649046 lambda^2 = 0.024788\n",
            "Лямбда* =  0.024788\n"
          ],
          "name": "stdout"
        }
      ]
    },
    {
      "cell_type": "markdown",
      "metadata": {
        "colab_type": "text",
        "id": "zQuKV7xNYcgL"
      },
      "source": [
        "Критерий значимости "
      ]
    },
    {
      "cell_type": "markdown",
      "metadata": {
        "colab_type": "text",
        "id": "vHzKRPsEYcgL"
      },
      "source": [
        "![колмогоров](https://myslide.ru/documents_3/ec615bd9669892ebf5501065200c6989/img20.jpg)"
      ]
    },
    {
      "cell_type": "code",
      "metadata": {
        "colab_type": "code",
        "outputId": "4e584f10-4b19-421d-c410-0d140cd79e3d",
        "id": "ygmLDt1RYcgM",
        "colab": {
          "base_uri": "https://localhost:8080/",
          "height": 51
        }
      },
      "source": [
        "Dkriterii1 = 1.36/(len(expan10005)-1)**(0.5)\n",
        "print(' Критерий значимости для альфа 0.05 = ', Dkriterii1)\n",
        "print(' Критерий значимости для альфа 0.1 = ', 1.22/(len(expan10005)-1)**(0.5))"
      ],
      "execution_count": 0,
      "outputs": [
        {
          "output_type": "stream",
          "text": [
            " Критерий значимости для альфа 0.05 =  0.68\n",
            " Критерий значимости для альфа 0.1 =  0.61\n"
          ],
          "name": "stdout"
        }
      ]
    },
    {
      "cell_type": "markdown",
      "metadata": {
        "colab_type": "text",
        "id": "WvpXwwVnYcgO"
      },
      "source": [
        "А теперь проверим Проверим:"
      ]
    },
    {
      "cell_type": "code",
      "metadata": {
        "colab_type": "code",
        "outputId": "0ab926d4-d3b8-43f7-d13f-bd7cb9ab40bc",
        "id": "IVZnE6SgYcgP",
        "colab": {
          "base_uri": "https://localhost:8080/",
          "height": 34
        }
      },
      "source": [
        "Dkriterii > chek_by_kol(lambdamin)"
      ],
      "execution_count": 0,
      "outputs": [
        {
          "output_type": "execute_result",
          "data": {
            "text/plain": [
              "True"
            ]
          },
          "metadata": {
            "tags": []
          },
          "execution_count": 13
        }
      ]
    },
    {
      "cell_type": "markdown",
      "metadata": {
        "colab_type": "text",
        "id": "wxkdc_03YcgS"
      },
      "source": [
        "Это значит, что гипотиза: что наша выборка имеет экспоненциальное распределение подтверждается! И мы ее принимаем!"
      ]
    },
    {
      "cell_type": "markdown",
      "metadata": {
        "colab_type": "text",
        "id": "6RmRA3jRYcgS"
      },
      "source": [
        "При уровне значимости $\\alpha_{0.1}$ = 1.22"
      ]
    },
    {
      "cell_type": "code",
      "metadata": {
        "colab_type": "code",
        "outputId": "cd2e5fd8-1a43-4c6f-9e07-a6e8ca931a63",
        "id": "BEsM9kY2YcgT",
        "colab": {
          "base_uri": "https://localhost:8080/",
          "height": 34
        }
      },
      "source": [
        "Dkriterii2 = 1.22/(len(expan10005)-1)**(0.5)\n",
        "print(' Критерий значимости = ', Dkriterii2)"
      ],
      "execution_count": 0,
      "outputs": [
        {
          "output_type": "stream",
          "text": [
            " Критерий значимости =  0.61\n"
          ],
          "name": "stdout"
        }
      ]
    },
    {
      "cell_type": "code",
      "metadata": {
        "colab_type": "code",
        "outputId": "2894bb92-df3f-4461-d800-083485750332",
        "id": "vohI0aSPYcgV",
        "colab": {
          "base_uri": "https://localhost:8080/",
          "height": 34
        }
      },
      "source": [
        "Dkriterii2 > chek_by_kol(lambdamin)"
      ],
      "execution_count": 0,
      "outputs": [
        {
          "output_type": "execute_result",
          "data": {
            "text/plain": [
              "True"
            ]
          },
          "metadata": {
            "tags": []
          },
          "execution_count": 16
        }
      ]
    },
    {
      "cell_type": "markdown",
      "metadata": {
        "colab_type": "text",
        "id": "3vNJCjYNYcgX"
      },
      "source": [
        "Это значит, что гипотиза: что наша выборка имеет экспоненциальное распределение подтверждается! И мы ее принимаем! "
      ]
    },
    {
      "cell_type": "markdown",
      "metadata": {
        "id": "fJL8_M6DpAWc",
        "colab_type": "text"
      },
      "source": [
        "##### Критерий согласия хи-квадрат"
      ]
    },
    {
      "cell_type": "code",
      "metadata": {
        "id": "F_86A7HfIB5y",
        "colab_type": "code",
        "outputId": "262927ca-a5a6-4c74-8804-c7471a72e0b5",
        "colab": {
          "base_uri": "https://localhost:8080/",
          "height": 1000
        }
      },
      "source": [
        "import numpy as np\n",
        "import pandas as pd\n",
        "from collections import Counter\n",
        "import math \n",
        "\n",
        "all1 = obidenenie(expan1000)\n",
        "\n",
        "print(' в результате опыта получились сл данные ')\n",
        "for i in np.unique(obidenenie(expan1000)):\n",
        "  print(i , ' = ', Counter(obidenenie(expan1000))[i])"
      ],
      "execution_count": 0,
      "outputs": [
        {
          "output_type": "stream",
          "text": [
            " в результате опыта получились сл данные \n",
            "0.0  =  115\n",
            "0.01  =  249\n",
            "0.02  =  220\n",
            "0.03  =  223\n",
            "0.04  =  197\n",
            "0.05  =  199\n",
            "0.06  =  173\n",
            "0.07  =  168\n",
            "0.08  =  177\n",
            "0.09  =  156\n",
            "0.1  =  166\n",
            "0.11  =  148\n",
            "0.12  =  151\n",
            "0.13  =  132\n",
            "0.14  =  109\n",
            "0.15  =  100\n",
            "0.16  =  109\n",
            "0.17  =  110\n",
            "0.18  =  109\n",
            "0.19  =  113\n",
            "0.2  =  94\n",
            "0.21  =  95\n",
            "0.22  =  65\n",
            "0.23  =  74\n",
            "0.24  =  89\n",
            "0.25  =  81\n",
            "0.26  =  73\n",
            "0.27  =  55\n",
            "0.28  =  75\n",
            "0.29  =  56\n",
            "0.3  =  50\n",
            "0.31  =  46\n",
            "0.32  =  50\n",
            "0.33  =  65\n",
            "0.34  =  34\n",
            "0.35  =  39\n",
            "0.36  =  34\n",
            "0.37  =  32\n",
            "0.38  =  32\n",
            "0.39  =  32\n",
            "0.4  =  34\n",
            "0.41  =  29\n",
            "0.42  =  38\n",
            "0.43  =  25\n",
            "0.44  =  32\n",
            "0.45  =  23\n",
            "0.46  =  28\n",
            "0.47  =  32\n",
            "0.48  =  28\n",
            "0.49  =  16\n",
            "0.5  =  19\n",
            "0.51  =  33\n",
            "0.52  =  9\n",
            "0.53  =  16\n",
            "0.54  =  14\n",
            "0.55  =  17\n",
            "0.56  =  15\n",
            "0.57  =  21\n",
            "0.58  =  14\n",
            "0.59  =  12\n",
            "0.6  =  12\n",
            "0.61  =  16\n",
            "0.62  =  12\n",
            "0.63  =  7\n",
            "0.64  =  9\n",
            "0.65  =  6\n",
            "0.66  =  9\n",
            "0.67  =  7\n",
            "0.68  =  5\n",
            "0.69  =  11\n",
            "0.7  =  4\n",
            "0.71  =  8\n",
            "0.72  =  10\n",
            "0.73  =  6\n",
            "0.74  =  11\n",
            "0.75  =  5\n",
            "0.76  =  5\n",
            "0.77  =  9\n",
            "0.78  =  5\n",
            "0.79  =  4\n",
            "0.8  =  5\n",
            "0.81  =  4\n",
            "0.82  =  3\n",
            "0.83  =  1\n",
            "0.84  =  2\n",
            "0.85  =  3\n",
            "0.86  =  5\n",
            "0.87  =  3\n",
            "0.88  =  1\n",
            "0.89  =  5\n",
            "0.9  =  5\n",
            "0.91  =  2\n",
            "0.94  =  2\n",
            "0.95  =  3\n",
            "0.96  =  2\n",
            "0.97  =  6\n",
            "0.98  =  5\n",
            "0.99  =  2\n",
            "1.0  =  2\n",
            "1.01  =  1\n",
            "1.02  =  1\n",
            "1.04  =  1\n",
            "1.05  =  1\n",
            "1.07  =  2\n",
            "1.1  =  1\n",
            "1.12  =  5\n",
            "1.13  =  1\n",
            "1.14  =  1\n",
            "1.16  =  1\n",
            "1.19  =  1\n",
            "1.21  =  2\n",
            "1.22  =  2\n",
            "1.24  =  1\n",
            "1.26  =  1\n",
            "1.34  =  1\n",
            "1.35  =  1\n",
            "1.36  =  1\n",
            "1.46  =  1\n",
            "1.51  =  1\n",
            "1.65  =  1\n"
          ],
          "name": "stdout"
        }
      ]
    },
    {
      "cell_type": "markdown",
      "metadata": {
        "colab_type": "text",
        "id": "K6UKWs1SIKb1"
      },
      "source": [
        "В итоге 1000 испытаний элементов на время безотказной работы сверх прочных элементов(год) получино распределение которое, приведенно в таблице выше. По заданию нам надо при уровне значимости $\\alpha = 0.1$ и $\\alpha = 0.05$ проверить гипотизу о том, что данные в генеральной совокупности распределены по экспоненциальному закону ;D "
      ]
    },
    {
      "cell_type": "markdown",
      "metadata": {
        "colab_type": "text",
        "id": "s6m5vPdCIKb8"
      },
      "source": [
        "Найдем вероятности попадания в интервалы по формуле: \n",
        "\n",
        "$P_i = P(x_i < X < x_{i+1}) = e^{-\\lambda x_i} - e^{-\\lambda x_{i+1}}$\n",
        "\n",
        "Теперь вычислим теоритические частоты $n_i^* = P_i \\cdot n = 1000P_i$\n",
        "\n",
        "Составим таблицу: составим 10 промежутков "
      ]
    },
    {
      "cell_type": "code",
      "metadata": {
        "colab_type": "code",
        "outputId": "f8d09145-bf5c-4ae5-e5c2-a09d38597216",
        "id": "_YEmp29iIKb9",
        "colab": {
          "base_uri": "https://localhost:8080/",
          "height": 85
        }
      },
      "source": [
        "import numpy as np  \n",
        "print(len(np.unique(all1)))\n",
        "lamda = 1/np.mean(expan1000)\n",
        "print(lamda)\n",
        "# print(max(all1))\n",
        "prom = np.linspace(min(all1),max(all1),10)   #кол-во промежутков \n",
        "print(prom)\n",
        "\n"
      ],
      "execution_count": 0,
      "outputs": [
        {
          "output_type": "stream",
          "text": [
            "120\n",
            "5.0165546302799235\n",
            "[0.         0.18333333 0.36666667 0.55       0.73333333 0.91666667\n",
            " 1.1        1.28333333 1.46666667 1.65      ]\n"
          ],
          "name": "stdout"
        }
      ]
    },
    {
      "cell_type": "code",
      "metadata": {
        "colab_type": "code",
        "outputId": "0ce40688-f5b9-4602-fb60-88d72cb3b3c5",
        "id": "AHGfwxJfIKb_",
        "colab": {
          "base_uri": "https://localhost:8080/",
          "height": 51
        }
      },
      "source": [
        "import math\n",
        "import pandas as pd\n",
        "from scipy import optimize\n",
        "\n",
        "def lenn(mas):\n",
        "  sum = 0\n",
        "  for i in range(len(mas)):\n",
        "    sum+=len(mas[i])\n",
        "  return sum\n",
        "\n",
        "def teorver(x, lamda):\n",
        "  return math.exp(-lamda*x)\n",
        "\n",
        "def fancc(lamda):\n",
        "  df = pd.DataFrame(columns = ['k','k0','k1', 'n_k', 'p_k','n_k*'])\n",
        "\n",
        "  tr = np.unique(all1)\n",
        "  u = 0\n",
        "  df['k'] =range(len(prom)-1)\n",
        "  for k in range(len(prom)-1):\n",
        "    df['k0'][k] = prom[k]\n",
        "    df['k1'][k] = prom[k+1]\n",
        "    summ = 0 \n",
        "    for k1 in tr:\n",
        "      if df['k0'][k] <= k1 <= df['k1'][k]:\n",
        "        summ+= Counter(all1)[k1]\n",
        "    df['n_k'][k] = summ\n",
        "    df['p_k'][k] = teorver(df['k0'][k], lamda) - teorver(df['k1'][k], lamda)\n",
        "    df['n_k*'][k] = len(all1)*df['p_k'][k]\n",
        "    df['(n_k-n_k*)^2/n_k*'] = ((df['n_k'] - df['n_k*'])**2)/df['n_k*']\n",
        "    df.loc['sum'] = df.sum()\n",
        "  return df['(n_k-n_k*)^2/n_k*']['sum']\n",
        "\n",
        "\n",
        "lambdamin = optimize.fminbound(fancc, 0.1, 6.6) # просто подставляет кучу лямбд и ищет лямбду при которой функция возвращает минимальное значение =D Очень классная штука \n",
        "print('lambda min =', lambdamin)\n",
        "print('lam = ', lambdamin, 'chi^2 =', fancc(lambdamin))\n",
        "\n",
        "\n"
      ],
      "execution_count": 0,
      "outputs": [
        {
          "output_type": "stream",
          "text": [
            "lambda min = 4.989827284582508\n",
            "lam =  4.989827284582508 chi^2 = 2.2537575483421546\n"
          ],
          "name": "stdout"
        }
      ]
    },
    {
      "cell_type": "markdown",
      "metadata": {
        "id": "40jdkBDBOeF3",
        "colab_type": "text"
      },
      "source": [
        "Получили $\\chi^2 = 2.2537575483421546$ , и у нас 9 промежутков => степеней свободы k = 9-2 = 7. При уровне значипосмти $\\alpha = 0.01 $ и $ \\alpha = 0.5 $, выборка принимается. Так как она принимается даже при уровне значимости $\\alpha = 0.90$. При таком уровне значимости критическое значение равно $2.83$ и оно больше чем наше полученное $\\chi^2$. Следовательно мы можем принять теорию. "
      ]
    },
    {
      "cell_type": "code",
      "metadata": {
        "colab_type": "code",
        "outputId": "20360ca5-2af0-49d8-e1bb-54d113cb6691",
        "id": "c2LOr9SBIKcG",
        "colab": {
          "base_uri": "https://localhost:8080/",
          "height": 34
        }
      },
      "source": [
        "# получили \n",
        "print('X^2 =',df['(n_k-n_k*)^2/n_k*']['sum'])"
      ],
      "execution_count": 0,
      "outputs": [
        {
          "output_type": "stream",
          "text": [
            "X^2 = 2.401116539491216\n"
          ],
          "name": "stdout"
        }
      ]
    },
    {
      "cell_type": "markdown",
      "metadata": {
        "colab_type": "text",
        "id": "ZM-1lHtlIKcI"
      },
      "source": [
        "Из расчетной таблицы находим наблюдаемое значение критерия Пирсона $\\chi^2 = 2.401116539491216 $. Критическая точка для уровня значимости 0.05 и 0.1 при количестве степеней свободы k = 9 - 2 = 7 (число получиных групп - 2 ). Смотрим в таблицу и получаем 14.1 , 12.0 соответственно, поэтому у нас нет оснований отвергнуть нулевую нашу гипотезу. (Так как $\\chi^2$ больше критического значения)"
      ]
    },
    {
      "cell_type": "markdown",
      "metadata": {
        "id": "SW5MUZkRpChB",
        "colab_type": "text"
      },
      "source": [
        "##### Критерий согласия Колмогорова-Смирнова для сложной гипотезы"
      ]
    },
    {
      "cell_type": "markdown",
      "metadata": {
        "colab_type": "text",
        "id": "JT86SWHCCpL0"
      },
      "source": [
        "![Колмогоров : D](https://b.radikal.ru/b02/1912/da/4381e5df4897.png\n",
        ")"
      ]
    },
    {
      "cell_type": "markdown",
      "metadata": {
        "id": "m6o3cmeXGmej",
        "colab_type": "text"
      },
      "source": [
        "это максимальное отклонение эмпирической функции распределения $\\hat{F_n}(x)$, - это максимальное отклонение эмпирической функции распределения $F_n(x)$, построенной по выборке от гипотетической функции $F(x)$."
      ]
    },
    {
      "cell_type": "markdown",
      "metadata": {
        "colab_type": "text",
        "id": "35NdbylPCpLy"
      },
      "source": [
        "Будем проверять при уровне значимости $\\alpha_{0,05}$ и на самой большой реализации выборки "
      ]
    },
    {
      "cell_type": "markdown",
      "metadata": {
        "colab_type": "text",
        "id": "h6XFuWZsCpLx"
      },
      "source": [
        "Найдем выборочное средене "
      ]
    },
    {
      "cell_type": "code",
      "metadata": {
        "colab_type": "code",
        "outputId": "8b24d076-86ef-4634-ae3d-f227569e872f",
        "id": "81wEnm5fCpLu",
        "colab": {
          "base_uri": "https://localhost:8080/",
          "height": 51
        }
      },
      "source": [
        "def targetmean(arr):\n",
        "  # print(arr)\n",
        "  summend = 0 \n",
        "  leng = 0\n",
        "  sumex = 0\n",
        "  for i in range(len(arr)):\n",
        "    leng+=len(arr[i])\n",
        "    for t in np.unique(arr[i]):\n",
        "      sumex+=(t*(arr[i].count(t)))  \n",
        "  summend = sumex/leng\n",
        "  # print('all = ',summend)\n",
        "  return summend\n",
        "\n",
        "\n",
        "\n",
        "def dispersionn(arr): \n",
        "  # print('arr ==== ', len(arr) )\n",
        "  xmean = targetmean(arr)\n",
        "  # print('xmean', xmean)\n",
        "  summ = 0\n",
        "  leng = 0  \n",
        "  for i in range(len(arr)):\n",
        "    for c in range(len(arr[i])):\n",
        "      summ += (arr[i][c]-xmean)**2\n",
        "    leng += len(arr[i])\n",
        "  # print('kleng = ', leng )\n",
        "  return summ/leng\n",
        "\n",
        "\n",
        "\n",
        "\n",
        "\n",
        "print('Выборочное среднее = ', targetmean(expan10005))\n",
        "\n",
        "\n",
        "print('Выборочная дисперсия = ', dispersionn(expan10005))\n",
        "\n",
        "\n",
        "\n"
      ],
      "execution_count": 0,
      "outputs": [
        {
          "output_type": "stream",
          "text": [
            "Выборочное среднее =  0.19952603999999985\n",
            "Выборочная дисперсия =  0.039976042561899544\n"
          ],
          "name": "stdout"
        }
      ]
    },
    {
      "cell_type": "markdown",
      "metadata": {
        "colab_type": "text",
        "id": "hT_Cy6O_CpLt"
      },
      "source": [
        "Отлично мы получили $\\overline{x}$ и $D$  "
      ]
    },
    {
      "cell_type": "markdown",
      "metadata": {
        "colab_type": "text",
        "id": "pHjT4YWKCpLt"
      },
      "source": [
        "Предполагаем, что исследуемая величина имеет экспоненциальный закон распределения с параметрам $\\lambda^{-1}$ = $\\overline{x}$, \n",
        "\n",
        "$D = \\lambda^{-2}$ , среднее квадратическое отклонение $\\sigma = \\sqrt{D}$"
      ]
    },
    {
      "cell_type": "markdown",
      "metadata": {
        "colab_type": "text",
        "id": "CL0xzyeKCpLq"
      },
      "source": [
        "где - $F_n*(x) = \\frac{n_x}{n}$– эмпирическая функция распределения,\n",
        "$F(x) = 1- e^{-\\lambda x}$ - теоритическая функция\n"
      ]
    },
    {
      "cell_type": "markdown",
      "metadata": {
        "colab_type": "text",
        "id": "rOyJhjp7CpLq"
      },
      "source": [
        "У нас $\\lambda$"
      ]
    },
    {
      "cell_type": "code",
      "metadata": {
        "colab_type": "code",
        "id": "-Lh1qVhkCpLg",
        "colab": {}
      },
      "source": [
        "lamdaN = (targetmean(expan10005))**(-1)"
      ],
      "execution_count": 0,
      "outputs": []
    },
    {
      "cell_type": "code",
      "metadata": {
        "colab_type": "code",
        "id": "jp-3zZmmCpLe",
        "colab": {}
      },
      "source": [
        "from collections import Counter\n",
        "import numpy as np\n",
        "import math \n",
        "def chek_by_kol(mas, Lamda): \n",
        "  masall = []\n",
        "  for i in range(len(mas)):\n",
        "    masall = masall + mas[i]\n",
        "  uniqq = np.unique(masall)\n",
        "  # print('для проверки', uniqq)\n",
        "\n",
        "  uniqqqfreq = Counter(masall)\n",
        "  # print('uniqqqfreq = ',uniqqqfreq)\n",
        "  maxLabda = -99999\n",
        "  sum = 0 \n",
        "  for i in uniqq:\n",
        "    sum += uniqqqfreq[i]\n",
        "    # print('len(mas)', len(mas))\n",
        "    lamaN = abs(1 - math.exp(-Lamda*i) - sum/len(masall))\n",
        "    if maxLabda < lamaN:\n",
        "      maxLabda = lamaN\n",
        "    # print('i = ', i , 'sum = ', sum, 'lamaN', lamaN)\n",
        "    # print('sUUM = ', sum/len(masall) )\n",
        "  # print('maxLabda', maxLabda)\n",
        "  return maxLabda\n",
        "  # print(uniqqq) "
      ],
      "execution_count": 0,
      "outputs": []
    },
    {
      "cell_type": "code",
      "metadata": {
        "colab_type": "code",
        "outputId": "4a808101-4467-44e2-de8b-b5c8feabd8d2",
        "id": "w2NOR2z7CpLa",
        "colab": {
          "base_uri": "https://localhost:8080/",
          "height": 34
        }
      },
      "source": [
        "print('Лямбда* = ',chek_by_kol(expan10005, lamdaN))"
      ],
      "execution_count": 0,
      "outputs": [
        {
          "output_type": "stream",
          "text": [
            "Лямбда* =  0.024722\n"
          ],
          "name": "stdout"
        }
      ]
    },
    {
      "cell_type": "markdown",
      "metadata": {
        "colab_type": "text",
        "id": "SQl9wRhFCpLT"
      },
      "source": [
        "Критерий значимости "
      ]
    },
    {
      "cell_type": "markdown",
      "metadata": {
        "colab_type": "text",
        "id": "dPy-S27ICpLS"
      },
      "source": [
        "![колмогоров](https://myslide.ru/documents_3/ec615bd9669892ebf5501065200c6989/img20.jpg)"
      ]
    },
    {
      "cell_type": "code",
      "metadata": {
        "colab_type": "code",
        "outputId": "baa8a620-e98c-40e0-839c-fe1b14eced87",
        "id": "Vi7FeMp0CpLO",
        "colab": {
          "base_uri": "https://localhost:8080/",
          "height": 34
        }
      },
      "source": [
        "Dkriterii = 1.36/(len(expan10005)-1)**(0.5)\n",
        "print(' Критерий значимости = ', Dkriterii)"
      ],
      "execution_count": 0,
      "outputs": [
        {
          "output_type": "stream",
          "text": [
            " Критерий значимости =  0.68\n"
          ],
          "name": "stdout"
        }
      ]
    },
    {
      "cell_type": "markdown",
      "metadata": {
        "colab_type": "text",
        "id": "_zd5bNGYCpLM"
      },
      "source": [
        "А теперь проверим Проверим:"
      ]
    },
    {
      "cell_type": "code",
      "metadata": {
        "colab_type": "code",
        "outputId": "00eee75c-587f-48a7-d736-144ead1522de",
        "id": "zAYXmPqeCpLJ",
        "colab": {
          "base_uri": "https://localhost:8080/",
          "height": 34
        }
      },
      "source": [
        "Dkriterii > chek_by_kol(expan10005, lamdaN)"
      ],
      "execution_count": 0,
      "outputs": [
        {
          "output_type": "execute_result",
          "data": {
            "text/plain": [
              "True"
            ]
          },
          "metadata": {
            "tags": []
          },
          "execution_count": 11
        }
      ]
    },
    {
      "cell_type": "markdown",
      "metadata": {
        "colab_type": "text",
        "id": "9lyd1tVYCpLG"
      },
      "source": [
        "Это значит, что гипотиза: что наша выборка имеет экспоненциальное распределение подтверждается! И мы ее принимаем!"
      ]
    },
    {
      "cell_type": "markdown",
      "metadata": {
        "colab_type": "text",
        "id": "jFX5n_utCpLF"
      },
      "source": [
        "При уровне значимости $\\alpha_{0.1}$ = 1.22"
      ]
    },
    {
      "cell_type": "code",
      "metadata": {
        "colab_type": "code",
        "outputId": "7ba8f389-3844-4a8e-bb0b-68d62222c7e1",
        "id": "9g2WzsO5CpLA",
        "colab": {
          "base_uri": "https://localhost:8080/",
          "height": 34
        }
      },
      "source": [
        "Dkriterii2 = 1.22/(len(expan10005)-1)**(0.5)\n",
        "print(' Критерий значимости = ', Dkriterii2)"
      ],
      "execution_count": 0,
      "outputs": [
        {
          "output_type": "stream",
          "text": [
            " Критерий значимости =  0.61\n"
          ],
          "name": "stdout"
        }
      ]
    },
    {
      "cell_type": "code",
      "metadata": {
        "colab_type": "code",
        "outputId": "17760e7f-0635-4f9b-c5e9-a91bf027ffae",
        "id": "jaHjdOs7CpKs",
        "colab": {
          "base_uri": "https://localhost:8080/",
          "height": 34
        }
      },
      "source": [
        "Dkriterii2 > chek_by_kol(expan10005, lamdaN)"
      ],
      "execution_count": 0,
      "outputs": [
        {
          "output_type": "execute_result",
          "data": {
            "text/plain": [
              "True"
            ]
          },
          "metadata": {
            "tags": []
          },
          "execution_count": 16
        }
      ]
    },
    {
      "cell_type": "markdown",
      "metadata": {
        "id": "W9utipW1jb_l",
        "colab_type": "text"
      },
      "source": [
        "Это значит, что гипотиза: что наша выборка имеет экспоненциальное распределение подтверждается! И мы ее принимаем! "
      ]
    },
    {
      "cell_type": "markdown",
      "metadata": {
        "id": "Uw4eKNUDpF4W",
        "colab_type": "text"
      },
      "source": [
        "##### Критерий согласия хи-квадрат для сложной гипотезы"
      ]
    },
    {
      "cell_type": "code",
      "metadata": {
        "colab_type": "code",
        "outputId": "e57921d8-84a8-427c-e3ba-f9326a89b514",
        "id": "9zF0Y_YcpnPt",
        "colab": {
          "base_uri": "https://localhost:8080/",
          "height": 1000
        }
      },
      "source": [
        "import numpy as np\n",
        "import pandas as pd\n",
        "from collections import Counter\n",
        "import math \n",
        "\n",
        "all1 = obidenenie(expan1000)\n",
        "\n",
        "print(' в результате опыта получились сл данные ')\n",
        "for i in np.unique(obidenenie(expan1000)):\n",
        "  print(i , ' = ', Counter(obidenenie(expan1000))[i])"
      ],
      "execution_count": 0,
      "outputs": [
        {
          "output_type": "stream",
          "text": [
            " в результате опыта получились сл данные \n",
            "0.0  =  122\n",
            "0.01  =  223\n",
            "0.02  =  243\n",
            "0.03  =  227\n",
            "0.04  =  187\n",
            "0.05  =  199\n",
            "0.06  =  206\n",
            "0.07  =  188\n",
            "0.08  =  185\n",
            "0.09  =  157\n",
            "0.1  =  121\n",
            "0.11  =  135\n",
            "0.12  =  154\n",
            "0.13  =  120\n",
            "0.14  =  120\n",
            "0.15  =  108\n",
            "0.16  =  107\n",
            "0.17  =  117\n",
            "0.18  =  104\n",
            "0.19  =  103\n",
            "0.2  =  97\n",
            "0.21  =  57\n",
            "0.22  =  107\n",
            "0.23  =  81\n",
            "0.24  =  70\n",
            "0.25  =  57\n",
            "0.26  =  58\n",
            "0.27  =  62\n",
            "0.28  =  67\n",
            "0.29  =  51\n",
            "0.3  =  58\n",
            "0.31  =  63\n",
            "0.32  =  49\n",
            "0.33  =  46\n",
            "0.34  =  54\n",
            "0.35  =  44\n",
            "0.36  =  48\n",
            "0.37  =  36\n",
            "0.38  =  32\n",
            "0.39  =  31\n",
            "0.4  =  41\n",
            "0.41  =  29\n",
            "0.42  =  31\n",
            "0.43  =  39\n",
            "0.44  =  40\n",
            "0.45  =  33\n",
            "0.46  =  19\n",
            "0.47  =  22\n",
            "0.48  =  18\n",
            "0.49  =  21\n",
            "0.5  =  22\n",
            "0.51  =  16\n",
            "0.52  =  11\n",
            "0.53  =  18\n",
            "0.54  =  13\n",
            "0.55  =  19\n",
            "0.56  =  15\n",
            "0.57  =  9\n",
            "0.58  =  24\n",
            "0.59  =  16\n",
            "0.6  =  13\n",
            "0.61  =  9\n",
            "0.62  =  8\n",
            "0.63  =  8\n",
            "0.64  =  9\n",
            "0.65  =  6\n",
            "0.66  =  7\n",
            "0.67  =  9\n",
            "0.68  =  8\n",
            "0.69  =  10\n",
            "0.7  =  5\n",
            "0.71  =  6\n",
            "0.72  =  11\n",
            "0.73  =  7\n",
            "0.74  =  8\n",
            "0.75  =  8\n",
            "0.76  =  1\n",
            "0.77  =  5\n",
            "0.78  =  2\n",
            "0.79  =  12\n",
            "0.8  =  8\n",
            "0.81  =  5\n",
            "0.82  =  7\n",
            "0.83  =  3\n",
            "0.84  =  3\n",
            "0.85  =  1\n",
            "0.86  =  6\n",
            "0.87  =  5\n",
            "0.88  =  2\n",
            "0.89  =  4\n",
            "0.9  =  3\n",
            "0.91  =  2\n",
            "0.92  =  4\n",
            "0.94  =  2\n",
            "0.96  =  2\n",
            "0.97  =  1\n",
            "0.98  =  2\n",
            "0.99  =  1\n",
            "1.0  =  3\n",
            "1.02  =  2\n",
            "1.03  =  4\n",
            "1.05  =  5\n",
            "1.06  =  1\n",
            "1.07  =  1\n",
            "1.08  =  2\n",
            "1.1  =  1\n",
            "1.11  =  3\n",
            "1.13  =  1\n",
            "1.14  =  1\n",
            "1.25  =  1\n",
            "1.26  =  1\n",
            "1.27  =  1\n",
            "1.29  =  2\n",
            "1.31  =  1\n",
            "1.32  =  1\n",
            "1.34  =  1\n",
            "1.37  =  1\n",
            "1.41  =  1\n",
            "1.51  =  1\n",
            "1.79  =  1\n",
            "1.86  =  1\n"
          ],
          "name": "stdout"
        }
      ]
    },
    {
      "cell_type": "markdown",
      "metadata": {
        "colab_type": "text",
        "id": "4xaaX9h8pnPs"
      },
      "source": [
        "В итоге 1000 испытаний элементов на время безотказной работы сверх прочных элементов(год) получино распределение которое, приведенно в таблице выше. По заданию нам надо при уровне значимости $\\alpha = 0.1$ и $\\alpha = 0.05$ проверить гипотизу о том, что данные в генеральной совокупности распределены по экспоненциальному закону ;D \n",
        "\n",
        "Выборочное средние показано ниже"
      ]
    },
    {
      "cell_type": "code",
      "metadata": {
        "colab_type": "code",
        "outputId": "16a5aef6-65a1-479b-ba54-54650a0b5f61",
        "id": "yXa1o24BpnPm",
        "colab": {
          "base_uri": "https://localhost:8080/",
          "height": 34
        }
      },
      "source": [
        "import numpy as np\n",
        "print('Выборочное среднее = ', np.mean(expan1000))"
      ],
      "execution_count": 0,
      "outputs": [
        {
          "output_type": "stream",
          "text": [
            "Выборочное среднее =  0.19991199999999998\n"
          ],
          "name": "stdout"
        }
      ]
    },
    {
      "cell_type": "markdown",
      "metadata": {
        "colab_type": "text",
        "id": "cr4M-NY6pnPl"
      },
      "source": [
        "В качестве оценки показательного распределения возьмем $\\lambda = \\frac{1}{\\overline{x}}=\\frac{1}{0.19962761999999998} \\approx 5.01$"
      ]
    },
    {
      "cell_type": "markdown",
      "metadata": {
        "colab_type": "text",
        "id": "wuIfflikpnPj"
      },
      "source": [
        "Найдем вероятности попадания в интервалы по формуле: \n",
        "\n",
        "$P_i = P(x_i < X < x_{i+1}) = e^{-\\lambda x_i} - e^{-\\lambda x_{i+1}} = e^{5.01x_i} - e^{5.01 x_{i+1}}$\n",
        "\n",
        "Теперь вычислим теоритические частоты $n_i^* = P_i \\cdot n = 1000P_i$\n",
        "\n",
        "Составим таблицу: составим 10 промежутков "
      ]
    },
    {
      "cell_type": "code",
      "metadata": {
        "colab_type": "code",
        "outputId": "652edebb-4022-4b1b-84a5-4d7fe68a62ee",
        "id": "urS1aGSVpnPf",
        "colab": {
          "base_uri": "https://localhost:8080/",
          "height": 85
        }
      },
      "source": [
        "import numpy as np  \n",
        "print(len(np.unique(all1)))\n",
        "lamda = 1/np.mean(expan1000)\n",
        "print(lamda)\n",
        "# print(max(all1))\n",
        "prom = np.linspace(min(all1),max(all1),10)   #кол-во промежутков \n",
        "print(prom)\n",
        "\n"
      ],
      "execution_count": 0,
      "outputs": [
        {
          "output_type": "stream",
          "text": [
            "121\n",
            "5.002200968426108\n",
            "[0.         0.20666667 0.41333333 0.62       0.82666667 1.03333333\n",
            " 1.24       1.44666667 1.65333333 1.86      ]\n"
          ],
          "name": "stdout"
        }
      ]
    },
    {
      "cell_type": "code",
      "metadata": {
        "colab_type": "code",
        "outputId": "fc1c06eb-a152-46cb-fabf-dd8e030e3f21",
        "id": "WndkbPbRpnPc",
        "colab": {
          "base_uri": "https://localhost:8080/",
          "height": 668
        }
      },
      "source": [
        "import math\n",
        "import pandas as pd\n",
        "def lenn(mas):\n",
        "  sum = 0\n",
        "  for i in range(len(mas)):\n",
        "    sum+=len(mas[i])\n",
        "    # print(len(mas[i]))\n",
        "  return sum\n",
        "\n",
        "def teorver(x):\n",
        "  return math.exp(-lamda*x)\n",
        "\n",
        "\n",
        "\n",
        "\n",
        "\n",
        "df = pd.DataFrame(columns = ['k','k0','k1', 'n_k', 'p_k','n_k*'])\n",
        "\n",
        "tr = np.unique(all1)\n",
        "u = 0\n",
        "df['k'] =range(len(prom)-1)\n",
        "for k in range(len(prom)-1):\n",
        "  df['k0'][k] = prom[k]\n",
        "  # print(df['k0'])\n",
        "  # print('k', k)\n",
        "  # print(prom[k+1])\n",
        "  df['k1'][k] = prom[k+1]\n",
        "  summ = 0 \n",
        "  for k1 in tr:\n",
        "    # print(k1)\n",
        "    if df['k0'][k] <= k1 <= df['k1'][k]:\n",
        "      summ+= Counter(all1)[k1]\n",
        "      # print('sum')\n",
        "  df['n_k'][k] = summ\n",
        "  df['p_k'][k] = teorver(df['k0'][k]) - teorver(df['k1'][k])\n",
        "  df['n_k*'][k] = len(all1)*df['p_k'][k]\n",
        "df\n",
        "\n",
        "\n",
        "\n",
        "# df['k'] = np.unique(obidenenie(expan10005))\n",
        "# t = 0\n",
        "# for i in np.unique(obidenenie(expan10005)):\n",
        "#     df['n_k'][t] = Counter(obidenenie(expan10005))[i]\n",
        "#     # print(' fffff = ',df['n_k'][t])\n",
        "#     # print(i)\n",
        "#     df['p_k'][t] = teorver(i)\n",
        "#     df['n_k*'][t] = lenn(expan10005)*df['p_k'][t]\n",
        "#     # print('i =', i, ' countr =', Counter(obidenenie(expan10005))[i], ' teorvei',  teorver(i), ' т_k*',lenn(expan10005)*df['p_k'][i])\n",
        "#     t+=1\n"
      ],
      "execution_count": 0,
      "outputs": [
        {
          "output_type": "stream",
          "text": [
            "/usr/local/lib/python3.6/dist-packages/ipykernel_launcher.py:23: SettingWithCopyWarning: \n",
            "A value is trying to be set on a copy of a slice from a DataFrame\n",
            "\n",
            "See the caveats in the documentation: http://pandas.pydata.org/pandas-docs/stable/user_guide/indexing.html#returning-a-view-versus-a-copy\n",
            "/usr/local/lib/python3.6/dist-packages/ipykernel_launcher.py:27: SettingWithCopyWarning: \n",
            "A value is trying to be set on a copy of a slice from a DataFrame\n",
            "\n",
            "See the caveats in the documentation: http://pandas.pydata.org/pandas-docs/stable/user_guide/indexing.html#returning-a-view-versus-a-copy\n",
            "/usr/local/lib/python3.6/dist-packages/ipykernel_launcher.py:34: SettingWithCopyWarning: \n",
            "A value is trying to be set on a copy of a slice from a DataFrame\n",
            "\n",
            "See the caveats in the documentation: http://pandas.pydata.org/pandas-docs/stable/user_guide/indexing.html#returning-a-view-versus-a-copy\n",
            "/usr/local/lib/python3.6/dist-packages/ipykernel_launcher.py:35: SettingWithCopyWarning: \n",
            "A value is trying to be set on a copy of a slice from a DataFrame\n",
            "\n",
            "See the caveats in the documentation: http://pandas.pydata.org/pandas-docs/stable/user_guide/indexing.html#returning-a-view-versus-a-copy\n",
            "/usr/local/lib/python3.6/dist-packages/ipykernel_launcher.py:36: SettingWithCopyWarning: \n",
            "A value is trying to be set on a copy of a slice from a DataFrame\n",
            "\n",
            "See the caveats in the documentation: http://pandas.pydata.org/pandas-docs/stable/user_guide/indexing.html#returning-a-view-versus-a-copy\n"
          ],
          "name": "stderr"
        },
        {
          "output_type": "execute_result",
          "data": {
            "text/html": [
              "<div>\n",
              "<style scoped>\n",
              "    .dataframe tbody tr th:only-of-type {\n",
              "        vertical-align: middle;\n",
              "    }\n",
              "\n",
              "    .dataframe tbody tr th {\n",
              "        vertical-align: top;\n",
              "    }\n",
              "\n",
              "    .dataframe thead th {\n",
              "        text-align: right;\n",
              "    }\n",
              "</style>\n",
              "<table border=\"1\" class=\"dataframe\">\n",
              "  <thead>\n",
              "    <tr style=\"text-align: right;\">\n",
              "      <th></th>\n",
              "      <th>k</th>\n",
              "      <th>k0</th>\n",
              "      <th>k1</th>\n",
              "      <th>n_k</th>\n",
              "      <th>p_k</th>\n",
              "      <th>n_k*</th>\n",
              "    </tr>\n",
              "  </thead>\n",
              "  <tbody>\n",
              "    <tr>\n",
              "      <th>0</th>\n",
              "      <td>0</td>\n",
              "      <td>0</td>\n",
              "      <td>0.206667</td>\n",
              "      <td>3223</td>\n",
              "      <td>0.644343</td>\n",
              "      <td>3221.71</td>\n",
              "    </tr>\n",
              "    <tr>\n",
              "      <th>1</th>\n",
              "      <td>1</td>\n",
              "      <td>0.206667</td>\n",
              "      <td>0.413333</td>\n",
              "      <td>1141</td>\n",
              "      <td>0.229165</td>\n",
              "      <td>1145.83</td>\n",
              "    </tr>\n",
              "    <tr>\n",
              "      <th>2</th>\n",
              "      <td>2</td>\n",
              "      <td>0.413333</td>\n",
              "      <td>0.62</td>\n",
              "      <td>416</td>\n",
              "      <td>0.0815042</td>\n",
              "      <td>407.521</td>\n",
              "    </tr>\n",
              "    <tr>\n",
              "      <th>3</th>\n",
              "      <td>3</td>\n",
              "      <td>0.62</td>\n",
              "      <td>0.826667</td>\n",
              "      <td>150</td>\n",
              "      <td>0.0289876</td>\n",
              "      <td>144.938</td>\n",
              "    </tr>\n",
              "    <tr>\n",
              "      <th>4</th>\n",
              "      <td>4</td>\n",
              "      <td>0.826667</td>\n",
              "      <td>1.03333</td>\n",
              "      <td>50</td>\n",
              "      <td>0.0103096</td>\n",
              "      <td>51.5481</td>\n",
              "    </tr>\n",
              "    <tr>\n",
              "      <th>5</th>\n",
              "      <td>5</td>\n",
              "      <td>1.03333</td>\n",
              "      <td>1.24</td>\n",
              "      <td>15</td>\n",
              "      <td>0.00366669</td>\n",
              "      <td>18.3335</td>\n",
              "    </tr>\n",
              "    <tr>\n",
              "      <th>6</th>\n",
              "      <td>6</td>\n",
              "      <td>1.24</td>\n",
              "      <td>1.44667</td>\n",
              "      <td>10</td>\n",
              "      <td>0.00130409</td>\n",
              "      <td>6.52043</td>\n",
              "    </tr>\n",
              "    <tr>\n",
              "      <th>7</th>\n",
              "      <td>7</td>\n",
              "      <td>1.44667</td>\n",
              "      <td>1.65333</td>\n",
              "      <td>1</td>\n",
              "      <td>0.000463807</td>\n",
              "      <td>2.31904</td>\n",
              "    </tr>\n",
              "    <tr>\n",
              "      <th>8</th>\n",
              "      <td>8</td>\n",
              "      <td>1.65333</td>\n",
              "      <td>1.86</td>\n",
              "      <td>2</td>\n",
              "      <td>0.000164956</td>\n",
              "      <td>0.824782</td>\n",
              "    </tr>\n",
              "  </tbody>\n",
              "</table>\n",
              "</div>"
            ],
            "text/plain": [
              "   k        k0        k1   n_k          p_k      n_k*\n",
              "0  0         0  0.206667  3223     0.644343   3221.71\n",
              "1  1  0.206667  0.413333  1141     0.229165   1145.83\n",
              "2  2  0.413333      0.62   416    0.0815042   407.521\n",
              "3  3      0.62  0.826667   150    0.0289876   144.938\n",
              "4  4  0.826667   1.03333    50    0.0103096   51.5481\n",
              "5  5   1.03333      1.24    15   0.00366669   18.3335\n",
              "6  6      1.24   1.44667    10   0.00130409   6.52043\n",
              "7  7   1.44667   1.65333     1  0.000463807   2.31904\n",
              "8  8   1.65333      1.86     2  0.000164956  0.824782"
            ]
          },
          "metadata": {
            "tags": []
          },
          "execution_count": 139
        }
      ]
    },
    {
      "cell_type": "code",
      "metadata": {
        "colab_type": "code",
        "outputId": "f6df8270-9bcf-42fa-9204-96cd62e83dd9",
        "id": "SGOF74yJpnPT",
        "colab": {
          "base_uri": "https://localhost:8080/",
          "height": 359
        }
      },
      "source": [
        "Ndf = df.copy(deep=True)\n",
        "Ndf['(n_k-n_k*)^2/n_k*'] = ((Ndf['n_k'] - Ndf['n_k*'])**2)/Ndf['n_k*']\n",
        "Ndf.loc['sum'] = Ndf.sum()\n",
        "Ndf"
      ],
      "execution_count": 0,
      "outputs": [
        {
          "output_type": "execute_result",
          "data": {
            "text/html": [
              "<div>\n",
              "<style scoped>\n",
              "    .dataframe tbody tr th:only-of-type {\n",
              "        vertical-align: middle;\n",
              "    }\n",
              "\n",
              "    .dataframe tbody tr th {\n",
              "        vertical-align: top;\n",
              "    }\n",
              "\n",
              "    .dataframe thead th {\n",
              "        text-align: right;\n",
              "    }\n",
              "</style>\n",
              "<table border=\"1\" class=\"dataframe\">\n",
              "  <thead>\n",
              "    <tr style=\"text-align: right;\">\n",
              "      <th></th>\n",
              "      <th>k</th>\n",
              "      <th>k0</th>\n",
              "      <th>k1</th>\n",
              "      <th>n_k</th>\n",
              "      <th>p_k</th>\n",
              "      <th>n_k*</th>\n",
              "      <th>(n_k-n_k*)^2/n_k*</th>\n",
              "    </tr>\n",
              "  </thead>\n",
              "  <tbody>\n",
              "    <tr>\n",
              "      <th>0</th>\n",
              "      <td>0.0</td>\n",
              "      <td>0</td>\n",
              "      <td>0.206667</td>\n",
              "      <td>3223</td>\n",
              "      <td>0.644343</td>\n",
              "      <td>3221.71</td>\n",
              "      <td>0.000512949</td>\n",
              "    </tr>\n",
              "    <tr>\n",
              "      <th>1</th>\n",
              "      <td>1.0</td>\n",
              "      <td>0.206667</td>\n",
              "      <td>0.413333</td>\n",
              "      <td>1141</td>\n",
              "      <td>0.229165</td>\n",
              "      <td>1145.83</td>\n",
              "      <td>0.0203232</td>\n",
              "    </tr>\n",
              "    <tr>\n",
              "      <th>2</th>\n",
              "      <td>2.0</td>\n",
              "      <td>0.413333</td>\n",
              "      <td>0.62</td>\n",
              "      <td>416</td>\n",
              "      <td>0.0815042</td>\n",
              "      <td>407.521</td>\n",
              "      <td>0.176415</td>\n",
              "    </tr>\n",
              "    <tr>\n",
              "      <th>3</th>\n",
              "      <td>3.0</td>\n",
              "      <td>0.62</td>\n",
              "      <td>0.826667</td>\n",
              "      <td>150</td>\n",
              "      <td>0.0289876</td>\n",
              "      <td>144.938</td>\n",
              "      <td>0.17681</td>\n",
              "    </tr>\n",
              "    <tr>\n",
              "      <th>4</th>\n",
              "      <td>4.0</td>\n",
              "      <td>0.826667</td>\n",
              "      <td>1.03333</td>\n",
              "      <td>50</td>\n",
              "      <td>0.0103096</td>\n",
              "      <td>51.5481</td>\n",
              "      <td>0.0464952</td>\n",
              "    </tr>\n",
              "    <tr>\n",
              "      <th>5</th>\n",
              "      <td>5.0</td>\n",
              "      <td>1.03333</td>\n",
              "      <td>1.24</td>\n",
              "      <td>15</td>\n",
              "      <td>0.00366669</td>\n",
              "      <td>18.3335</td>\n",
              "      <td>0.606103</td>\n",
              "    </tr>\n",
              "    <tr>\n",
              "      <th>6</th>\n",
              "      <td>6.0</td>\n",
              "      <td>1.24</td>\n",
              "      <td>1.44667</td>\n",
              "      <td>10</td>\n",
              "      <td>0.00130409</td>\n",
              "      <td>6.52043</td>\n",
              "      <td>1.85685</td>\n",
              "    </tr>\n",
              "    <tr>\n",
              "      <th>7</th>\n",
              "      <td>7.0</td>\n",
              "      <td>1.44667</td>\n",
              "      <td>1.65333</td>\n",
              "      <td>1</td>\n",
              "      <td>0.000463807</td>\n",
              "      <td>2.31904</td>\n",
              "      <td>0.75025</td>\n",
              "    </tr>\n",
              "    <tr>\n",
              "      <th>8</th>\n",
              "      <td>8.0</td>\n",
              "      <td>1.65333</td>\n",
              "      <td>1.86</td>\n",
              "      <td>2</td>\n",
              "      <td>0.000164956</td>\n",
              "      <td>0.824782</td>\n",
              "      <td>1.67455</td>\n",
              "    </tr>\n",
              "    <tr>\n",
              "      <th>sum</th>\n",
              "      <td>36.0</td>\n",
              "      <td>7.44</td>\n",
              "      <td>9.3</td>\n",
              "      <td>5008</td>\n",
              "      <td>0.999909</td>\n",
              "      <td>4999.54</td>\n",
              "      <td>5.30831</td>\n",
              "    </tr>\n",
              "  </tbody>\n",
              "</table>\n",
              "</div>"
            ],
            "text/plain": [
              "        k        k0        k1   n_k          p_k      n_k* (n_k-n_k*)^2/n_k*\n",
              "0     0.0         0  0.206667  3223     0.644343   3221.71       0.000512949\n",
              "1     1.0  0.206667  0.413333  1141     0.229165   1145.83         0.0203232\n",
              "2     2.0  0.413333      0.62   416    0.0815042   407.521          0.176415\n",
              "3     3.0      0.62  0.826667   150    0.0289876   144.938           0.17681\n",
              "4     4.0  0.826667   1.03333    50    0.0103096   51.5481         0.0464952\n",
              "5     5.0   1.03333      1.24    15   0.00366669   18.3335          0.606103\n",
              "6     6.0      1.24   1.44667    10   0.00130409   6.52043           1.85685\n",
              "7     7.0   1.44667   1.65333     1  0.000463807   2.31904           0.75025\n",
              "8     8.0   1.65333      1.86     2  0.000164956  0.824782           1.67455\n",
              "sum  36.0      7.44       9.3  5008     0.999909   4999.54           5.30831"
            ]
          },
          "metadata": {
            "tags": []
          },
          "execution_count": 140
        }
      ]
    },
    {
      "cell_type": "markdown",
      "metadata": {
        "colab_type": "text",
        "id": "5-XPZUhZpnPR"
      },
      "source": [
        "Я разбил на 10 равных значений, от минимального значения до максимального. \n",
        "\n",
        "Получил 9 равных промежутков. Количество степеней свободы в таком случае k = 9 - 2 = 7. $\\chi^2 = $"
      ]
    },
    {
      "cell_type": "code",
      "metadata": {
        "colab_type": "code",
        "outputId": "7df34222-961b-4087-efb1-0e245401a4e9",
        "id": "FpFEew2BpnPM",
        "colab": {
          "base_uri": "https://localhost:8080/",
          "height": 34
        }
      },
      "source": [
        "# получили \n",
        "print('X^2 =',Ndf['(n_k-n_k*)^2/n_k*']['sum'])"
      ],
      "execution_count": 0,
      "outputs": [
        {
          "output_type": "stream",
          "text": [
            "X^2 = 5.308306252861858\n"
          ],
          "name": "stdout"
        }
      ]
    },
    {
      "cell_type": "markdown",
      "metadata": {
        "colab_type": "text",
        "id": "vMPmEvw4pnPG"
      },
      "source": [
        "Из расчетной таблицы находим наблюдаемое значение критерия Пирсона $\\chi^2 = 5.308306252861858 $. Критическая точка для уровня значимости 0.05 и 0.1 при количестве степеней свободы k = 9 - 2 = 7 (число получиных групп - 2 ). Смотрим в таблицу и получаем 14.1 , 12.0 соответственно, поэтому у нас нет оснований отвергнуть нулевую нашу гипотезу. (Так как $\\chi^2$ больше критического значения)"
      ]
    },
    {
      "cell_type": "markdown",
      "metadata": {
        "id": "vVciRXRroCU5",
        "colab_type": "text"
      },
      "source": [
        "###### График построим:"
      ]
    },
    {
      "cell_type": "code",
      "metadata": {
        "id": "XTLbCc3qoLA0",
        "colab_type": "code",
        "outputId": "3314034c-fc12-4ce4-bfa4-6b2e34ccd3c5",
        "colab": {
          "base_uri": "https://localhost:8080/",
          "height": 282
        }
      },
      "source": [
        "import matplotlib.pyplot as plt\n",
        "\n",
        "Ndf['(n_k-n_k*)^2/n_k*'][0:9].plot()\n",
        "\n",
        "# import seaborn as sn\n",
        "# sn.distplot(,bins=5)"
      ],
      "execution_count": 0,
      "outputs": [
        {
          "output_type": "execute_result",
          "data": {
            "text/plain": [
              "<matplotlib.axes._subplots.AxesSubplot at 0x7f036d8b9b70>"
            ]
          },
          "metadata": {
            "tags": []
          },
          "execution_count": 146
        },
        {
          "output_type": "display_data",
          "data": {
            "image/png": "[encoded data removed]",
            "text/plain": [
              "<Figure size 432x288 with 1 Axes>"
            ]
          },
          "metadata": {
            "tags": []
          }
        }
      ]
    },
    {
      "cell_type": "code",
      "metadata": {
        "id": "J6RIiCOsrS8q",
        "colab_type": "code",
        "outputId": "a8611e95-e551-4bc2-a434-afddae3cacd2",
        "colab": {
          "base_uri": "https://localhost:8080/",
          "height": 282
        }
      },
      "source": [
        "%matplotlib inline\n",
        "import pandas as pd\n",
        "import numpy as np\n",
        "import matplotlib.pyplot as plt\n",
        "\n",
        "\n",
        "fig, ax = plt.subplots()\n",
        "ax.bar(range(0,9), Ndf['(n_k-n_k*)^2/n_k*'][0:9].tolist())\n",
        "\n"
      ],
      "execution_count": 0,
      "outputs": [
        {
          "output_type": "execute_result",
          "data": {
            "text/plain": [
              "<BarContainer object of 9 artists>"
            ]
          },
          "metadata": {
            "tags": []
          },
          "execution_count": 175
        },
        {
          "output_type": "display_data",
          "data": {
            "image/png": "[encoded data removed]",
            "text/plain": [
              "<Figure size 432x288 with 1 Axes>"
            ]
          },
          "metadata": {
            "tags": []
          }
        }
      ]
    },
    {
      "cell_type": "markdown",
      "metadata": {
        "id": "Z6ApPtFPDDGK",
        "colab_type": "text"
      },
      "source": [
        "### 4.1.2* Доп"
      ]
    },
    {
      "cell_type": "markdown",
      "metadata": {
        "id": "DpS83nbON1lC",
        "colab_type": "text"
      },
      "source": [
        "1) Интересный факт: Долго разбирался с тем почему у меня с 500к сгенерированной выборки не сходилось. Оказалось, что в некоторые моменты питон обрезает концы от вычисений. ( скорее всего ) для более точного, надо что-то подключать (но не всегда) "
      ]
    },
    {
      "cell_type": "markdown",
      "metadata": {
        "id": "_0naS4CrkOhC",
        "colab_type": "text"
      },
      "source": [
        "Теперь сделаем доп задание. Колмогорова-Смирнова для 2-х выборок разной длины) \n",
        "\n",
        "В течение года выборочно осуществлялась проверка фермерских точек в Боливии(n1) и  XXX(n2) по выращиванию кофе. Результаты двух проверок по выращиванию не законных кустов кофе одного сорта приведены в таблице: \n",
        "\n",
        "![исследуемая картинка](https://a.radikal.ru/a41/1912/b1/33c01be31005.png)\n",
        "\n",
        "\n",
        "Ниже мы ее получим. "
      ]
    },
    {
      "cell_type": "code",
      "metadata": {
        "id": "G_Qw6b7jm-mm",
        "colab_type": "code",
        "colab": {}
      },
      "source": [
        "from collections import Counter\n",
        "import numpy as np\n",
        "import math \n",
        "import pandas as pd\n",
        "mas = expan10005\n",
        "mas1 = expan1000 \n",
        "def chek_by_double(interval): \n",
        "  masall = []\n",
        "  for i in range(len(mas)):\n",
        "    masall = masall + mas[i]\n",
        "  uniqq = np.unique(masall)\n",
        "  masall1 = []\n",
        "  for i in range(len(mas1)):\n",
        "    masall1 = masall1 + mas1[i]\n",
        "  uniqqqfreq = Counter(masall)\n",
        "  \n",
        "  #print('len1',len(masall),'len2', len(masall1))\n",
        "  uniqq1 = np.unique(masall)\n",
        "  \n",
        "  uniqqqfreq1 = Counter(masall1)\n",
        "  max_for_all = max(max(uniqq1),max(uniqq))\n",
        "  min_for_all = min(min(uniqq1),min(uniqq))\n",
        "\n",
        "  df = pd.DataFrame(index = ['n1','n2'] ,columns = range(interval-1))\n",
        "\n",
        "  maxLabda = -99999\n",
        " \n",
        "  prom = np.linspace(min_for_all, max_for_all, interval)\n",
        "\n",
        "  for i in range(len(prom)-1):\n",
        "    sum1 = 0 \n",
        "    sum2 = 0\n",
        "    # по 1 выборке \n",
        "    for t in uniqq:\n",
        "      if prom[i] <= t <= prom[i+1]:\n",
        "        sum1+=uniqqqfreq[t]\n",
        "\n",
        "    df.loc['n1'][i] = sum1\n",
        "\n",
        "\n",
        "    for t in uniqq1:\n",
        "      if prom[i] <= t <= prom[i+1]:\n",
        "        sum2+=uniqqqfreq1[t]\n",
        "        \n",
        "    df.loc['n2'][i] = sum2\n",
        "  sum1 = 0\n",
        "  sum2 = 0\n",
        "  df['sum'] = df.sum(axis=1)\n",
        "  for i in range(interval-1):\n",
        "    sum1 += df.loc['n1'][i]\n",
        "    sum2 += df.loc['n2'][i]\n",
        "    lamaN = abs(sum1/df.loc['n1']['sum'] - sum2/df.loc['n2']['sum'])*  ((df.loc['n2']['sum']*df.loc['n1']['sum'] )/((df.loc['n2']['sum'] + df.loc['n1']['sum'])  ))**(0.5)\n",
        "    if maxLabda < lamaN:\n",
        "      maxLabda = lamaN \n",
        "\n",
        "\n",
        "  print('maxlam', maxLabda)\n",
        "    # print('len(mas)', len(mas))\n",
        "  #   lamaN = abs(1 - math.exp(-Lamda*i) - sum/len(masall))\n",
        "  #   if maxLabda < lamaN:\n",
        "  #     maxLabda = lamaN\n",
        "  #   # print('i = ', i , 'sum = ', sum, 'lamaN', lamaN)\n",
        "  #   # print('sUUM = ', sum/len(masall) )\n",
        "  # # print('maxLabda', maxLabda)\n",
        "\n",
        "  return df\n",
        "  # print(uniqqq) "
      ],
      "execution_count": 0,
      "outputs": []
    },
    {
      "cell_type": "markdown",
      "metadata": {
        "id": "l4Pf-GyhwyQu",
        "colab_type": "text"
      },
      "source": [
        "Используя критерий Колмогорова-Смирнова (проверяем гипотезу $H_0: F_1(x) = F_2(x)$ - о, том что данные описываются одной и той же функцией распределения). Вычислили накопленные частоты для обоих выборок и значения эмпирических функций(оносительные накопленные частоты).\n",
        "\n",
        "$$ \\lambda = max|F_1^*(x)-F_2^*(x)|\\cdot \\sqrt{\\frac{n_1\\cdot n_2}{n_1+n_2}} $$ Лямбда будет выведена на экран ниже "
      ]
    },
    {
      "cell_type": "code",
      "metadata": {
        "id": "oqL_hjIjTWUQ",
        "colab_type": "code",
        "outputId": "c948225a-404a-4300-f7c5-d596e9f80d54",
        "colab": {
          "base_uri": "https://localhost:8080/",
          "height": 34
        }
      },
      "source": [
        "df = chek_by_double(10)  "
      ],
      "execution_count": 0,
      "outputs": [
        {
          "output_type": "stream",
          "text": [
            "maxlam 0.22486977529580743\n"
          ],
          "name": "stdout"
        }
      ]
    },
    {
      "cell_type": "code",
      "metadata": {
        "id": "2aKb1Lb6Pfwj",
        "colab_type": "code",
        "outputId": "7d396cb2-7732-4cc1-8e88-9195e78ba141",
        "colab": {
          "base_uri": "https://localhost:8080/",
          "height": 112
        }
      },
      "source": [
        "df"
      ],
      "execution_count": 0,
      "outputs": [
        {
          "output_type": "execute_result",
          "data": {
            "text/html": [
              "<div>\n",
              "<style scoped>\n",
              "    .dataframe tbody tr th:only-of-type {\n",
              "        vertical-align: middle;\n",
              "    }\n",
              "\n",
              "    .dataframe tbody tr th {\n",
              "        vertical-align: top;\n",
              "    }\n",
              "\n",
              "    .dataframe thead th {\n",
              "        text-align: right;\n",
              "    }\n",
              "</style>\n",
              "<table border=\"1\" class=\"dataframe\">\n",
              "  <thead>\n",
              "    <tr style=\"text-align: right;\">\n",
              "      <th></th>\n",
              "      <th>0</th>\n",
              "      <th>1</th>\n",
              "      <th>2</th>\n",
              "      <th>3</th>\n",
              "      <th>4</th>\n",
              "      <th>5</th>\n",
              "      <th>6</th>\n",
              "      <th>7</th>\n",
              "      <th>8</th>\n",
              "      <th>sum</th>\n",
              "    </tr>\n",
              "  </thead>\n",
              "  <tbody>\n",
              "    <tr>\n",
              "      <th>n1</th>\n",
              "      <td>373575</td>\n",
              "      <td>93927</td>\n",
              "      <td>24104</td>\n",
              "      <td>6220</td>\n",
              "      <td>1630</td>\n",
              "      <td>411</td>\n",
              "      <td>90</td>\n",
              "      <td>32</td>\n",
              "      <td>11</td>\n",
              "      <td>500000.0</td>\n",
              "    </tr>\n",
              "    <tr>\n",
              "      <th>n2</th>\n",
              "      <td>3747</td>\n",
              "      <td>944</td>\n",
              "      <td>232</td>\n",
              "      <td>57</td>\n",
              "      <td>16</td>\n",
              "      <td>3</td>\n",
              "      <td>1</td>\n",
              "      <td>0</td>\n",
              "      <td>0</td>\n",
              "      <td>5000.0</td>\n",
              "    </tr>\n",
              "  </tbody>\n",
              "</table>\n",
              "</div>"
            ],
            "text/plain": [
              "         0      1      2     3     4    5   6   7   8       sum\n",
              "n1  373575  93927  24104  6220  1630  411  90  32  11  500000.0\n",
              "n2    3747    944    232    57    16    3   1   0   0    5000.0"
            ]
          },
          "metadata": {
            "tags": []
          },
          "execution_count": 91
        }
      ]
    },
    {
      "cell_type": "markdown",
      "metadata": {
        "id": "T1zQMbXXv8CA",
        "colab_type": "text"
      },
      "source": [
        "Максимальная $\\lambda = 0.22486977529580743$ \n",
        "\n",
        "\n",
        "Из таблице ранее получаем $\\lambda_{0.05}  = 1.36 $ и при $\\lambda_{0.01} = 1.22$, что больше полученного, поэтому можем принять гипотизу о том, что эти выборки описываются одной и той же функцией распределения.  "
      ]
    },
    {
      "cell_type": "markdown",
      "metadata": {
        "id": "BLMUF5bwrhk5",
        "colab_type": "text"
      },
      "source": [
        "## 4.2 Проверка параметрических гипотез"
      ]
    },
    {
      "cell_type": "markdown",
      "metadata": {
        "id": "GTKr5t6FhLlE",
        "colab_type": "text"
      },
      "source": [
        "### 4.2.1 Выбор данных"
      ]
    },
    {
      "cell_type": "markdown",
      "metadata": {
        "id": "bBCrdF4tWOWf",
        "colab_type": "text"
      },
      "source": [
        "Пока данные будут сгенерены. Разных размеров."
      ]
    },
    {
      "cell_type": "markdown",
      "metadata": {
        "id": "wW8Y3AUPhUmr",
        "colab_type": "text"
      },
      "source": [
        "### 4.2.2 Постановка задачи"
      ]
    },
    {
      "cell_type": "markdown",
      "metadata": {
        "id": "ZQw9sJTYWYBb",
        "colab_type": "text"
      },
      "source": [
        "Воспользуемся критерием однородности Смирнова. Для проверки принадлежности двух независимых выборок одному законы распределения.\n",
        "\n",
        "О критерии можно почитатаь ранее, в соответсвующей главе выше. \n",
        "\n",
        "\n",
        "Пусть гипотиза $H_0$ означает, что у нас две выборки подчиняются одному закону распределения случайной величины   $\\xi$. \n",
        "\n",
        "$H_1$ - означает, что эти выборки не подчиняются одному закону распределения(не однородны)\n",
        "\n",
        "Пусть $X_0$ - это ограниченнае пространство наблюдений и мы принимаем $Х_0$, если $x \\in X_0$. А  $Y_1$, если $x \\in X_1$, то принимаем $H_1$. \n",
        "\n",
        "\n",
        "Ошибкой первого рода - называется случий: если $x \\in X_1$, а истинная гипотеза это $H_0$.\n",
        "\n",
        "Ошибкой второго рода - называется случий: если $x \\in X_0$, а истинная гипотеза $H_1$\n",
        "\n",
        "Мощность критерия - это $P_1(X_1)$ вероятность отвергнуть гипотезу $H_0$, если она действительно явяется ложной.\n",
        "\n",
        "Ошибка первого рода: $P(x \\in X_1|H_0) = \\alpha$ \n",
        "\n",
        "Ошибка второго рода: $P(x \\in X_0|H_1) = \\beta$\n",
        "\n",
        "Функция мощности критерия - - функционал на множестве допустимых распределений $\\mathscr{F}$ и выборке X.\n",
        "\n",
        "$$ W(F) = W(F; \\mathcal{X}_{1,\\alpha}) = P(x \\in \\mathcal{X}_{1,\\alpha}| F) $$\n",
        ", где $P(x \\in \\mathcal{X}_{1,\\alpha}|F)$ - вероятность попасть в $\\mathcal{X}_{1,\\alpha}$, если F - истинная гипотеза. Также \n",
        "\n",
        "$$ \\alpha = {\\underset{F \\in \\mathscr{F}_0}{sup}}W(F) $$\n",
        "\n",
        "$$ \\beta = {\\underset{F \\in \\mathscr{F}_1}{sup}}1-W(F)$$"
      ]
    },
    {
      "cell_type": "markdown",
      "metadata": {
        "id": "unM_5Y1xhYJZ",
        "colab_type": "text"
      },
      "source": [
        "### 4.2.3 Вычисление функции отношения правдоподобия"
      ]
    },
    {
      "cell_type": "markdown",
      "metadata": {
        "id": "X-pNu6hiAafQ",
        "colab_type": "text"
      },
      "source": [
        "   Рассмотрим функцию $\\psi(c) = \\sum_{\\hat{X}:l(\\hat{X}) \\geq c} L(\\overline{X}, \\theta_0) , \\psi(0) = 1$, Заметим, что чем больше с, тем меньше значение $\\psi(c)$, то есть наша заданная функция является убывающей. \n",
        "\n",
        "Теорема Леймана-Пирсона: \n",
        "\n",
        "  Пусть $\\forall \\alpha \\exists c_\\alpha $:  $\\psi(c_\\alpha) = \\alpha $, тогда критическая область $X_{1\\alpha}^{*} = \\{\\overline{X} : l(\\overline{X})\\geq c_\\alpha \\}$ - это наиболее мощный критерий для гипотезы $H_0$ с уровнем значимости $\\alpha$ относительно альтернативы $H_1$, среди всех критериев с уровнем значимости $\\alpha$"
      ]
    },
    {
      "cell_type": "markdown",
      "metadata": {
        "id": "DsUjtFGPPo_2",
        "colab_type": "text"
      },
      "source": [
        "Найдем оношение правдоподобия 2-х Пуассоновских величин  \n",
        "\n",
        "\n",
        "$\\xi \\sim \\frac{e^{-\\lambda} \\lambda^{k}}{k!},k \\geq 0 $ \n",
        "\n",
        "$L(x,\\theta) = \\prod\\limits_{i = 1}^n f_\\theta (X_i) = \\prod\\limits_{i = 1}^n \\frac{e^{-\\theta} \\theta^{x_i}}{x_i!}  $\n",
        "\n",
        " $l(X) = \\frac{L(X, \\theta_1)}{L(X, \\theta_0 )} = \\prod\\limits_{i = 1}^n e^{-\\theta_1+\\theta_0}(\\frac{\\theta_1}{\\theta_0})^{x_i}   $\n",
        "\n",
        "$\\ln{ l(X)} = \\sum\\limits_{i=1}^{n} \\ln{(e^{\\theta_0-\\theta_1}} (\\frac{\\theta_1}{\\theta_0})^{x_i}) = \\sum\\limits_{i=1}^{n}(\\theta_0 - \\theta_1 +x_i \\ln{\\frac{\\theta_1}{\\theta_0}}) \\geq \\ln{C}  $\n",
        "\n",
        "$\\ln{\\frac{\\theta_1}{\\theta_0}} \\sum\\limits_{i=1}^{n} x_i \\geq  \\ln{C} - n(\\theta_0 - \\theta_1)$\n",
        "\n",
        "Начальная задача: $P_0(l(x) \\geq c) = \\alpha$ - в таком случае будет минимальная ошибка 2 рода\n",
        "\n",
        "Эквивалентная функция: $P_0(\\ln{\\frac{\\theta_1}{\\theta_0}} \\sum x_i \\geq c' ) > \\alpha$\n",
        "\n",
        "Достаточная статистика: \n",
        "\n",
        "Если $\\theta_1 > \\theta_0 \\Rightarrow \\sum x_i \\geq c''$ (1) случай\n",
        "\n",
        "А при $\\theta_1 < \\theta_0 \\Rightarrow \\sum x_i  \\leq с''$ (2) случай \n",
        "\n",
        "Расмотрим (1) случай: \n",
        "\n",
        "$\\sum x_i \\geq c$\n",
        "\n",
        "$P_0( \\sum\\limits_{i=1}^{n}x_i) = \\alpha$\n",
        "\n",
        "Сумма Пласоновских , это Плассон $\\Rightarrow$\n",
        "\n",
        "$\\xi_0 \\sim Pois(n \\cdot \\theta_0)$\n",
        "\n",
        "$\\xi_1 \\sim Pois(n \\cdot \\theta_1)$\n",
        "\n",
        "Решим уравнение: \n",
        "\n",
        "это дискретный случай $P(\\xi_0 \\geq c) = \\alpha$\n",
        "\n",
        "$\\sum\\limits_{i=k+1}^{\\infty}p(i) < \\alpha \\leq \\sum\\limits_{k}^{\\infty} p(i) $\n",
        "\n",
        "Наша статистика: \n",
        "\n",
        "$P_0(\\sum\\limits^{n}_{i=1} x_i \\geq c) = \\alpha$\n",
        "Самый простой случай когда (=) \n",
        "Тогда критерий равен $P_0(\\sum\\limits_{i=1}^{n}x_i \\geq  k )  \\Leftrightarrow P(\\xi_0 \\geq k) = \\alpha$\n",
        "\n",
        "Ошибка 2 рода: \n",
        "\n",
        "$\\beta = 1 - P(\\xi_1 \\geq k) = F_{\\xi_1}(k)$\n",
        "\n",
        "Хотим получить ровно $\\alpha$\n",
        "\n",
        "Критерий \n",
        "\n",
        "$$ \\begin{equation*}\n",
        "В случае если: \n",
        " \\begin{cases}\n",
        "   1 &\\text{ if $\\sum x_i > k$}\\\\\n",
        "   ver &\\text{ $\\frac{\\alpha - P(\\xi_0 > k)}{P(\\xi_0 \\geq k)}$} \\\\\n",
        "   0 &\\text{ if $\\sum x_i < k$}\\\\\n",
        " \\end{cases}\n",
        "\\end{equation*}  $$"
      ]
    },
    {
      "cell_type": "markdown",
      "metadata": {
        "id": "nwMzbvBbYzAz",
        "colab_type": "text"
      },
      "source": [
        "$t_\\alpha$ - квантиль "
      ]
    },
    {
      "cell_type": "markdown",
      "metadata": {
        "id": "pHotlTknKXW8",
        "colab_type": "text"
      },
      "source": [
        "\n",
        "\n",
        "---\n",
        "\n"
      ]
    },
    {
      "cell_type": "markdown",
      "metadata": {
        "id": "aJTM6NTl1qoQ",
        "colab_type": "text"
      },
      "source": [
        "еще раз и опишем лучше. "
      ]
    },
    {
      "cell_type": "markdown",
      "metadata": {
        "id": "TZfRwjcyKYyW",
        "colab_type": "text"
      },
      "source": [
        "Проверим простую гипотезу заданную ранее. \n",
        "\n",
        "Статистика отношения правдоподобия есть: \n",
        "\n",
        "$l(X) = (\\frac{\\theta_1}{\\theta_0})^{T_n} \\cdot e^{n(\\theta_0 -\\theta_1)} , T_n = \\sum\\limits_{i=1}^{n}X_i$\n",
        "\n",
        "Т.е. выражается через достаточную статистику модели $П(\\theta)$, при этом $\\mathcal{L}_{\\theta}(T_n) = П(n \\theta)$ В терминах статистики $T_n$ критерий задается критической областью вида $\\{T_n \\geq t_{\\alpha }\\}$ где граница $t_\\alpha $ при уровне значимости $\\alpha$ определим так: \n",
        "\n",
        "\n",
        "\n",
        "$$ \\alpha_0 \\equiv \\sum\\limits_{m=t_\\alpha +1}^{\\infty} e^{-n \\theta_0} \\frac{(n\\theta_0)^m}{m!} < \\alpha \\leq \\sum\\limits_{m=t_\\alpha}^{\\infty} e^{-n \\theta_0} \\frac{(n\\theta_0)^m}{m!} \\equiv  \\alpha'$$ \n",
        "\n",
        "НО при $\\alpha = \\alpha'$ оптимальный критерий имеет вид $\\mathfrak{X}^{*}_{1\\alpha} = \\{ T_n \\geq t_\\alpha \\}$, а так же, если $\\alpha < \\alpha' $, то можно использовать нерандомезированные наиболее мощные критерии!!! Такие как $\\mathfrak{X}_{1\\alpha'}^{*} = \\{ T_n \\geq t_\\alpha \\}$ и $\\mathfrak{X_{1\\alpha_0}^{*}} = \\{ T_n \\geq t_\\alpha +1\\}$ с уровнем значисости который соответсвенно равен $\\alpha' > \\alpha$ и $\\alpha_0 < \\alpha $. В случае $\\alpha < \\alpha'$ мы можем также рандомизированный критерий как на семе с уровнем значисости = $\\alpha:$ его критическая функция $\\varphi^{*}_{\\alpha}(T)$ имеет такой же вид, как: \n",
        "\n",
        "$$ \\begin{equation*}\n",
        "\\varphi_{\\alpha}^{*}(x) \n",
        " \\begin{cases}\n",
        "   1 &\\text{ if  $ T_n > t_\\alpha $}\\\\\n",
        "   \\frac{\\alpha - \\alpha_0}{p_0}  &\\text{ if $ T_n = t_\\alpha$} \\\\\n",
        "   0 &\\text{ if $ T_n < t_\\alpha$}\\\\\n",
        " \\end{cases}\n",
        "\\end{equation*}  $$ \n",
        "\n",
        ", где $p_0 = \\alpha' - \\alpha_0 = e^{-n\\theta_0} \\frac{(n\\theta_0)^{t_\\alpha}}{t_\\alpha!}$ \n",
        "\n",
        "\n",
        "Теперь вычислим мощность по формуле \n",
        "\n",
        "$W(\\theta_1) = \\sum\\limits_{m = t_\\alpha + 1}^{\\infty} e^{-n \\theta_1} \\frac{(n \\theta_1)^m}{m!} + (\\alpha - \\alpha_0)(\\frac{\\theta_1}{\\theta_0})^{t_{\\alpha }} e^{-n(\\theta_1 - \\theta_0)}$\n",
        " \n",
        "\n",
        " IF $n \\rightarrow \\infty $, то по центральной предельной теореме $\\mathcal{L}_{\\theta}(T_n) \\thicksim \\mathcal{N}(n\\theta, n\\theta)$  ассимптотическая форму критерия Неймана-Пуассона будет иметь вид $\\{T_n \\geq n\\theta_0 - \\zeta_{\\alpha}\\sqrt{n \\theta_0} \\}$, мощность при близкой альтернативе $\\theta_1 = \\theta_{1n}=\\theta_0 + \\frac{\\delta}{\\sqrt{n}}, \\delta>0$ удовлетворяет предельному соотношению \n",
        "\n",
        " $$\\lim_{x\\to \\infty} W(\\theta_{1n}) = Ф(\\frac{\\delta}{\\sqrt{\\theta_0}} + \\zeta_{\\alpha}) $$.\n",
        "\n",
        "Замечу, что в любом случае вид оптимальной критической области тут также не зависит от альтернативы $\\theta_1$\n",
        "\n"
      ]
    },
    {
      "cell_type": "markdown",
      "metadata": {
        "id": "ou7fv23FhbRF",
        "colab_type": "text"
      },
      "source": [
        "\n",
        "\n",
        "---\n",
        "\n"
      ]
    },
    {
      "cell_type": "markdown",
      "metadata": {
        "id": "fzL8IRD_pLPn",
        "colab_type": "text"
      },
      "source": [
        " [(Сайт на примеры)](http://portal.tpu.ru/SHARED/l/LASUKOV/ms/Tab1/g3.pdf)"
      ]
    },
    {
      "cell_type": "markdown",
      "metadata": {
        "id": "BN3WTau8hZ1L",
        "colab_type": "text"
      },
      "source": [
        "### 4.2.4 Вычисление критической области/количества материала"
      ]
    },
    {
      "cell_type": "markdown",
      "metadata": {
        "id": "JFE6VTzaD0k2",
        "colab_type": "text"
      },
      "source": [
        "Сгенерируем  2 выборки и сохраним их. "
      ]
    },
    {
      "cell_type": "code",
      "metadata": {
        "id": "3AWrirIwyyAy",
        "colab_type": "code",
        "outputId": "b658d2e3-cd58-4d3d-d91d-af2e7eefb5fe",
        "colab": {
          "base_uri": "https://localhost:8080/",
          "height": 51
        }
      },
      "source": [
        "import numpy as np\n",
        "def poisonFun(lam, n, c):\n",
        "  poisson_arr = []\n",
        "  s = np.exp(-lam)\n",
        "  r = s \n",
        "  k = 0 \n",
        "  for k in range(n):\n",
        "    s = np.exp(-lam)\n",
        "    r = s \n",
        "    k = 0 \n",
        "    alf = np.abs(np.random.uniform(-1,0))\n",
        "    #alf  = np.random.rand()\n",
        "    while alf > s:\n",
        "      k += 1\n",
        "      r *= lam/k\n",
        "      s += r\n",
        "    poisson_arr.append(k)\n",
        "  # print(poisson_arr)\n",
        "  c.append(poisson_arr)\n",
        "    \n",
        "\n",
        "\n",
        "lam = float(input('Введите лямбду '))\n",
        "poison5 = []\n",
        "# print('n = 5')\n",
        "for c in range(5):\n",
        "    poisonFun(lam, 5,poison5)\n",
        "\n",
        "\n",
        "\n",
        "# print('n = 10')\n",
        "# poison10 = []\n",
        "for c in range(5):\n",
        "    poisonFun(lam, 10, poison10)\n",
        "\n",
        "\n",
        "\n",
        "print('n = 100')\n",
        "# poison100 = []\n",
        "for c in range(5):\n",
        "    poisonFun(lam, 100, poison100)\n",
        "\n",
        "\n",
        "poison1000 = []\n",
        "# print('n = 1000')\n",
        "for c in range(5):\n",
        "    poisonFun(lam, 1000, poison1000)\n",
        "\n"
      ],
      "execution_count": 9,
      "outputs": [
        {
          "output_type": "stream",
          "text": [
            "Введите лямбду 5\n",
            "n = 100\n"
          ],
          "name": "stdout"
        }
      ]
    },
    {
      "cell_type": "code",
      "metadata": {
        "id": "Mfy4cP15zhie",
        "colab_type": "code",
        "colab": {}
      },
      "source": [
        "poison10005 = []\n",
        "\n",
        "# print('n = 10*5')\n",
        "for c in range(5):\n",
        "    poisonFun(lam, 10**5, poison10005)\n",
        "\n"
      ],
      "execution_count": 0,
      "outputs": []
    },
    {
      "cell_type": "code",
      "metadata": {
        "id": "jiONCcr7wrOw",
        "colab_type": "code",
        "colab": {}
      },
      "source": [
        "import numpy as np \n",
        "from scipy.stats import poisson\n",
        "alpha = [0.1, 0.05]\n",
        "lambda1 = 5\n",
        "\n",
        "def prov(alpha, mas, lambda1):\n",
        "  allinOne = []\n",
        "  for i in range(len(mas)):\n",
        "    allinOne+=mas[i]\n",
        "  lengall = len(allinOne)\n",
        "  for r in alpha:\n",
        "    print('Альфа: ', r)\n",
        "    print('Объем: ', lengall)\n",
        "    inkrit = np.quantile(poisson.rvs(len(allinOne)*lambda1, size = 1000000 ), r)/lengall # и нормируем\n",
        "    more = 0\n",
        "    for i in allinOne:\n",
        "          if i > inkrit: more += 1       \n",
        "    beta = 1 - more/lengall\n",
        "    print('aaa = ',np.mean(allinOne), 'inkrit', inkrit)\n",
        "    if np.mean(allinOne) > inkrit:\n",
        "      print('Ошибка 2 рода', beta, 'Значение статистики ', inkrit, 'ОТКЛОНЯЕМ')\n",
        "    elif np.mean(allinOne) < inkrit:\n",
        "      print('Ошибка 2 рода', beta, 'Значение статистики', inkrit, 'Принимаем')\n",
        "    else: \n",
        "      p0 = poisson.cdf(inkrit , lengall*lambda1)\n",
        "      print('Принимаем лямбду', beta, 'Значение статистики',inkrit, 'ura', (p0 - alpha)/p0 )"
      ],
      "execution_count": 0,
      "outputs": []
    },
    {
      "cell_type": "code",
      "metadata": {
        "id": "5ydXLELWxgMs",
        "colab_type": "code",
        "outputId": "774a3b0e-f64f-4b27-fa12-8b7489fd48d0",
        "colab": {
          "base_uri": "https://localhost:8080/",
          "height": 156
        }
      },
      "source": [
        "prov(alpha , poison10005, 5.1)"
      ],
      "execution_count": 0,
      "outputs": [
        {
          "output_type": "stream",
          "text": [
            "Альфа:  0.1\n",
            "Объем:  500000\n",
            "aaa =  5.001508 inkrit 5.09591\n",
            "Ошибка 2 рода 0.615354 Значение статистики 5.09591 Принимаем\n",
            "Альфа:  0.05\n",
            "Объем:  500000\n",
            "aaa =  5.001508 inkrit 5.094756\n",
            "Ошибка 2 рода 0.615354 Значение статистики 5.094756 Принимаем\n"
          ],
          "name": "stdout"
        }
      ]
    },
    {
      "cell_type": "code",
      "metadata": {
        "id": "IjJnt5Q7y8G5",
        "colab_type": "code",
        "outputId": "f0b4156d-ea54-4afd-ea69-02e35244e4c5",
        "colab": {
          "base_uri": "https://localhost:8080/",
          "height": 156
        }
      },
      "source": [
        " prov(alpha , poison10005, 3)"
      ],
      "execution_count": 0,
      "outputs": [
        {
          "output_type": "stream",
          "text": [
            "Альфа:  0.1\n",
            "Объем:  500000\n",
            "aaa =  5.001508 inkrit 2.996868\n",
            "Ошибка 2 рода 0.12485000000000002 Значение статистики  2.996868 ОТКЛОНЯЕМ\n",
            "Альфа:  0.05\n",
            "Объем:  500000\n",
            "aaa =  5.001508 inkrit 2.995978\n",
            "Ошибка 2 рода 0.12485000000000002 Значение статистики  2.995978 ОТКЛОНЯЕМ\n"
          ],
          "name": "stdout"
        }
      ]
    },
    {
      "cell_type": "code",
      "metadata": {
        "id": "AxT3joNq2Jt0",
        "colab_type": "code",
        "colab": {}
      },
      "source": [
        ""
      ],
      "execution_count": 0,
      "outputs": []
    }
  ]
}