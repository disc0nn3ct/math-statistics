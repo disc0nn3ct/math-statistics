{
  "nbformat": 4,
  "nbformat_minor": 0,
  "metadata": {
    "colab": {
      "name": "dz5 on real data",
      "provenance": [],
      "collapsed_sections": [],
      "toc_visible": true
    },
    "kernelspec": {
      "name": "python3",
      "display_name": "Python 3"
    }
  },
  "cells": [
    {
      "cell_type": "markdown",
      "metadata": {
        "id": "OCc8IR-FAvb9",
        "colab_type": "text"
      },
      "source": [
        "# **Домашнее задание 5**"
      ]
    },
    {
      "cell_type": "markdown",
      "metadata": {
        "id": "Z6VuZ-NWAyk-",
        "colab_type": "text"
      },
      "source": [
        "Линейная регрессия и метод наименьших квадратов"
      ]
    },
    {
      "cell_type": "code",
      "metadata": {
        "colab_type": "code",
        "outputId": "48c743f3-b72c-493b-d1df-47b3abeec294",
        "id": "-9TntRkn21-v",
        "colab": {
          "base_uri": "https://localhost:8080/",
          "height": 333
        }
      },
      "source": [
        "# linear regression prediction with prediction interval\n",
        "from numpy.random import randn\n",
        "from numpy.random import seed\n",
        "from numpy import power\n",
        "from numpy import sqrt\n",
        "from numpy import mean\n",
        "from numpy import std\n",
        "from numpy import sum as arraysum\n",
        "from scipy.stats import linregress\n",
        "from matplotlib import pyplot\n",
        "# генератор случайных чисел\n",
        "seed(1)\n",
        "# подготавливаем данные \n",
        "x = 20 * randn(1500) + 100\n",
        "y = x + (10 * randn(1500) + 50)\n",
        "# Создали полходящую зависимость для линейной регрессии \n",
        "b1, b0, r_value, p_value, std_err = linregress(x, y)\n",
        "print('b0=%.3f, b1=%.3f задание 1' % (b1, b0))      # ОТВЕТ НА ЗАДАНИЕ в 1 вычислить\n",
        "# делаем предсказания \n",
        "yhat = b0 + b1 * x\n",
        "# определяем новый ввод, ожидаемое значение и прогноз ибо хочу потом предсказывать \n",
        "x_in = x[0]\n",
        "y_out = y[0]\n",
        "yhat_out = yhat[0]\n",
        "# оцениваем stdev от yhat\n",
        "sum_errs = arraysum((y - yhat)**2)\n",
        "stdev = sqrt(1/(len(y)-2) * sum_errs)\n",
        "# рассчитаем интервал для прогнозирования\n",
        "interval = 1.96 * stdev\n",
        "print('Интервал для прогноза: %.3f' % interval)\n",
        "lower, upper = y_out - interval, y_out + interval\n",
        "print('95%% вероятность того, что истинное значение находится между %.3f and %.3f' % (lower, upper))\n",
        "print('истинное значение : %.3f' % yhat_out)\n",
        "# выведем выборку и прогноз и интервальный участок ! \n",
        "pyplot.scatter(x, y)\n",
        "pyplot.plot(x, yhat, color='red')\n",
        "pyplot.errorbar(x_in, yhat_out, yerr=interval, color='black', fmt='o')\n",
        "pyplot.show()"
      ],
      "execution_count": 1,
      "outputs": [
        {
          "output_type": "stream",
          "text": [
            "b0=0.998, b1=49.933 задание 1\n",
            "Интервал для прогноза: 19.483\n",
            "95% вероятность того, что истинное значение находится между 176.016 and 214.982\n",
            "истинное значение : 182.213\n"
          ],
          "name": "stdout"
        },
        {
          "output_type": "display_data",
          "data": {
            "image/png": "[encoded data removed]",
            "text/plain": [
              "<Figure size 432x288 with 1 Axes>"
            ]
          },
          "metadata": {
            "tags": []
          }
        }
      ]
    },
    {
      "cell_type": "markdown",
      "metadata": {
        "id": "N6sCoZsx3Pn6",
        "colab_type": "text"
      },
      "source": [
        "Сделали для превдорондомной модели, теперь сделаем тоже самое только на реальных данных. И создадим функцию для проврки. ![задание 5.2](https://a.radikal.ru/a34/1912/ae/f1a88548b34a.png)"
      ]
    },
    {
      "cell_type": "code",
      "metadata": {
        "id": "P-_E2fy93zKw",
        "colab_type": "code",
        "colab": {}
      },
      "source": [
        "import statistics\n",
        "import numpy as np\n",
        "def rxy(masx,masy):\n",
        "  xmean = np.mean(masx)\n",
        "  print('xmean', xmean)\n",
        "  ymean = np.mean(masy)\n",
        "  print('ymean', ymean)\n",
        "  covXY = 0 \n",
        "  for i in range(len(masx)):\n",
        "    print((masx[i]-xmean)*(masy[i]-ymean))\n",
        "    covXY+= (masx[i]-xmean)*(masy[i]-ymean)\n",
        "  print('covXY', covXY)\n",
        "  Dmasx = statistics.variance(masx)\n",
        "  print('Dmasx', Dmasx)\n",
        "  Dmasy = statistics.variance(masy)\n",
        "  print('Dmasy', Dmasy)\n",
        "  return covXY/((Dmasx*Dmasy)**(0.5))\n",
        "\n"
      ],
      "execution_count": 0,
      "outputs": []
    },
    {
      "cell_type": "markdown",
      "metadata": {
        "id": "QT77MhUbAanw",
        "colab_type": "text"
      },
      "source": [
        "Для начала воспользуемся стандартными. Подручными средствами так сказать и посмотрим из библиотеки склерн "
      ]
    },
    {
      "cell_type": "code",
      "metadata": {
        "id": "rYZ5_kB8AZMX",
        "colab_type": "code",
        "outputId": "341faf6e-fb3a-436a-dea1-ce8b024d838b",
        "colab": {
          "base_uri": "https://localhost:8080/",
          "height": 1000
        }
      },
      "source": [
        "from sklearn.datasets import load_boston\n",
        "import seaborn as sns\n",
        "import pandas as pd\n",
        "boston = load_boston()\n",
        "print(boston.DESCR)\n",
        "boston_df = pd.DataFrame(boston.data, columns=boston.feature_names)\n",
        "boston_df['MEDV'] = boston.target\n",
        "boston_df.head()"
      ],
      "execution_count": 0,
      "outputs": [
        {
          "output_type": "stream",
          "text": [
            ".. _boston_dataset:\n",
            "\n",
            "Boston house prices dataset\n",
            "---------------------------\n",
            "\n",
            "**Data Set Characteristics:**  \n",
            "\n",
            "    :Number of Instances: 506 \n",
            "\n",
            "    :Number of Attributes: 13 numeric/categorical predictive. Median Value (attribute 14) is usually the target.\n",
            "\n",
            "    :Attribute Information (in order):\n",
            "        - CRIM     per capita crime rate by town\n",
            "        - ZN       proportion of residential land zoned for lots over 25,000 sq.ft.\n",
            "        - INDUS    proportion of non-retail business acres per town\n",
            "        - CHAS     Charles River dummy variable (= 1 if tract bounds river; 0 otherwise)\n",
            "        - NOX      nitric oxides concentration (parts per 10 million)\n",
            "        - RM       average number of rooms per dwelling\n",
            "        - AGE      proportion of owner-occupied units built prior to 1940\n",
            "        - DIS      weighted distances to five Boston employment centres\n",
            "        - RAD      index of accessibility to radial highways\n",
            "        - TAX      full-value property-tax rate per $10,000\n",
            "        - PTRATIO  pupil-teacher ratio by town\n",
            "        - B        1000(Bk - 0.63)^2 where Bk is the proportion of blacks by town\n",
            "        - LSTAT    % lower status of the population\n",
            "        - MEDV     Median value of owner-occupied homes in $1000's\n",
            "\n",
            "    :Missing Attribute Values: None\n",
            "\n",
            "    :Creator: Harrison, D. and Rubinfeld, D.L.\n",
            "\n",
            "This is a copy of UCI ML housing dataset.\n",
            "https://archive.ics.uci.edu/ml/machine-learning-databases/housing/\n",
            "\n",
            "\n",
            "This dataset was taken from the StatLib library which is maintained at Carnegie Mellon University.\n",
            "\n",
            "The Boston house-price data of Harrison, D. and Rubinfeld, D.L. 'Hedonic\n",
            "prices and the demand for clean air', J. Environ. Economics & Management,\n",
            "vol.5, 81-102, 1978.   Used in Belsley, Kuh & Welsch, 'Regression diagnostics\n",
            "...', Wiley, 1980.   N.B. Various transformations are used in the table on\n",
            "pages 244-261 of the latter.\n",
            "\n",
            "The Boston house-price data has been used in many machine learning papers that address regression\n",
            "problems.   \n",
            "     \n",
            ".. topic:: References\n",
            "\n",
            "   - Belsley, Kuh & Welsch, 'Regression diagnostics: Identifying Influential Data and Sources of Collinearity', Wiley, 1980. 244-261.\n",
            "   - Quinlan,R. (1993). Combining Instance-Based and Model-Based Learning. In Proceedings on the Tenth International Conference of Machine Learning, 236-243, University of Massachusetts, Amherst. Morgan Kaufmann.\n",
            "\n"
          ],
          "name": "stdout"
        },
        {
          "output_type": "execute_result",
          "data": {
            "text/html": [
              "<div>\n",
              "<style scoped>\n",
              "    .dataframe tbody tr th:only-of-type {\n",
              "        vertical-align: middle;\n",
              "    }\n",
              "\n",
              "    .dataframe tbody tr th {\n",
              "        vertical-align: top;\n",
              "    }\n",
              "\n",
              "    .dataframe thead th {\n",
              "        text-align: right;\n",
              "    }\n",
              "</style>\n",
              "<table border=\"1\" class=\"dataframe\">\n",
              "  <thead>\n",
              "    <tr style=\"text-align: right;\">\n",
              "      <th></th>\n",
              "      <th>CRIM</th>\n",
              "      <th>ZN</th>\n",
              "      <th>INDUS</th>\n",
              "      <th>CHAS</th>\n",
              "      <th>NOX</th>\n",
              "      <th>RM</th>\n",
              "      <th>AGE</th>\n",
              "      <th>DIS</th>\n",
              "      <th>RAD</th>\n",
              "      <th>TAX</th>\n",
              "      <th>PTRATIO</th>\n",
              "      <th>B</th>\n",
              "      <th>LSTAT</th>\n",
              "      <th>MEDV</th>\n",
              "    </tr>\n",
              "  </thead>\n",
              "  <tbody>\n",
              "    <tr>\n",
              "      <th>0</th>\n",
              "      <td>0.00632</td>\n",
              "      <td>18.0</td>\n",
              "      <td>2.31</td>\n",
              "      <td>0.0</td>\n",
              "      <td>0.538</td>\n",
              "      <td>6.575</td>\n",
              "      <td>65.2</td>\n",
              "      <td>4.0900</td>\n",
              "      <td>1.0</td>\n",
              "      <td>296.0</td>\n",
              "      <td>15.3</td>\n",
              "      <td>396.90</td>\n",
              "      <td>4.98</td>\n",
              "      <td>24.0</td>\n",
              "    </tr>\n",
              "    <tr>\n",
              "      <th>1</th>\n",
              "      <td>0.02731</td>\n",
              "      <td>0.0</td>\n",
              "      <td>7.07</td>\n",
              "      <td>0.0</td>\n",
              "      <td>0.469</td>\n",
              "      <td>6.421</td>\n",
              "      <td>78.9</td>\n",
              "      <td>4.9671</td>\n",
              "      <td>2.0</td>\n",
              "      <td>242.0</td>\n",
              "      <td>17.8</td>\n",
              "      <td>396.90</td>\n",
              "      <td>9.14</td>\n",
              "      <td>21.6</td>\n",
              "    </tr>\n",
              "    <tr>\n",
              "      <th>2</th>\n",
              "      <td>0.02729</td>\n",
              "      <td>0.0</td>\n",
              "      <td>7.07</td>\n",
              "      <td>0.0</td>\n",
              "      <td>0.469</td>\n",
              "      <td>7.185</td>\n",
              "      <td>61.1</td>\n",
              "      <td>4.9671</td>\n",
              "      <td>2.0</td>\n",
              "      <td>242.0</td>\n",
              "      <td>17.8</td>\n",
              "      <td>392.83</td>\n",
              "      <td>4.03</td>\n",
              "      <td>34.7</td>\n",
              "    </tr>\n",
              "    <tr>\n",
              "      <th>3</th>\n",
              "      <td>0.03237</td>\n",
              "      <td>0.0</td>\n",
              "      <td>2.18</td>\n",
              "      <td>0.0</td>\n",
              "      <td>0.458</td>\n",
              "      <td>6.998</td>\n",
              "      <td>45.8</td>\n",
              "      <td>6.0622</td>\n",
              "      <td>3.0</td>\n",
              "      <td>222.0</td>\n",
              "      <td>18.7</td>\n",
              "      <td>394.63</td>\n",
              "      <td>2.94</td>\n",
              "      <td>33.4</td>\n",
              "    </tr>\n",
              "    <tr>\n",
              "      <th>4</th>\n",
              "      <td>0.06905</td>\n",
              "      <td>0.0</td>\n",
              "      <td>2.18</td>\n",
              "      <td>0.0</td>\n",
              "      <td>0.458</td>\n",
              "      <td>7.147</td>\n",
              "      <td>54.2</td>\n",
              "      <td>6.0622</td>\n",
              "      <td>3.0</td>\n",
              "      <td>222.0</td>\n",
              "      <td>18.7</td>\n",
              "      <td>396.90</td>\n",
              "      <td>5.33</td>\n",
              "      <td>36.2</td>\n",
              "    </tr>\n",
              "  </tbody>\n",
              "</table>\n",
              "</div>"
            ],
            "text/plain": [
              "      CRIM    ZN  INDUS  CHAS    NOX  ...    TAX  PTRATIO       B  LSTAT  MEDV\n",
              "0  0.00632  18.0   2.31   0.0  0.538  ...  296.0     15.3  396.90   4.98  24.0\n",
              "1  0.02731   0.0   7.07   0.0  0.469  ...  242.0     17.8  396.90   9.14  21.6\n",
              "2  0.02729   0.0   7.07   0.0  0.469  ...  242.0     17.8  392.83   4.03  34.7\n",
              "3  0.03237   0.0   2.18   0.0  0.458  ...  222.0     18.7  394.63   2.94  33.4\n",
              "4  0.06905   0.0   2.18   0.0  0.458  ...  222.0     18.7  396.90   5.33  36.2\n",
              "\n",
              "[5 rows x 14 columns]"
            ]
          },
          "metadata": {
            "tags": []
          },
          "execution_count": 116
        }
      ]
    },
    {
      "cell_type": "markdown",
      "metadata": {
        "id": "IQ2N08kuXZPf",
        "colab_type": "text"
      },
      "source": [
        "Теперь выборка.  Возьмем из уже загруженных иногда, так как мне лень, я буду использовать \"разведывательный анализ\" \n",
        "\n",
        "Изучим карту корреляций разглядывая график. Визуализируем матрицу корреляций ввиде тепловой карты:"
      ]
    },
    {
      "cell_type": "code",
      "metadata": {
        "id": "mcXDkVntnWK5",
        "colab_type": "code",
        "outputId": "2774abe9-b97e-4439-9810-02d4d6d246ca",
        "colab": {
          "base_uri": "https://localhost:8080/",
          "height": 298
        }
      },
      "source": [
        "hm = sns.heatmap(boston_df.corr(), cbar=True, annot=True) # видно черные и бежевые цвета круто !!! =P"
      ],
      "execution_count": 0,
      "outputs": [
        {
          "output_type": "display_data",
          "data": {
            "image/png": "[encoded data removed]",
            "text/plain": [
              "<Figure size 432x288 with 2 Axes>"
            ]
          },
          "metadata": {
            "tags": []
          }
        }
      ]
    },
    {
      "cell_type": "code",
      "metadata": {
        "id": "2FDrX95aWDNX",
        "colab_type": "code",
        "outputId": "d4405e63-1857-4555-9225-630f9792e41e",
        "colab": {
          "base_uri": "https://localhost:8080/",
          "height": 265
        }
      },
      "source": [
        "cols = ['LSTAT', 'INDUS', 'NOX', 'RM', 'MEDV']\n",
        "hm = sns.heatmap(boston_df[cols].corr(), cbar=True, annot=True)"
      ],
      "execution_count": 0,
      "outputs": [
        {
          "output_type": "display_data",
          "data": {
            "image/png": "[encoded data removed]",
            "text/plain": [
              "<Figure size 432x288 with 2 Axes>"
            ]
          },
          "metadata": {
            "tags": []
          }
        }
      ]
    },
    {
      "cell_type": "markdown",
      "metadata": {
        "id": "aeuqWFvims77",
        "colab_type": "text"
      },
      "source": [
        "Спасибо за онлайн курс! "
      ]
    },
    {
      "cell_type": "markdown",
      "metadata": {
        "id": "PCo3suquoJhE",
        "colab_type": "text"
      },
      "source": [
        "Как зависит нижний уровень населеиня от средней стоимости на квартиры в Дании в 1980 года \n"
      ]
    },
    {
      "cell_type": "markdown",
      "metadata": {
        "id": "MzLVqaVmnJH7",
        "colab_type": "text"
      },
      "source": [
        "Я выбираю x з"
      ]
    },
    {
      "cell_type": "code",
      "metadata": {
        "id": "yVZ3zmhKJfX9",
        "colab_type": "code",
        "outputId": "86d8de1a-f909-4bf1-89c6-677b7d0eaa8e",
        "colab": {
          "base_uri": "https://localhost:8080/",
          "height": 34
        }
      },
      "source": [
        "x = []\n",
        "y = []\n",
        "\n",
        "for i in range(len(boston_df[['LSTAT']].values.tolist())):\n",
        "  x.append(boston_df[['LSTAT']].values.tolist()[i][0])\n",
        "for i in range(len(boston_df['MEDV'].values.tolist())):\n",
        "  y.append(boston_df['MEDV'].values.tolist()[i])\n",
        "\n",
        "\n",
        "\n",
        "x = np.array(x)\n",
        "\n",
        "y =  np.array(y)"
      ],
      "execution_count": 0,
      "outputs": [
        {
          "output_type": "stream",
          "text": [
            "Коэффициент корреляции Пирсона  -0.7376627261740145\n"
          ],
          "name": "stdout"
        }
      ]
    },
    {
      "cell_type": "markdown",
      "metadata": {
        "id": "gcRu6if2WUJ-",
        "colab_type": "text"
      },
      "source": [
        "А теперь посчитаем предложенный вами коэффициент корреляции Пирсона как вы просили."
      ]
    },
    {
      "cell_type": "code",
      "metadata": {
        "id": "tYk541nGfCWT",
        "colab_type": "code",
        "colab": {}
      },
      "source": [
        "import itertools \n",
        "\n",
        "def pearsonr(x, y):\n",
        "  # Assume len(x) == len(y)\n",
        "  n = len(x)\n",
        "  sum_x = float(sum(x))\n",
        "  sum_y = float(sum(y))\n",
        "  sum_x_sq = sum(map(lambda x: pow(x, 2), x))\n",
        "  sum_y_sq = sum(map(lambda x: pow(x, 2), y))\n",
        "  psum = sum(map(lambda x, y: x * y, x, y))\n",
        "  num = psum - (sum_x * sum_y/n)\n",
        "  den = pow((sum_x_sq - pow(sum_x, 2) / n) * (sum_y_sq - pow(sum_y, 2) / n), 0.5)\n",
        "  if den == 0: return 0\n",
        "  return num / den"
      ],
      "execution_count": 0,
      "outputs": []
    },
    {
      "cell_type": "code",
      "metadata": {
        "id": "5wyLEwuOfH8R",
        "colab_type": "code",
        "outputId": "e15f4f11-3a1b-4039-96fe-2e572d1ab1b2",
        "colab": {
          "base_uri": "https://localhost:8080/",
          "height": 34
        }
      },
      "source": [
        "pearsonr(x,y)"
      ],
      "execution_count": 0,
      "outputs": [
        {
          "output_type": "execute_result",
          "data": {
            "text/plain": [
              "-0.73766272617403"
            ]
          },
          "metadata": {
            "tags": []
          },
          "execution_count": 167
        }
      ]
    },
    {
      "cell_type": "markdown",
      "metadata": {
        "id": "rDE3UMkPiP_o",
        "colab_type": "text"
      },
      "source": [
        "Мы видим, что он отрицательный, что не страшно, это значит что график будет направлен вниз. И надо брать по модулю $|r_{xy}| \\geq 0.7$, моя система строит для любых выборок(главное подавать nparray). И у нас вышло что полученный $|r_{xy}| \\geq $ 0.7"
      ]
    },
    {
      "cell_type": "markdown",
      "metadata": {
        "id": "CiflFUhNhkGy",
        "colab_type": "text"
      },
      "source": [
        "Он уже совпал с графиком, что уже хорошо! Но он медленный, хочу добавить производительности. "
      ]
    },
    {
      "cell_type": "markdown",
      "metadata": {
        "id": "Idpc7BMTfYIi",
        "colab_type": "text"
      },
      "source": [
        "Вариант расчета 2"
      ]
    },
    {
      "cell_type": "code",
      "metadata": {
        "id": "fNiN8MEvbHpu",
        "colab_type": "code",
        "outputId": "e32e1872-ffce-4097-b098-0805a11ff8f8",
        "colab": {
          "base_uri": "https://localhost:8080/",
          "height": 34
        }
      },
      "source": [
        "import statistics\n",
        "import numpy as np\n",
        "def rxy(masx,masy):\n",
        "  xmean = np.mean(masx)\n",
        "  ymean = np.mean(masy)\n",
        "  covXY = 0\n",
        "  Dsx = 0\n",
        "  Dsy = 0\n",
        "  for i in range(len(masx)):\n",
        "    covXY+= ((masx[i]-xmean)*(masy[i]-ymean))\n",
        "    Dsx+= (masx[i]-xmean)**2\n",
        "    Dsy+= (masy[i]-ymean)**2\n",
        "  Dmasx = np.var(masx)\n",
        "  Dmasy = np.var(masy)\n",
        "  return covXY/(Dsx*Dsy)**(0.5)\n",
        "\n",
        "print('Коэффициент корреляции Пирсона ', rxy(x, y))"
      ],
      "execution_count": 0,
      "outputs": [
        {
          "output_type": "stream",
          "text": [
            "Коэффициент корреляции Пирсона  -0.7376627261740145\n"
          ],
          "name": "stdout"
        }
      ]
    },
    {
      "cell_type": "code",
      "metadata": {
        "id": "nm17djQjbP6w",
        "colab_type": "code",
        "colab": {}
      },
      "source": [
        "# print(x)\n",
        "# print(y)"
      ],
      "execution_count": 0,
      "outputs": []
    },
    {
      "cell_type": "markdown",
      "metadata": {
        "id": "yRkoHcysi_iN",
        "colab_type": "text"
      },
      "source": [
        "# **Построение графика!** "
      ]
    },
    {
      "cell_type": "code",
      "metadata": {
        "id": "hq6XHsjGJuqv",
        "colab_type": "code",
        "outputId": "01fd3a11-5677-4035-c7a6-7e8c8fb2a1a1",
        "colab": {
          "base_uri": "https://localhost:8080/",
          "height": 333
        }
      },
      "source": [
        "# linear regression prediction with prediction interval\n",
        "from numpy.random import randn\n",
        "from numpy.random import seed\n",
        "from numpy import power\n",
        "from numpy import sqrt\n",
        "from numpy import mean\n",
        "from numpy import std\n",
        "from numpy import sum as arraysum\n",
        "from scipy.stats import linregress\n",
        "from matplotlib import pyplot\n",
        "\n",
        "\n",
        "# Создали полходящую зависимость для линейной регрессии \n",
        "b1, b0, r_value, p_value, std_err = linregress(x, y)\n",
        "print('b0=%.3f, b1=%.3f задание 1' % (b1, b0))      # ОТВЕТ НА ЗАДАНИЕ в 1 вычислить\n",
        "# делаем предсказания \n",
        "yhat = b0 + b1 * x\n",
        "# определяем новый ввод, ожидаемое значение и прогноз ибо хочу потом предсказывать \n",
        "x_in = x[0]\n",
        "y_out = y[0]\n",
        "yhat_out = yhat[0]\n",
        "# оцениваем stdev от yhat\n",
        "sum_errs = arraysum((y - yhat)**2)\n",
        "stdev = sqrt(1/(len(y)-2) * sum_errs)\n",
        "# рассчитаем интервал для прогнозирования\n",
        "interval = 1.96 * stdev\n",
        "print('Интервал для прогноза: %.3f' % interval)\n",
        "lower, upper = y_out - interval, y_out + interval\n",
        "print('95%% вероятность того, что истинное значение находится между %.3f and %.3f' % (lower, upper))\n",
        "print('истинное значение : %.3f' % yhat_out)\n",
        "# выведем выборку и прогноз и интервальный участок ! \n",
        "pyplot.scatter(x, y)\n",
        "pyplot.plot(x, yhat, color='red')\n",
        "pyplot.errorbar(x_in, yhat_out, yerr=interval, color='black', fmt='o')\n",
        "pyplot.show()"
      ],
      "execution_count": 0,
      "outputs": [
        {
          "output_type": "stream",
          "text": [
            "b0=-0.950, b1=34.554 задание 1\n",
            "Интервал для прогноза: 12.183\n",
            "95% вероятность того, что истинное значение находится между 11.817 and 36.183\n",
            "истинное значение : 29.823\n"
          ],
          "name": "stdout"
        },
        {
          "output_type": "display_data",
          "data": {
            "image/png": "[encoded data removed]",
            "text/plain": [
              "<Figure size 432x288 with 1 Axes>"
            ]
          },
          "metadata": {
            "tags": []
          }
        }
      ]
    },
    {
      "cell_type": "markdown",
      "metadata": {
        "id": "bo7FctxgoxWw",
        "colab_type": "text"
      },
      "source": [
        "\n",
        "\n",
        "---\n",
        "\n"
      ]
    },
    {
      "cell_type": "markdown",
      "metadata": {
        "id": "V_wA8PZspCod",
        "colab_type": "text"
      },
      "source": [
        "# Проверим еще данные! "
      ]
    },
    {
      "cell_type": "markdown",
      "metadata": {
        "id": "UI2sJ4nUozdi",
        "colab_type": "text"
      },
      "source": [
        "Загрузим данные из kaggle [afrika](https://www.kaggle.com/chirin/africa-economic-banking-and-systemic-crisis-data)"
      ]
    },
    {
      "cell_type": "code",
      "metadata": {
        "id": "8jB76dNwRz8l",
        "colab_type": "code",
        "colab": {}
      },
      "source": [
        "import requests\n",
        "import pandas as pd \n",
        "import warnings\n",
        "warnings.filterwarnings(\"ignore\")\n",
        "f=open(r'fin.csv',\"wb\") \n",
        "ufr = requests.get(\"https://drive.google.com/uc?authuser=0&id=19936w7s_BDQh0KXZmvlCQId_tgOMnQOT&export=download\") \n",
        "f.write(ufr.content) \n",
        "f.close()\n",
        "df = pd.read_csv(r\"fin.csv\")"
      ],
      "execution_count": 0,
      "outputs": []
    },
    {
      "cell_type": "code",
      "metadata": {
        "id": "JHN34Unqur41",
        "colab_type": "code",
        "outputId": "95316e06-f1b2-43ce-c4c0-92454ac390e8",
        "colab": {
          "base_uri": "https://localhost:8080/",
          "height": 224
        }
      },
      "source": [
        "df.head()"
      ],
      "execution_count": 0,
      "outputs": [
        {
          "output_type": "execute_result",
          "data": {
            "text/html": [
              "<div>\n",
              "<style scoped>\n",
              "    .dataframe tbody tr th:only-of-type {\n",
              "        vertical-align: middle;\n",
              "    }\n",
              "\n",
              "    .dataframe tbody tr th {\n",
              "        vertical-align: top;\n",
              "    }\n",
              "\n",
              "    .dataframe thead th {\n",
              "        text-align: right;\n",
              "    }\n",
              "</style>\n",
              "<table border=\"1\" class=\"dataframe\">\n",
              "  <thead>\n",
              "    <tr style=\"text-align: right;\">\n",
              "      <th></th>\n",
              "      <th>case</th>\n",
              "      <th>cc3</th>\n",
              "      <th>country</th>\n",
              "      <th>year</th>\n",
              "      <th>systemic_crisis</th>\n",
              "      <th>exch_usd</th>\n",
              "      <th>domestic_debt_in_default</th>\n",
              "      <th>sovereign_external_debt_default</th>\n",
              "      <th>gdp_weighted_default</th>\n",
              "      <th>inflation_annual_cpi</th>\n",
              "      <th>independence</th>\n",
              "      <th>currency_crises</th>\n",
              "      <th>inflation_crises</th>\n",
              "      <th>banking_crisis</th>\n",
              "    </tr>\n",
              "  </thead>\n",
              "  <tbody>\n",
              "    <tr>\n",
              "      <th>0</th>\n",
              "      <td>1</td>\n",
              "      <td>DZA</td>\n",
              "      <td>Algeria</td>\n",
              "      <td>1870</td>\n",
              "      <td>1</td>\n",
              "      <td>0.052264</td>\n",
              "      <td>0</td>\n",
              "      <td>0</td>\n",
              "      <td>0.0</td>\n",
              "      <td>3.441456</td>\n",
              "      <td>0</td>\n",
              "      <td>0</td>\n",
              "      <td>0</td>\n",
              "      <td>crisis</td>\n",
              "    </tr>\n",
              "    <tr>\n",
              "      <th>1</th>\n",
              "      <td>1</td>\n",
              "      <td>DZA</td>\n",
              "      <td>Algeria</td>\n",
              "      <td>1871</td>\n",
              "      <td>0</td>\n",
              "      <td>0.052798</td>\n",
              "      <td>0</td>\n",
              "      <td>0</td>\n",
              "      <td>0.0</td>\n",
              "      <td>14.149140</td>\n",
              "      <td>0</td>\n",
              "      <td>0</td>\n",
              "      <td>0</td>\n",
              "      <td>no_crisis</td>\n",
              "    </tr>\n",
              "    <tr>\n",
              "      <th>2</th>\n",
              "      <td>1</td>\n",
              "      <td>DZA</td>\n",
              "      <td>Algeria</td>\n",
              "      <td>1872</td>\n",
              "      <td>0</td>\n",
              "      <td>0.052274</td>\n",
              "      <td>0</td>\n",
              "      <td>0</td>\n",
              "      <td>0.0</td>\n",
              "      <td>-3.718593</td>\n",
              "      <td>0</td>\n",
              "      <td>0</td>\n",
              "      <td>0</td>\n",
              "      <td>no_crisis</td>\n",
              "    </tr>\n",
              "    <tr>\n",
              "      <th>3</th>\n",
              "      <td>1</td>\n",
              "      <td>DZA</td>\n",
              "      <td>Algeria</td>\n",
              "      <td>1873</td>\n",
              "      <td>0</td>\n",
              "      <td>0.051680</td>\n",
              "      <td>0</td>\n",
              "      <td>0</td>\n",
              "      <td>0.0</td>\n",
              "      <td>11.203897</td>\n",
              "      <td>0</td>\n",
              "      <td>0</td>\n",
              "      <td>0</td>\n",
              "      <td>no_crisis</td>\n",
              "    </tr>\n",
              "    <tr>\n",
              "      <th>4</th>\n",
              "      <td>1</td>\n",
              "      <td>DZA</td>\n",
              "      <td>Algeria</td>\n",
              "      <td>1874</td>\n",
              "      <td>0</td>\n",
              "      <td>0.051308</td>\n",
              "      <td>0</td>\n",
              "      <td>0</td>\n",
              "      <td>0.0</td>\n",
              "      <td>-3.848561</td>\n",
              "      <td>0</td>\n",
              "      <td>0</td>\n",
              "      <td>0</td>\n",
              "      <td>no_crisis</td>\n",
              "    </tr>\n",
              "  </tbody>\n",
              "</table>\n",
              "</div>"
            ],
            "text/plain": [
              "   case  cc3  country  ...  currency_crises  inflation_crises  banking_crisis\n",
              "0     1  DZA  Algeria  ...                0                 0          crisis\n",
              "1     1  DZA  Algeria  ...                0                 0       no_crisis\n",
              "2     1  DZA  Algeria  ...                0                 0       no_crisis\n",
              "3     1  DZA  Algeria  ...                0                 0       no_crisis\n",
              "4     1  DZA  Algeria  ...                0                 0       no_crisis\n",
              "\n",
              "[5 rows x 14 columns]"
            ]
          },
          "metadata": {
            "tags": []
          },
          "execution_count": 180
        }
      ]
    },
    {
      "cell_type": "code",
      "metadata": {
        "id": "Q-fVWLhWuh-u",
        "colab_type": "code",
        "outputId": "9eaa4124-cf6f-4a30-d6f3-b6b748d3ebca",
        "colab": {
          "base_uri": "https://localhost:8080/",
          "height": 423
        }
      },
      "source": [
        "hm = sns.heatmap(df.corr(), cbar=True, annot=True) "
      ],
      "execution_count": 0,
      "outputs": [
        {
          "output_type": "display_data",
          "data": {
            "image/png": "[encoded data removed]",
            "text/plain": [
              "<Figure size 432x288 with 2 Axes>"
            ]
          },
          "metadata": {
            "tags": []
          }
        }
      ]
    },
    {
      "cell_type": "markdown",
      "metadata": {
        "id": "9S3ZYpbi3ia3",
        "colab_type": "text"
      },
      "source": [
        "Видим, что нет зависимых данных в этом файле. "
      ]
    },
    {
      "cell_type": "markdown",
      "metadata": {
        "id": "ODv5SoYD4J_5",
        "colab_type": "text"
      },
      "source": [
        "\n",
        "\n",
        "---\n",
        "\n"
      ]
    },
    {
      "cell_type": "markdown",
      "metadata": {
        "id": "srls4GfT3avh",
        "colab_type": "text"
      },
      "source": [
        "Теперь проанализируем население!  Данные взяты с [сайт](https://datahub.io/core/population#data) "
      ]
    },
    {
      "cell_type": "code",
      "metadata": {
        "id": "1kmOWl7a4Br4",
        "colab_type": "code",
        "outputId": "9d79262b-8ecf-4678-9ea1-faf6e5ecec0a",
        "colab": {
          "base_uri": "https://localhost:8080/",
          "height": 419
        }
      },
      "source": [
        "import requests\n",
        "import pandas as pd \n",
        "import warnings\n",
        "warnings.filterwarnings(\"ignore\")\n",
        "f=open(r'population_csv.csv',\"wb\") \n",
        "ufr = requests.get(\"https://drive.google.com/uc?authuser=0&id=1SJtYLLpQTvtvCz_5GsH5QJSExyNmBT6R&export=download\") \n",
        "f.write(ufr.content) \n",
        "f.close()\n",
        "df = pd.read_csv(r\"population_csv.csv\")\n",
        "df"
      ],
      "execution_count": 0,
      "outputs": [
        {
          "output_type": "execute_result",
          "data": {
            "text/html": [
              "<div>\n",
              "<style scoped>\n",
              "    .dataframe tbody tr th:only-of-type {\n",
              "        vertical-align: middle;\n",
              "    }\n",
              "\n",
              "    .dataframe tbody tr th {\n",
              "        vertical-align: top;\n",
              "    }\n",
              "\n",
              "    .dataframe thead th {\n",
              "        text-align: right;\n",
              "    }\n",
              "</style>\n",
              "<table border=\"1\" class=\"dataframe\">\n",
              "  <thead>\n",
              "    <tr style=\"text-align: right;\">\n",
              "      <th></th>\n",
              "      <th>Country Name</th>\n",
              "      <th>Country Code</th>\n",
              "      <th>Year</th>\n",
              "      <th>Value</th>\n",
              "    </tr>\n",
              "  </thead>\n",
              "  <tbody>\n",
              "    <tr>\n",
              "      <th>0</th>\n",
              "      <td>Arab World</td>\n",
              "      <td>ARB</td>\n",
              "      <td>1960</td>\n",
              "      <td>92490932.0</td>\n",
              "    </tr>\n",
              "    <tr>\n",
              "      <th>1</th>\n",
              "      <td>Arab World</td>\n",
              "      <td>ARB</td>\n",
              "      <td>1961</td>\n",
              "      <td>95044497.0</td>\n",
              "    </tr>\n",
              "    <tr>\n",
              "      <th>2</th>\n",
              "      <td>Arab World</td>\n",
              "      <td>ARB</td>\n",
              "      <td>1962</td>\n",
              "      <td>97682294.0</td>\n",
              "    </tr>\n",
              "    <tr>\n",
              "      <th>3</th>\n",
              "      <td>Arab World</td>\n",
              "      <td>ARB</td>\n",
              "      <td>1963</td>\n",
              "      <td>100411076.0</td>\n",
              "    </tr>\n",
              "    <tr>\n",
              "      <th>4</th>\n",
              "      <td>Arab World</td>\n",
              "      <td>ARB</td>\n",
              "      <td>1964</td>\n",
              "      <td>103239902.0</td>\n",
              "    </tr>\n",
              "    <tr>\n",
              "      <th>...</th>\n",
              "      <td>...</td>\n",
              "      <td>...</td>\n",
              "      <td>...</td>\n",
              "      <td>...</td>\n",
              "    </tr>\n",
              "    <tr>\n",
              "      <th>14880</th>\n",
              "      <td>Zimbabwe</td>\n",
              "      <td>ZWE</td>\n",
              "      <td>2012</td>\n",
              "      <td>14710826.0</td>\n",
              "    </tr>\n",
              "    <tr>\n",
              "      <th>14881</th>\n",
              "      <td>Zimbabwe</td>\n",
              "      <td>ZWE</td>\n",
              "      <td>2013</td>\n",
              "      <td>15054506.0</td>\n",
              "    </tr>\n",
              "    <tr>\n",
              "      <th>14882</th>\n",
              "      <td>Zimbabwe</td>\n",
              "      <td>ZWE</td>\n",
              "      <td>2014</td>\n",
              "      <td>15411675.0</td>\n",
              "    </tr>\n",
              "    <tr>\n",
              "      <th>14883</th>\n",
              "      <td>Zimbabwe</td>\n",
              "      <td>ZWE</td>\n",
              "      <td>2015</td>\n",
              "      <td>15777451.0</td>\n",
              "    </tr>\n",
              "    <tr>\n",
              "      <th>14884</th>\n",
              "      <td>Zimbabwe</td>\n",
              "      <td>ZWE</td>\n",
              "      <td>2016</td>\n",
              "      <td>16150362.0</td>\n",
              "    </tr>\n",
              "  </tbody>\n",
              "</table>\n",
              "<p>14885 rows × 4 columns</p>\n",
              "</div>"
            ],
            "text/plain": [
              "      Country Name Country Code  Year        Value\n",
              "0       Arab World          ARB  1960   92490932.0\n",
              "1       Arab World          ARB  1961   95044497.0\n",
              "2       Arab World          ARB  1962   97682294.0\n",
              "3       Arab World          ARB  1963  100411076.0\n",
              "4       Arab World          ARB  1964  103239902.0\n",
              "...            ...          ...   ...          ...\n",
              "14880     Zimbabwe          ZWE  2012   14710826.0\n",
              "14881     Zimbabwe          ZWE  2013   15054506.0\n",
              "14882     Zimbabwe          ZWE  2014   15411675.0\n",
              "14883     Zimbabwe          ZWE  2015   15777451.0\n",
              "14884     Zimbabwe          ZWE  2016   16150362.0\n",
              "\n",
              "[14885 rows x 4 columns]"
            ]
          },
          "metadata": {
            "tags": []
          },
          "execution_count": 186
        }
      ]
    },
    {
      "cell_type": "code",
      "metadata": {
        "id": "HvEJL8xC4rb5",
        "colab_type": "code",
        "outputId": "3672d5ef-15c1-449b-acec-4269b585b310",
        "colab": {
          "base_uri": "https://localhost:8080/",
          "height": 419
        }
      },
      "source": [
        "df.head(100)"
      ],
      "execution_count": 0,
      "outputs": [
        {
          "output_type": "execute_result",
          "data": {
            "text/html": [
              "<div>\n",
              "<style scoped>\n",
              "    .dataframe tbody tr th:only-of-type {\n",
              "        vertical-align: middle;\n",
              "    }\n",
              "\n",
              "    .dataframe tbody tr th {\n",
              "        vertical-align: top;\n",
              "    }\n",
              "\n",
              "    .dataframe thead th {\n",
              "        text-align: right;\n",
              "    }\n",
              "</style>\n",
              "<table border=\"1\" class=\"dataframe\">\n",
              "  <thead>\n",
              "    <tr style=\"text-align: right;\">\n",
              "      <th></th>\n",
              "      <th>Country Name</th>\n",
              "      <th>Country Code</th>\n",
              "      <th>Year</th>\n",
              "      <th>Value</th>\n",
              "    </tr>\n",
              "  </thead>\n",
              "  <tbody>\n",
              "    <tr>\n",
              "      <th>0</th>\n",
              "      <td>Arab World</td>\n",
              "      <td>ARB</td>\n",
              "      <td>1960</td>\n",
              "      <td>92490932.0</td>\n",
              "    </tr>\n",
              "    <tr>\n",
              "      <th>1</th>\n",
              "      <td>Arab World</td>\n",
              "      <td>ARB</td>\n",
              "      <td>1961</td>\n",
              "      <td>95044497.0</td>\n",
              "    </tr>\n",
              "    <tr>\n",
              "      <th>2</th>\n",
              "      <td>Arab World</td>\n",
              "      <td>ARB</td>\n",
              "      <td>1962</td>\n",
              "      <td>97682294.0</td>\n",
              "    </tr>\n",
              "    <tr>\n",
              "      <th>3</th>\n",
              "      <td>Arab World</td>\n",
              "      <td>ARB</td>\n",
              "      <td>1963</td>\n",
              "      <td>100411076.0</td>\n",
              "    </tr>\n",
              "    <tr>\n",
              "      <th>4</th>\n",
              "      <td>Arab World</td>\n",
              "      <td>ARB</td>\n",
              "      <td>1964</td>\n",
              "      <td>103239902.0</td>\n",
              "    </tr>\n",
              "    <tr>\n",
              "      <th>...</th>\n",
              "      <td>...</td>\n",
              "      <td>...</td>\n",
              "      <td>...</td>\n",
              "      <td>...</td>\n",
              "    </tr>\n",
              "    <tr>\n",
              "      <th>95</th>\n",
              "      <td>Caribbean small states</td>\n",
              "      <td>CSS</td>\n",
              "      <td>1998</td>\n",
              "      <td>6438587.0</td>\n",
              "    </tr>\n",
              "    <tr>\n",
              "      <th>96</th>\n",
              "      <td>Caribbean small states</td>\n",
              "      <td>CSS</td>\n",
              "      <td>1999</td>\n",
              "      <td>6484510.0</td>\n",
              "    </tr>\n",
              "    <tr>\n",
              "      <th>97</th>\n",
              "      <td>Caribbean small states</td>\n",
              "      <td>CSS</td>\n",
              "      <td>2000</td>\n",
              "      <td>6530691.0</td>\n",
              "    </tr>\n",
              "    <tr>\n",
              "      <th>98</th>\n",
              "      <td>Caribbean small states</td>\n",
              "      <td>CSS</td>\n",
              "      <td>2001</td>\n",
              "      <td>6577216.0</td>\n",
              "    </tr>\n",
              "    <tr>\n",
              "      <th>99</th>\n",
              "      <td>Caribbean small states</td>\n",
              "      <td>CSS</td>\n",
              "      <td>2002</td>\n",
              "      <td>6623792.0</td>\n",
              "    </tr>\n",
              "  </tbody>\n",
              "</table>\n",
              "<p>100 rows × 4 columns</p>\n",
              "</div>"
            ],
            "text/plain": [
              "              Country Name Country Code  Year        Value\n",
              "0               Arab World          ARB  1960   92490932.0\n",
              "1               Arab World          ARB  1961   95044497.0\n",
              "2               Arab World          ARB  1962   97682294.0\n",
              "3               Arab World          ARB  1963  100411076.0\n",
              "4               Arab World          ARB  1964  103239902.0\n",
              "..                     ...          ...   ...          ...\n",
              "95  Caribbean small states          CSS  1998    6438587.0\n",
              "96  Caribbean small states          CSS  1999    6484510.0\n",
              "97  Caribbean small states          CSS  2000    6530691.0\n",
              "98  Caribbean small states          CSS  2001    6577216.0\n",
              "99  Caribbean small states          CSS  2002    6623792.0\n",
              "\n",
              "[100 rows x 4 columns]"
            ]
          },
          "metadata": {
            "tags": []
          },
          "execution_count": 187
        }
      ]
    },
    {
      "cell_type": "markdown",
      "metadata": {
        "id": "wqOpPrsM52f7",
        "colab_type": "text"
      },
      "source": [
        "Так подключили, теперь посмотрим на корреляцию. население страны от времени.\n",
        "\n",
        "Подготовка данных для вывода отношений "
      ]
    },
    {
      "cell_type": "code",
      "metadata": {
        "id": "DpvPusYRDYYt",
        "colab_type": "code",
        "colab": {}
      },
      "source": [
        "data = pd.pivot_table(df, values='Value', \n",
        "                     index=['Country Name'], \n",
        "                     columns='Year')"
      ],
      "execution_count": 0,
      "outputs": []
    },
    {
      "cell_type": "code",
      "metadata": {
        "id": "e5T5-uUaFnki",
        "colab_type": "code",
        "outputId": "be245789-15cf-4bed-cf1a-357084c3dfd4",
        "colab": {
          "base_uri": "https://localhost:8080/",
          "height": 538
        }
      },
      "source": [
        "data"
      ],
      "execution_count": 0,
      "outputs": [
        {
          "output_type": "execute_result",
          "data": {
            "text/html": [
              "<div>\n",
              "<style scoped>\n",
              "    .dataframe tbody tr th:only-of-type {\n",
              "        vertical-align: middle;\n",
              "    }\n",
              "\n",
              "    .dataframe tbody tr th {\n",
              "        vertical-align: top;\n",
              "    }\n",
              "\n",
              "    .dataframe thead th {\n",
              "        text-align: right;\n",
              "    }\n",
              "</style>\n",
              "<table border=\"1\" class=\"dataframe\">\n",
              "  <thead>\n",
              "    <tr style=\"text-align: right;\">\n",
              "      <th>Year</th>\n",
              "      <th>1960</th>\n",
              "      <th>1961</th>\n",
              "      <th>1962</th>\n",
              "      <th>1963</th>\n",
              "      <th>1964</th>\n",
              "      <th>1965</th>\n",
              "      <th>1966</th>\n",
              "      <th>1967</th>\n",
              "      <th>1968</th>\n",
              "      <th>1969</th>\n",
              "      <th>1970</th>\n",
              "      <th>1971</th>\n",
              "      <th>1972</th>\n",
              "      <th>1973</th>\n",
              "      <th>1974</th>\n",
              "      <th>1975</th>\n",
              "      <th>1976</th>\n",
              "      <th>1977</th>\n",
              "      <th>1978</th>\n",
              "      <th>1979</th>\n",
              "      <th>1980</th>\n",
              "      <th>1981</th>\n",
              "      <th>1982</th>\n",
              "      <th>1983</th>\n",
              "      <th>1984</th>\n",
              "      <th>1985</th>\n",
              "      <th>1986</th>\n",
              "      <th>1987</th>\n",
              "      <th>1988</th>\n",
              "      <th>1989</th>\n",
              "      <th>1990</th>\n",
              "      <th>1991</th>\n",
              "      <th>1992</th>\n",
              "      <th>1993</th>\n",
              "      <th>1994</th>\n",
              "      <th>1995</th>\n",
              "      <th>1996</th>\n",
              "      <th>1997</th>\n",
              "      <th>1998</th>\n",
              "      <th>1999</th>\n",
              "      <th>2000</th>\n",
              "      <th>2001</th>\n",
              "      <th>2002</th>\n",
              "      <th>2003</th>\n",
              "      <th>2004</th>\n",
              "      <th>2005</th>\n",
              "      <th>2006</th>\n",
              "      <th>2007</th>\n",
              "      <th>2008</th>\n",
              "      <th>2009</th>\n",
              "      <th>2010</th>\n",
              "      <th>2011</th>\n",
              "      <th>2012</th>\n",
              "      <th>2013</th>\n",
              "      <th>2014</th>\n",
              "      <th>2015</th>\n",
              "      <th>2016</th>\n",
              "    </tr>\n",
              "    <tr>\n",
              "      <th>Country Name</th>\n",
              "      <th></th>\n",
              "      <th></th>\n",
              "      <th></th>\n",
              "      <th></th>\n",
              "      <th></th>\n",
              "      <th></th>\n",
              "      <th></th>\n",
              "      <th></th>\n",
              "      <th></th>\n",
              "      <th></th>\n",
              "      <th></th>\n",
              "      <th></th>\n",
              "      <th></th>\n",
              "      <th></th>\n",
              "      <th></th>\n",
              "      <th></th>\n",
              "      <th></th>\n",
              "      <th></th>\n",
              "      <th></th>\n",
              "      <th></th>\n",
              "      <th></th>\n",
              "      <th></th>\n",
              "      <th></th>\n",
              "      <th></th>\n",
              "      <th></th>\n",
              "      <th></th>\n",
              "      <th></th>\n",
              "      <th></th>\n",
              "      <th></th>\n",
              "      <th></th>\n",
              "      <th></th>\n",
              "      <th></th>\n",
              "      <th></th>\n",
              "      <th></th>\n",
              "      <th></th>\n",
              "      <th></th>\n",
              "      <th></th>\n",
              "      <th></th>\n",
              "      <th></th>\n",
              "      <th></th>\n",
              "      <th></th>\n",
              "      <th></th>\n",
              "      <th></th>\n",
              "      <th></th>\n",
              "      <th></th>\n",
              "      <th></th>\n",
              "      <th></th>\n",
              "      <th></th>\n",
              "      <th></th>\n",
              "      <th></th>\n",
              "      <th></th>\n",
              "      <th></th>\n",
              "      <th></th>\n",
              "      <th></th>\n",
              "      <th></th>\n",
              "      <th></th>\n",
              "      <th></th>\n",
              "    </tr>\n",
              "  </thead>\n",
              "  <tbody>\n",
              "    <tr>\n",
              "      <th>Afghanistan</th>\n",
              "      <td>8.996351e+06</td>\n",
              "      <td>9.166764e+06</td>\n",
              "      <td>9.345868e+06</td>\n",
              "      <td>9.533954e+06</td>\n",
              "      <td>9.731361e+06</td>\n",
              "      <td>9.938414e+06</td>\n",
              "      <td>1.015233e+07</td>\n",
              "      <td>1.037263e+07</td>\n",
              "      <td>1.060435e+07</td>\n",
              "      <td>1.085443e+07</td>\n",
              "      <td>1.112612e+07</td>\n",
              "      <td>1.141782e+07</td>\n",
              "      <td>1.172194e+07</td>\n",
              "      <td>1.202782e+07</td>\n",
              "      <td>1.232154e+07</td>\n",
              "      <td>1.259029e+07</td>\n",
              "      <td>1.284030e+07</td>\n",
              "      <td>1.306754e+07</td>\n",
              "      <td>1.323773e+07</td>\n",
              "      <td>1.330670e+07</td>\n",
              "      <td>1.324837e+07</td>\n",
              "      <td>1.305395e+07</td>\n",
              "      <td>1.274964e+07</td>\n",
              "      <td>1.238927e+07</td>\n",
              "      <td>1.204712e+07</td>\n",
              "      <td>1.178305e+07</td>\n",
              "      <td>1.160104e+07</td>\n",
              "      <td>1.150276e+07</td>\n",
              "      <td>1.154089e+07</td>\n",
              "      <td>1.177761e+07</td>\n",
              "      <td>1.224911e+07</td>\n",
              "      <td>1.299366e+07</td>\n",
              "      <td>1.398123e+07</td>\n",
              "      <td>1.509510e+07</td>\n",
              "      <td>1.617272e+07</td>\n",
              "      <td>1.709954e+07</td>\n",
              "      <td>1.782288e+07</td>\n",
              "      <td>1.838160e+07</td>\n",
              "      <td>1.886400e+07</td>\n",
              "      <td>1.940368e+07</td>\n",
              "      <td>2.009376e+07</td>\n",
              "      <td>2.096646e+07</td>\n",
              "      <td>2.197992e+07</td>\n",
              "      <td>2.306485e+07</td>\n",
              "      <td>2.411898e+07</td>\n",
              "      <td>2.507080e+07</td>\n",
              "      <td>2.589345e+07</td>\n",
              "      <td>2.661679e+07</td>\n",
              "      <td>2.729403e+07</td>\n",
              "      <td>2.800433e+07</td>\n",
              "      <td>2.880317e+07</td>\n",
              "      <td>2.970860e+07</td>\n",
              "      <td>3.069696e+07</td>\n",
              "      <td>3.173169e+07</td>\n",
              "      <td>3.275802e+07</td>\n",
              "      <td>3.373649e+07</td>\n",
              "      <td>3.465603e+07</td>\n",
              "    </tr>\n",
              "    <tr>\n",
              "      <th>Albania</th>\n",
              "      <td>1.608800e+06</td>\n",
              "      <td>1.659800e+06</td>\n",
              "      <td>1.711319e+06</td>\n",
              "      <td>1.762621e+06</td>\n",
              "      <td>1.814135e+06</td>\n",
              "      <td>1.864791e+06</td>\n",
              "      <td>1.914573e+06</td>\n",
              "      <td>1.965598e+06</td>\n",
              "      <td>2.022272e+06</td>\n",
              "      <td>2.081695e+06</td>\n",
              "      <td>2.135479e+06</td>\n",
              "      <td>2.187853e+06</td>\n",
              "      <td>2.243126e+06</td>\n",
              "      <td>2.296752e+06</td>\n",
              "      <td>2.350124e+06</td>\n",
              "      <td>2.404831e+06</td>\n",
              "      <td>2.458526e+06</td>\n",
              "      <td>2.513546e+06</td>\n",
              "      <td>2.566266e+06</td>\n",
              "      <td>2.617832e+06</td>\n",
              "      <td>2.671997e+06</td>\n",
              "      <td>2.726056e+06</td>\n",
              "      <td>2.784278e+06</td>\n",
              "      <td>2.843960e+06</td>\n",
              "      <td>2.904429e+06</td>\n",
              "      <td>2.964762e+06</td>\n",
              "      <td>3.022635e+06</td>\n",
              "      <td>3.083605e+06</td>\n",
              "      <td>3.142336e+06</td>\n",
              "      <td>3.227943e+06</td>\n",
              "      <td>3.286542e+06</td>\n",
              "      <td>3.266790e+06</td>\n",
              "      <td>3.247039e+06</td>\n",
              "      <td>3.227287e+06</td>\n",
              "      <td>3.207536e+06</td>\n",
              "      <td>3.187784e+06</td>\n",
              "      <td>3.168033e+06</td>\n",
              "      <td>3.148281e+06</td>\n",
              "      <td>3.128530e+06</td>\n",
              "      <td>3.108778e+06</td>\n",
              "      <td>3.089027e+06</td>\n",
              "      <td>3.060173e+06</td>\n",
              "      <td>3.051010e+06</td>\n",
              "      <td>3.039616e+06</td>\n",
              "      <td>3.026939e+06</td>\n",
              "      <td>3.011487e+06</td>\n",
              "      <td>2.992547e+06</td>\n",
              "      <td>2.970017e+06</td>\n",
              "      <td>2.947314e+06</td>\n",
              "      <td>2.927519e+06</td>\n",
              "      <td>2.913021e+06</td>\n",
              "      <td>2.905195e+06</td>\n",
              "      <td>2.900401e+06</td>\n",
              "      <td>2.895092e+06</td>\n",
              "      <td>2.889104e+06</td>\n",
              "      <td>2.880703e+06</td>\n",
              "      <td>2.876101e+06</td>\n",
              "    </tr>\n",
              "    <tr>\n",
              "      <th>Algeria</th>\n",
              "      <td>1.112489e+07</td>\n",
              "      <td>1.140486e+07</td>\n",
              "      <td>1.169015e+07</td>\n",
              "      <td>1.198514e+07</td>\n",
              "      <td>1.229597e+07</td>\n",
              "      <td>1.262695e+07</td>\n",
              "      <td>1.298027e+07</td>\n",
              "      <td>1.335420e+07</td>\n",
              "      <td>1.374439e+07</td>\n",
              "      <td>1.414444e+07</td>\n",
              "      <td>1.455003e+07</td>\n",
              "      <td>1.496011e+07</td>\n",
              "      <td>1.537709e+07</td>\n",
              "      <td>1.580443e+07</td>\n",
              "      <td>1.624711e+07</td>\n",
              "      <td>1.670910e+07</td>\n",
              "      <td>1.719024e+07</td>\n",
              "      <td>1.769018e+07</td>\n",
              "      <td>1.821233e+07</td>\n",
              "      <td>1.876076e+07</td>\n",
              "      <td>1.933772e+07</td>\n",
              "      <td>1.994366e+07</td>\n",
              "      <td>2.057570e+07</td>\n",
              "      <td>2.122829e+07</td>\n",
              "      <td>2.189385e+07</td>\n",
              "      <td>2.256590e+07</td>\n",
              "      <td>2.324127e+07</td>\n",
              "      <td>2.391790e+07</td>\n",
              "      <td>2.459149e+07</td>\n",
              "      <td>2.525767e+07</td>\n",
              "      <td>2.591237e+07</td>\n",
              "      <td>2.655433e+07</td>\n",
              "      <td>2.718109e+07</td>\n",
              "      <td>2.778626e+07</td>\n",
              "      <td>2.836225e+07</td>\n",
              "      <td>2.890430e+07</td>\n",
              "      <td>2.941142e+07</td>\n",
              "      <td>2.988684e+07</td>\n",
              "      <td>3.033573e+07</td>\n",
              "      <td>3.076561e+07</td>\n",
              "      <td>3.118366e+07</td>\n",
              "      <td>3.159215e+07</td>\n",
              "      <td>3.199505e+07</td>\n",
              "      <td>3.240351e+07</td>\n",
              "      <td>3.283110e+07</td>\n",
              "      <td>3.328844e+07</td>\n",
              "      <td>3.377792e+07</td>\n",
              "      <td>3.430008e+07</td>\n",
              "      <td>3.486072e+07</td>\n",
              "      <td>3.546576e+07</td>\n",
              "      <td>3.611764e+07</td>\n",
              "      <td>3.681956e+07</td>\n",
              "      <td>3.756585e+07</td>\n",
              "      <td>3.833856e+07</td>\n",
              "      <td>3.911331e+07</td>\n",
              "      <td>3.987153e+07</td>\n",
              "      <td>4.060605e+07</td>\n",
              "    </tr>\n",
              "    <tr>\n",
              "      <th>American Samoa</th>\n",
              "      <td>2.001300e+04</td>\n",
              "      <td>2.048600e+04</td>\n",
              "      <td>2.111700e+04</td>\n",
              "      <td>2.188200e+04</td>\n",
              "      <td>2.269800e+04</td>\n",
              "      <td>2.352000e+04</td>\n",
              "      <td>2.432100e+04</td>\n",
              "      <td>2.511600e+04</td>\n",
              "      <td>2.588500e+04</td>\n",
              "      <td>2.661400e+04</td>\n",
              "      <td>2.729200e+04</td>\n",
              "      <td>2.791600e+04</td>\n",
              "      <td>2.849200e+04</td>\n",
              "      <td>2.901400e+04</td>\n",
              "      <td>2.948800e+04</td>\n",
              "      <td>2.993200e+04</td>\n",
              "      <td>3.032100e+04</td>\n",
              "      <td>3.068900e+04</td>\n",
              "      <td>3.110200e+04</td>\n",
              "      <td>3.167300e+04</td>\n",
              "      <td>3.245700e+04</td>\n",
              "      <td>3.349300e+04</td>\n",
              "      <td>3.473800e+04</td>\n",
              "      <td>3.616000e+04</td>\n",
              "      <td>3.768800e+04</td>\n",
              "      <td>3.924100e+04</td>\n",
              "      <td>4.083700e+04</td>\n",
              "      <td>4.245000e+04</td>\n",
              "      <td>4.404700e+04</td>\n",
              "      <td>4.559300e+04</td>\n",
              "      <td>4.703800e+04</td>\n",
              "      <td>4.837500e+04</td>\n",
              "      <td>4.959300e+04</td>\n",
              "      <td>5.072000e+04</td>\n",
              "      <td>5.180300e+04</td>\n",
              "      <td>5.286800e+04</td>\n",
              "      <td>5.392900e+04</td>\n",
              "      <td>5.494100e+04</td>\n",
              "      <td>5.590100e+04</td>\n",
              "      <td>5.677000e+04</td>\n",
              "      <td>5.752100e+04</td>\n",
              "      <td>5.817500e+04</td>\n",
              "      <td>5.873100e+04</td>\n",
              "      <td>5.911700e+04</td>\n",
              "      <td>5.926400e+04</td>\n",
              "      <td>5.911800e+04</td>\n",
              "      <td>5.865000e+04</td>\n",
              "      <td>5.790300e+04</td>\n",
              "      <td>5.703000e+04</td>\n",
              "      <td>5.622700e+04</td>\n",
              "      <td>5.563700e+04</td>\n",
              "      <td>5.532000e+04</td>\n",
              "      <td>5.523000e+04</td>\n",
              "      <td>5.530700e+04</td>\n",
              "      <td>5.543700e+04</td>\n",
              "      <td>5.553700e+04</td>\n",
              "      <td>5.559900e+04</td>\n",
              "    </tr>\n",
              "    <tr>\n",
              "      <th>Andorra</th>\n",
              "      <td>1.341100e+04</td>\n",
              "      <td>1.437500e+04</td>\n",
              "      <td>1.537000e+04</td>\n",
              "      <td>1.641200e+04</td>\n",
              "      <td>1.746900e+04</td>\n",
              "      <td>1.854900e+04</td>\n",
              "      <td>1.964700e+04</td>\n",
              "      <td>2.075800e+04</td>\n",
              "      <td>2.189000e+04</td>\n",
              "      <td>2.305800e+04</td>\n",
              "      <td>2.427600e+04</td>\n",
              "      <td>2.555900e+04</td>\n",
              "      <td>2.689200e+04</td>\n",
              "      <td>2.823200e+04</td>\n",
              "      <td>2.952000e+04</td>\n",
              "      <td>3.070500e+04</td>\n",
              "      <td>3.177700e+04</td>\n",
              "      <td>3.277100e+04</td>\n",
              "      <td>3.373700e+04</td>\n",
              "      <td>3.481800e+04</td>\n",
              "      <td>3.606700e+04</td>\n",
              "      <td>3.750000e+04</td>\n",
              "      <td>3.911400e+04</td>\n",
              "      <td>4.086700e+04</td>\n",
              "      <td>4.270600e+04</td>\n",
              "      <td>4.460000e+04</td>\n",
              "      <td>4.651700e+04</td>\n",
              "      <td>4.845500e+04</td>\n",
              "      <td>5.043400e+04</td>\n",
              "      <td>5.244800e+04</td>\n",
              "      <td>5.450900e+04</td>\n",
              "      <td>5.667100e+04</td>\n",
              "      <td>5.888800e+04</td>\n",
              "      <td>6.097100e+04</td>\n",
              "      <td>6.267700e+04</td>\n",
              "      <td>6.385000e+04</td>\n",
              "      <td>6.436000e+04</td>\n",
              "      <td>6.432700e+04</td>\n",
              "      <td>6.414200e+04</td>\n",
              "      <td>6.437000e+04</td>\n",
              "      <td>6.539000e+04</td>\n",
              "      <td>6.734100e+04</td>\n",
              "      <td>7.004900e+04</td>\n",
              "      <td>7.318200e+04</td>\n",
              "      <td>7.624400e+04</td>\n",
              "      <td>7.886700e+04</td>\n",
              "      <td>8.099100e+04</td>\n",
              "      <td>8.268300e+04</td>\n",
              "      <td>8.386100e+04</td>\n",
              "      <td>8.446200e+04</td>\n",
              "      <td>8.444900e+04</td>\n",
              "      <td>8.375100e+04</td>\n",
              "      <td>8.243100e+04</td>\n",
              "      <td>8.078800e+04</td>\n",
              "      <td>7.922300e+04</td>\n",
              "      <td>7.801400e+04</td>\n",
              "      <td>7.728100e+04</td>\n",
              "    </tr>\n",
              "    <tr>\n",
              "      <th>...</th>\n",
              "      <td>...</td>\n",
              "      <td>...</td>\n",
              "      <td>...</td>\n",
              "      <td>...</td>\n",
              "      <td>...</td>\n",
              "      <td>...</td>\n",
              "      <td>...</td>\n",
              "      <td>...</td>\n",
              "      <td>...</td>\n",
              "      <td>...</td>\n",
              "      <td>...</td>\n",
              "      <td>...</td>\n",
              "      <td>...</td>\n",
              "      <td>...</td>\n",
              "      <td>...</td>\n",
              "      <td>...</td>\n",
              "      <td>...</td>\n",
              "      <td>...</td>\n",
              "      <td>...</td>\n",
              "      <td>...</td>\n",
              "      <td>...</td>\n",
              "      <td>...</td>\n",
              "      <td>...</td>\n",
              "      <td>...</td>\n",
              "      <td>...</td>\n",
              "      <td>...</td>\n",
              "      <td>...</td>\n",
              "      <td>...</td>\n",
              "      <td>...</td>\n",
              "      <td>...</td>\n",
              "      <td>...</td>\n",
              "      <td>...</td>\n",
              "      <td>...</td>\n",
              "      <td>...</td>\n",
              "      <td>...</td>\n",
              "      <td>...</td>\n",
              "      <td>...</td>\n",
              "      <td>...</td>\n",
              "      <td>...</td>\n",
              "      <td>...</td>\n",
              "      <td>...</td>\n",
              "      <td>...</td>\n",
              "      <td>...</td>\n",
              "      <td>...</td>\n",
              "      <td>...</td>\n",
              "      <td>...</td>\n",
              "      <td>...</td>\n",
              "      <td>...</td>\n",
              "      <td>...</td>\n",
              "      <td>...</td>\n",
              "      <td>...</td>\n",
              "      <td>...</td>\n",
              "      <td>...</td>\n",
              "      <td>...</td>\n",
              "      <td>...</td>\n",
              "      <td>...</td>\n",
              "      <td>...</td>\n",
              "    </tr>\n",
              "    <tr>\n",
              "      <th>West Bank and Gaza</th>\n",
              "      <td>NaN</td>\n",
              "      <td>NaN</td>\n",
              "      <td>NaN</td>\n",
              "      <td>NaN</td>\n",
              "      <td>NaN</td>\n",
              "      <td>NaN</td>\n",
              "      <td>NaN</td>\n",
              "      <td>NaN</td>\n",
              "      <td>NaN</td>\n",
              "      <td>NaN</td>\n",
              "      <td>NaN</td>\n",
              "      <td>NaN</td>\n",
              "      <td>NaN</td>\n",
              "      <td>NaN</td>\n",
              "      <td>NaN</td>\n",
              "      <td>NaN</td>\n",
              "      <td>NaN</td>\n",
              "      <td>NaN</td>\n",
              "      <td>NaN</td>\n",
              "      <td>NaN</td>\n",
              "      <td>NaN</td>\n",
              "      <td>NaN</td>\n",
              "      <td>NaN</td>\n",
              "      <td>NaN</td>\n",
              "      <td>NaN</td>\n",
              "      <td>NaN</td>\n",
              "      <td>NaN</td>\n",
              "      <td>NaN</td>\n",
              "      <td>NaN</td>\n",
              "      <td>NaN</td>\n",
              "      <td>1.978248e+06</td>\n",
              "      <td>2.068845e+06</td>\n",
              "      <td>2.163591e+06</td>\n",
              "      <td>2.262676e+06</td>\n",
              "      <td>2.366298e+06</td>\n",
              "      <td>2.474666e+06</td>\n",
              "      <td>2.587997e+06</td>\n",
              "      <td>2.706518e+06</td>\n",
              "      <td>2.776568e+06</td>\n",
              "      <td>2.848431e+06</td>\n",
              "      <td>2.922153e+06</td>\n",
              "      <td>2.997784e+06</td>\n",
              "      <td>3.075373e+06</td>\n",
              "      <td>3.154969e+06</td>\n",
              "      <td>3.236626e+06</td>\n",
              "      <td>3.320396e+06</td>\n",
              "      <td>3.406334e+06</td>\n",
              "      <td>3.494496e+06</td>\n",
              "      <td>3.596688e+06</td>\n",
              "      <td>3.702218e+06</td>\n",
              "      <td>3.811102e+06</td>\n",
              "      <td>3.927051e+06</td>\n",
              "      <td>4.046901e+06</td>\n",
              "      <td>4.169506e+06</td>\n",
              "      <td>4.294682e+06</td>\n",
              "      <td>4.422143e+06</td>\n",
              "      <td>4.551566e+06</td>\n",
              "    </tr>\n",
              "    <tr>\n",
              "      <th>World</th>\n",
              "      <td>3.034193e+09</td>\n",
              "      <td>3.075115e+09</td>\n",
              "      <td>3.127961e+09</td>\n",
              "      <td>3.192794e+09</td>\n",
              "      <td>3.258201e+09</td>\n",
              "      <td>3.324952e+09</td>\n",
              "      <td>3.394865e+09</td>\n",
              "      <td>3.464440e+09</td>\n",
              "      <td>3.534821e+09</td>\n",
              "      <td>3.609384e+09</td>\n",
              "      <td>3.684766e+09</td>\n",
              "      <td>3.762198e+09</td>\n",
              "      <td>3.838925e+09</td>\n",
              "      <td>3.914858e+09</td>\n",
              "      <td>3.991431e+09</td>\n",
              "      <td>4.066268e+09</td>\n",
              "      <td>4.139151e+09</td>\n",
              "      <td>4.211782e+09</td>\n",
              "      <td>4.285609e+09</td>\n",
              "      <td>4.361295e+09</td>\n",
              "      <td>4.437690e+09</td>\n",
              "      <td>4.515765e+09</td>\n",
              "      <td>4.596813e+09</td>\n",
              "      <td>4.678526e+09</td>\n",
              "      <td>4.759982e+09</td>\n",
              "      <td>4.843067e+09</td>\n",
              "      <td>4.928822e+09</td>\n",
              "      <td>5.016799e+09</td>\n",
              "      <td>5.105702e+09</td>\n",
              "      <td>5.194731e+09</td>\n",
              "      <td>5.284886e+09</td>\n",
              "      <td>5.372078e+09</td>\n",
              "      <td>5.456141e+09</td>\n",
              "      <td>5.541076e+09</td>\n",
              "      <td>5.624840e+09</td>\n",
              "      <td>5.709757e+09</td>\n",
              "      <td>5.792568e+09</td>\n",
              "      <td>5.875398e+09</td>\n",
              "      <td>5.957237e+09</td>\n",
              "      <td>6.038067e+09</td>\n",
              "      <td>6.118075e+09</td>\n",
              "      <td>6.197638e+09</td>\n",
              "      <td>6.276824e+09</td>\n",
              "      <td>6.356260e+09</td>\n",
              "      <td>6.436347e+09</td>\n",
              "      <td>6.517021e+09</td>\n",
              "      <td>6.598421e+09</td>\n",
              "      <td>6.680423e+09</td>\n",
              "      <td>6.763746e+09</td>\n",
              "      <td>6.847215e+09</td>\n",
              "      <td>6.930657e+09</td>\n",
              "      <td>7.012844e+09</td>\n",
              "      <td>7.097401e+09</td>\n",
              "      <td>7.182860e+09</td>\n",
              "      <td>7.268986e+09</td>\n",
              "      <td>7.355220e+09</td>\n",
              "      <td>7.442136e+09</td>\n",
              "    </tr>\n",
              "    <tr>\n",
              "      <th>Yemen, Rep.</th>\n",
              "      <td>5.172135e+06</td>\n",
              "      <td>5.260501e+06</td>\n",
              "      <td>5.351799e+06</td>\n",
              "      <td>5.446063e+06</td>\n",
              "      <td>5.543339e+06</td>\n",
              "      <td>5.643643e+06</td>\n",
              "      <td>5.748588e+06</td>\n",
              "      <td>5.858638e+06</td>\n",
              "      <td>5.971407e+06</td>\n",
              "      <td>6.083619e+06</td>\n",
              "      <td>6.193810e+06</td>\n",
              "      <td>6.300554e+06</td>\n",
              "      <td>6.407295e+06</td>\n",
              "      <td>6.523452e+06</td>\n",
              "      <td>6.661566e+06</td>\n",
              "      <td>6.830692e+06</td>\n",
              "      <td>7.034868e+06</td>\n",
              "      <td>7.271872e+06</td>\n",
              "      <td>7.536764e+06</td>\n",
              "      <td>7.821552e+06</td>\n",
              "      <td>8.120497e+06</td>\n",
              "      <td>8.434017e+06</td>\n",
              "      <td>8.764621e+06</td>\n",
              "      <td>9.111097e+06</td>\n",
              "      <td>9.472170e+06</td>\n",
              "      <td>9.847899e+06</td>\n",
              "      <td>1.023273e+07</td>\n",
              "      <td>1.062858e+07</td>\n",
              "      <td>1.105150e+07</td>\n",
              "      <td>1.152327e+07</td>\n",
              "      <td>1.205704e+07</td>\n",
              "      <td>1.266161e+07</td>\n",
              "      <td>1.332558e+07</td>\n",
              "      <td>1.401724e+07</td>\n",
              "      <td>1.469269e+07</td>\n",
              "      <td>1.532065e+07</td>\n",
              "      <td>1.588945e+07</td>\n",
              "      <td>1.640895e+07</td>\n",
              "      <td>1.689621e+07</td>\n",
              "      <td>1.737810e+07</td>\n",
              "      <td>1.787472e+07</td>\n",
              "      <td>1.839014e+07</td>\n",
              "      <td>1.891918e+07</td>\n",
              "      <td>1.946209e+07</td>\n",
              "      <td>2.001707e+07</td>\n",
              "      <td>2.058293e+07</td>\n",
              "      <td>2.116053e+07</td>\n",
              "      <td>2.175160e+07</td>\n",
              "      <td>2.235639e+07</td>\n",
              "      <td>2.297493e+07</td>\n",
              "      <td>2.360678e+07</td>\n",
              "      <td>2.425221e+07</td>\n",
              "      <td>2.490997e+07</td>\n",
              "      <td>2.557632e+07</td>\n",
              "      <td>2.624633e+07</td>\n",
              "      <td>2.691621e+07</td>\n",
              "      <td>2.758421e+07</td>\n",
              "    </tr>\n",
              "    <tr>\n",
              "      <th>Zambia</th>\n",
              "      <td>3.044846e+06</td>\n",
              "      <td>3.140264e+06</td>\n",
              "      <td>3.240587e+06</td>\n",
              "      <td>3.345145e+06</td>\n",
              "      <td>3.452942e+06</td>\n",
              "      <td>3.563407e+06</td>\n",
              "      <td>3.676189e+06</td>\n",
              "      <td>3.791887e+06</td>\n",
              "      <td>3.912085e+06</td>\n",
              "      <td>4.038923e+06</td>\n",
              "      <td>4.173928e+06</td>\n",
              "      <td>4.317748e+06</td>\n",
              "      <td>4.469895e+06</td>\n",
              "      <td>4.629402e+06</td>\n",
              "      <td>4.794754e+06</td>\n",
              "      <td>4.964831e+06</td>\n",
              "      <td>5.139030e+06</td>\n",
              "      <td>5.317631e+06</td>\n",
              "      <td>5.501445e+06</td>\n",
              "      <td>5.691749e+06</td>\n",
              "      <td>5.889230e+06</td>\n",
              "      <td>6.094206e+06</td>\n",
              "      <td>6.305709e+06</td>\n",
              "      <td>6.521542e+06</td>\n",
              "      <td>6.738765e+06</td>\n",
              "      <td>6.955212e+06</td>\n",
              "      <td>7.170656e+06</td>\n",
              "      <td>7.385686e+06</td>\n",
              "      <td>7.600072e+06</td>\n",
              "      <td>7.813808e+06</td>\n",
              "      <td>8.027253e+06</td>\n",
              "      <td>8.239732e+06</td>\n",
              "      <td>8.452275e+06</td>\n",
              "      <td>8.669168e+06</td>\n",
              "      <td>8.896109e+06</td>\n",
              "      <td>9.137077e+06</td>\n",
              "      <td>9.394304e+06</td>\n",
              "      <td>9.666578e+06</td>\n",
              "      <td>9.950224e+06</td>\n",
              "      <td>1.023971e+07</td>\n",
              "      <td>1.053122e+07</td>\n",
              "      <td>1.082412e+07</td>\n",
              "      <td>1.112041e+07</td>\n",
              "      <td>1.142198e+07</td>\n",
              "      <td>1.173175e+07</td>\n",
              "      <td>1.205216e+07</td>\n",
              "      <td>1.238345e+07</td>\n",
              "      <td>1.272597e+07</td>\n",
              "      <td>1.308252e+07</td>\n",
              "      <td>1.345642e+07</td>\n",
              "      <td>1.385003e+07</td>\n",
              "      <td>1.426476e+07</td>\n",
              "      <td>1.469994e+07</td>\n",
              "      <td>1.515321e+07</td>\n",
              "      <td>1.562097e+07</td>\n",
              "      <td>1.610059e+07</td>\n",
              "      <td>1.659139e+07</td>\n",
              "    </tr>\n",
              "    <tr>\n",
              "      <th>Zimbabwe</th>\n",
              "      <td>3.747369e+06</td>\n",
              "      <td>3.870756e+06</td>\n",
              "      <td>3.999419e+06</td>\n",
              "      <td>4.132756e+06</td>\n",
              "      <td>4.269863e+06</td>\n",
              "      <td>4.410212e+06</td>\n",
              "      <td>4.553433e+06</td>\n",
              "      <td>4.700041e+06</td>\n",
              "      <td>4.851431e+06</td>\n",
              "      <td>5.009514e+06</td>\n",
              "      <td>5.175618e+06</td>\n",
              "      <td>5.351195e+06</td>\n",
              "      <td>5.535874e+06</td>\n",
              "      <td>5.727044e+06</td>\n",
              "      <td>5.920943e+06</td>\n",
              "      <td>6.115370e+06</td>\n",
              "      <td>6.308300e+06</td>\n",
              "      <td>6.501893e+06</td>\n",
              "      <td>6.703182e+06</td>\n",
              "      <td>6.921790e+06</td>\n",
              "      <td>7.164172e+06</td>\n",
              "      <td>7.431940e+06</td>\n",
              "      <td>7.721536e+06</td>\n",
              "      <td>8.027565e+06</td>\n",
              "      <td>8.342195e+06</td>\n",
              "      <td>8.658857e+06</td>\n",
              "      <td>8.976205e+06</td>\n",
              "      <td>9.293283e+06</td>\n",
              "      <td>9.604302e+06</td>\n",
              "      <td>9.902540e+06</td>\n",
              "      <td>1.018311e+07</td>\n",
              "      <td>1.044304e+07</td>\n",
              "      <td>1.068287e+07</td>\n",
              "      <td>1.090576e+07</td>\n",
              "      <td>1.111695e+07</td>\n",
              "      <td>1.132035e+07</td>\n",
              "      <td>1.151826e+07</td>\n",
              "      <td>1.171000e+07</td>\n",
              "      <td>1.189327e+07</td>\n",
              "      <td>1.206454e+07</td>\n",
              "      <td>1.222225e+07</td>\n",
              "      <td>1.236616e+07</td>\n",
              "      <td>1.250052e+07</td>\n",
              "      <td>1.263390e+07</td>\n",
              "      <td>1.277751e+07</td>\n",
              "      <td>1.294003e+07</td>\n",
              "      <td>1.312427e+07</td>\n",
              "      <td>1.332991e+07</td>\n",
              "      <td>1.355847e+07</td>\n",
              "      <td>1.381060e+07</td>\n",
              "      <td>1.408632e+07</td>\n",
              "      <td>1.438665e+07</td>\n",
              "      <td>1.471083e+07</td>\n",
              "      <td>1.505451e+07</td>\n",
              "      <td>1.541168e+07</td>\n",
              "      <td>1.577745e+07</td>\n",
              "      <td>1.615036e+07</td>\n",
              "    </tr>\n",
              "  </tbody>\n",
              "</table>\n",
              "<p>263 rows × 57 columns</p>\n",
              "</div>"
            ],
            "text/plain": [
              "Year                        1960          1961  ...          2015          2016\n",
              "Country Name                                    ...                            \n",
              "Afghanistan         8.996351e+06  9.166764e+06  ...  3.373649e+07  3.465603e+07\n",
              "Albania             1.608800e+06  1.659800e+06  ...  2.880703e+06  2.876101e+06\n",
              "Algeria             1.112489e+07  1.140486e+07  ...  3.987153e+07  4.060605e+07\n",
              "American Samoa      2.001300e+04  2.048600e+04  ...  5.553700e+04  5.559900e+04\n",
              "Andorra             1.341100e+04  1.437500e+04  ...  7.801400e+04  7.728100e+04\n",
              "...                          ...           ...  ...           ...           ...\n",
              "West Bank and Gaza           NaN           NaN  ...  4.422143e+06  4.551566e+06\n",
              "World               3.034193e+09  3.075115e+09  ...  7.355220e+09  7.442136e+09\n",
              "Yemen, Rep.         5.172135e+06  5.260501e+06  ...  2.691621e+07  2.758421e+07\n",
              "Zambia              3.044846e+06  3.140264e+06  ...  1.610059e+07  1.659139e+07\n",
              "Zimbabwe            3.747369e+06  3.870756e+06  ...  1.577745e+07  1.615036e+07\n",
              "\n",
              "[263 rows x 57 columns]"
            ]
          },
          "metadata": {
            "tags": []
          },
          "execution_count": 226
        }
      ]
    },
    {
      "cell_type": "code",
      "metadata": {
        "id": "6phgnvY-FF1N",
        "colab_type": "code",
        "outputId": "3f572765-ac31-4222-b1d9-da368f55637b",
        "colab": {
          "base_uri": "https://localhost:8080/",
          "height": 298
        }
      },
      "source": [
        "hm = sns.heatmap(data.corr(), cbar=True, annot=True) \n",
        "\n"
      ],
      "execution_count": 0,
      "outputs": [
        {
          "output_type": "display_data",
          "data": {
            "image/png": "[encoded data removed]",
            "text/plain": [
              "<Figure size 432x288 with 2 Axes>"
            ]
          },
          "metadata": {
            "tags": []
          }
        }
      ]
    },
    {
      "cell_type": "markdown",
      "metadata": {
        "id": "2HMd02hzHPOb",
        "colab_type": "text"
      },
      "source": [
        "Ладно проанализируем население Японии. "
      ]
    },
    {
      "cell_type": "code",
      "metadata": {
        "id": "UWgQSPYi4laO",
        "colab_type": "code",
        "outputId": "34662cca-5246-4707-92cd-6f1f37b7d79a",
        "colab": {
          "base_uri": "https://localhost:8080/",
          "height": 265
        }
      },
      "source": [
        "import matplotlib.pyplot as plt\n",
        "ax = sns.heatmap(df[df['Country Name']=='Japan'].corr(), cbar=True, annot=True) \n"
      ],
      "execution_count": 0,
      "outputs": [
        {
          "output_type": "display_data",
          "data": {
            "image/png": "[encoded data removed]",
            "text/plain": [
              "<Figure size 432x288 with 2 Axes>"
            ]
          },
          "metadata": {
            "tags": []
          }
        }
      ]
    },
    {
      "cell_type": "code",
      "metadata": {
        "id": "xN7bdzvMvFX6",
        "colab_type": "code",
        "colab": {}
      },
      "source": [
        "x = df['Year'].unique()\n",
        "y = df[df['Country Name']=='Japan']['Value'].tolist()\n",
        "\n",
        "\n",
        "\n",
        "\n",
        "x = np.array(x)\n",
        "\n",
        "y =  np.array(y)"
      ],
      "execution_count": 0,
      "outputs": []
    },
    {
      "cell_type": "code",
      "metadata": {
        "id": "cUYmhrSAu_L_",
        "colab_type": "code",
        "outputId": "2a25ac95-8df8-402a-d1bd-2960774513a7",
        "colab": {
          "base_uri": "https://localhost:8080/",
          "height": 344
        }
      },
      "source": [
        "# linear regression prediction with prediction interval\n",
        "from numpy.random import randn\n",
        "from numpy.random import seed\n",
        "from numpy import power\n",
        "from numpy import sqrt\n",
        "from numpy import mean\n",
        "from numpy import std\n",
        "from numpy import sum as arraysum\n",
        "from scipy.stats import linregress\n",
        "from matplotlib import pyplot\n",
        "\n",
        "\n",
        "# Создали полходящую зависимость для линейной регрессии \n",
        "b1, b0, r_value, p_value, std_err = linregress(x, y)\n",
        "print('b0=%.3f, b1=%.3f задание 1' % (b1, b0))      # ОТВЕТ НА ЗАДАНИЕ в 1 вычислить\n",
        "# делаем предсказания \n",
        "yhat = b0 + b1 * x\n",
        "# определяем новый ввод, ожидаемое значение и прогноз ибо хочу потом предсказывать \n",
        "x_in = x[0]\n",
        "y_out = y[0]\n",
        "yhat_out = yhat[0]\n",
        "# оцениваем stdev от yhat\n",
        "sum_errs = arraysum((y - yhat)**2)\n",
        "stdev = sqrt(1/(len(y)-2) * sum_errs)\n",
        "# рассчитаем интервал для прогнозирования\n",
        "interval = 1.96 * stdev\n",
        "print('Интервал для прогноза: %.3f' % interval)\n",
        "lower, upper = y_out - interval, y_out + interval\n",
        "print('95%% вероятность того, что истинное значение находится между %.3f and %.3f' % (lower, upper))\n",
        "print('истинное значение : %.3f' % yhat_out)\n",
        "# выведем выборку и прогноз и интервальный участок ! \n",
        "pyplot.scatter(x, y)\n",
        "pyplot.plot(x, yhat, color='red')\n",
        "pyplot.errorbar(x_in, yhat_out, yerr=interval, color='black', fmt='o')\n",
        "pyplot.show()"
      ],
      "execution_count": 0,
      "outputs": [
        {
          "output_type": "stream",
          "text": [
            "b0=622798.502, b1=-1120420087.592 задание 1\n",
            "Интервал для прогноза: 8063961.956\n",
            "95% вероятность того, что истинное значение находится между 84436610.044 and 100564533.956\n",
            "истинное значение : 100264976.728\n"
          ],
          "name": "stdout"
        },
        {
          "output_type": "display_data",
          "data": {
            "image/png": "[encoded data removed]",
            "text/plain": [
              "<Figure size 432x288 with 1 Axes>"
            ]
          },
          "metadata": {
            "tags": []
          }
        }
      ]
    },
    {
      "cell_type": "code",
      "metadata": {
        "id": "7LnvqV88HuLb",
        "colab_type": "code",
        "colab": {}
      },
      "source": [
        ""
      ],
      "execution_count": 0,
      "outputs": []
    }
  ]
}